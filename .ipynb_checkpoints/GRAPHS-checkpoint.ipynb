{
 "cells": [
  {
   "cell_type": "markdown",
   "id": "c30da329",
   "metadata": {},
   "source": [
    "# DEPTH FIRST SEARCH    \n",
    "## 1. Start with a vertex (node) in the graph and mark it as visited.\n",
    "## 2. Check if there are any adjacent vertices to the current vertex that have not been visited yet.\n",
    "## 3. If there is an unvisited adjacent vertex, recursively apply the DFS algorithm to that vertex.\n",
    "## 4. If there are no unvisited adjacent vertices, backtrack to the previous vertex and repeat step 2.\n",
    "## 5. Repeat steps 2 to 4 until all vertices in the graph have been visited."
   ]
  },
  {
   "cell_type": "code",
   "execution_count": 18,
   "id": "06437cce",
   "metadata": {},
   "outputs": [],
   "source": [
    "\n",
    "class DFS:\n",
    "    def __init__(self,graph_dict):\n",
    "        self.graph_dict=graph_dict\n",
    "        self.stack=[]\n",
    "    def traverse(self,sourceNode):\n",
    "        print(\"this......=>\",self.graph_dict)\n",
    "        self.stack.append(sourceNode)\n",
    "        while len(self.stack)>0:\n",
    "            currentNode=self.stack.pop()\n",
    "            print(f\"->{currentNode}\",end=\"\")\n",
    "            currentNeighbours=self.graph_dict[currentNode]\n",
    "            self.stack.extend(currentNeighbours)\n",
    "    def traverseRecurrsive(self,sourceNode):\n",
    "        print(f\"->{sourceNode}\",end=\"\")\n",
    "        for node in self.graph_dict[sourceNode]:\n",
    "            self.traverseRecurrsive(node)\n"
   ]
  },
  {
   "cell_type": "code",
   "execution_count": 19,
   "id": "c3dcd0fe",
   "metadata": {},
   "outputs": [],
   "source": [
    "graph={\n",
    "    'a':['b','c'],\n",
    "    'b':['d'],\n",
    "    'c':['e'],\n",
    "    'd':['f'],\n",
    "    'e':[],\n",
    "    'f':[],\n",
    "}"
   ]
  },
  {
   "cell_type": "code",
   "execution_count": 20,
   "id": "300c13ea",
   "metadata": {},
   "outputs": [],
   "source": [
    "graphdfs=DFS(graph)"
   ]
  },
  {
   "cell_type": "code",
   "execution_count": 21,
   "id": "64c4552d",
   "metadata": {
    "scrolled": true
   },
   "outputs": [
    {
     "name": "stdout",
     "output_type": "stream",
     "text": [
      "this......=> {'a': ['b', 'c'], 'b': ['d'], 'c': ['e'], 'd': ['f'], 'e': [], 'f': []}\n",
      "->a->c->e->b->d->f"
     ]
    }
   ],
   "source": [
    "graphdfs.traverse('a')"
   ]
  },
  {
   "cell_type": "code",
   "execution_count": 22,
   "id": "884414fc",
   "metadata": {},
   "outputs": [
    {
     "name": "stdout",
     "output_type": "stream",
     "text": [
      "->a->b->d->f->c->e"
     ]
    }
   ],
   "source": [
    "graphdfs.traverseRecurrsive('a')"
   ]
  },
  {
   "cell_type": "markdown",
   "id": "bfe091cf",
   "metadata": {},
   "source": [
    "## BREADTH FIRST SEARCH\n",
    "### 1. Start with a vertex (node) in the graph and mark it as visited.\n",
    "### 2. Enqueue the starting vertex.\n",
    "### 3. Dequeue the first vertex in the queue and process it.\n",
    "### 4. Check if there are any adjacent vertices to the current vertex that have not been visited yet.\n",
    "### 5. If there is an unvisited adjacent vertex, mark it as visited and enqueue it.\n",
    "### 6. If there are no unvisited adjacent vertices, repeat step 3.\n",
    "### 7. Repeat steps 3 to 6 until the queue is empty.\n",
    "### 8. All the visited vertices are the nodes reachable from the starting vertex.\n"
   ]
  },
  {
   "cell_type": "code",
   "execution_count": 43,
   "id": "b1ee6567",
   "metadata": {},
   "outputs": [],
   "source": [
    "\n",
    "class BFS:\n",
    "    def __init__(self,graph_dict):\n",
    "        self.graph_dict=graph_dict\n",
    "        self.queue=[]\n",
    "    def traverse(self,sourceNode):\n",
    "        self.queue.insert(0,sourceNode)\n",
    "        while len(self.queue)>0:\n",
    "            currentNode=self.queue.pop()\n",
    "            print('->'+currentNode,end=\"\")\n",
    "            self.queue=self.graph_dict[currentNode]+self.queue       \n",
    "        "
   ]
  },
  {
   "cell_type": "code",
   "execution_count": 44,
   "id": "20773250",
   "metadata": {},
   "outputs": [
    {
     "name": "stdout",
     "output_type": "stream",
     "text": [
      "->a->c->b->e->d->f"
     ]
    }
   ],
   "source": [
    "graphBfs=BFS(graph)\n",
    "graphBfs.traverse('a')\n"
   ]
  },
  {
   "cell_type": "markdown",
   "id": "2151716d",
   "metadata": {},
   "source": [
    "## check path exist in a graph given source nad destination nodes"
   ]
  },
  {
   "cell_type": "code",
   "execution_count": 46,
   "id": "4c7110a3",
   "metadata": {},
   "outputs": [],
   "source": [
    "def hasPathdfs(graph,src,dst):\n",
    "    if src==dst:\n",
    "        return True\n",
    "    else:\n",
    "        for neighbour in graph[src]:\n",
    "            if hasPath(graph,neighbour,dst):\n",
    "                return True\n",
    "    return False"
   ]
  },
  {
   "cell_type": "code",
   "execution_count": 47,
   "id": "31f2f623",
   "metadata": {},
   "outputs": [
    {
     "data": {
      "text/plain": [
       "{'a': ['b', 'c'], 'b': ['d'], 'c': ['e'], 'd': ['f'], 'e': [], 'f': []}"
      ]
     },
     "execution_count": 47,
     "metadata": {},
     "output_type": "execute_result"
    }
   ],
   "source": [
    "graph"
   ]
  },
  {
   "cell_type": "code",
   "execution_count": 48,
   "id": "4580fac9",
   "metadata": {},
   "outputs": [
    {
     "data": {
      "text/plain": [
       "False"
      ]
     },
     "execution_count": 48,
     "metadata": {},
     "output_type": "execute_result"
    }
   ],
   "source": [
    "hasPathdfs(graph,'d','e')"
   ]
  },
  {
   "cell_type": "code",
   "execution_count": 51,
   "id": "f9807a73",
   "metadata": {},
   "outputs": [],
   "source": [
    "def hasPathBfs(graph,src,dst):\n",
    "    queue=[src]\n",
    "    while len(queue)>0:\n",
    "        currentNode=queue.pop(0)\n",
    "        queue=queue+graph[currentNode]\n",
    "        if currentNode==dst:\n",
    "            return True\n",
    "    return False\n",
    "        \n",
    "            "
   ]
  },
  {
   "cell_type": "code",
   "execution_count": 54,
   "id": "77b17e22",
   "metadata": {},
   "outputs": [
    {
     "data": {
      "text/plain": [
       "False"
      ]
     },
     "execution_count": 54,
     "metadata": {},
     "output_type": "execute_result"
    }
   ],
   "source": [
    "hasPathBfs(graph,'b','e')"
   ]
  },
  {
   "cell_type": "markdown",
   "id": "1fdbb2ae",
   "metadata": {},
   "source": [
    "## undirected graphs and check path problem"
   ]
  },
  {
   "cell_type": "code",
   "execution_count": 3,
   "id": "f26f32fb",
   "metadata": {},
   "outputs": [],
   "source": [
    "edges=[\n",
    "    ['a','c'],\n",
    "    ['a','b'],\n",
    "    ['c','d'],\n",
    "    ['b','e'],\n",
    "    ['e','f']\n",
    "]"
   ]
  },
  {
   "cell_type": "code",
   "execution_count": 4,
   "id": "7a71e41f",
   "metadata": {},
   "outputs": [],
   "source": [
    "def convEdgesToAdjList(edges):\n",
    "    adjmap=dict()\n",
    "    for edge in edges:\n",
    "        a,b=edge\n",
    "        if a not in adjmap: adjmap[a]=[]\n",
    "        if b not in adjmap: adjmap[b]=[]\n",
    "        adjmap[a].append(b)\n",
    "        adjmap[b].append(a)\n",
    "    return adjmap"
   ]
  },
  {
   "cell_type": "code",
   "execution_count": 5,
   "id": "19a2286b",
   "metadata": {},
   "outputs": [],
   "source": [
    "graph=convEdgesToAdjList(edges)"
   ]
  },
  {
   "cell_type": "code",
   "execution_count": 6,
   "id": "ec4a1b8c",
   "metadata": {},
   "outputs": [],
   "source": [
    "def dfshaspathundirected(graph,src,dist,visited):\n",
    "    if src==dist:\n",
    "        return True\n",
    "    if src in visited:\n",
    "        return False\n",
    "    visited.\n",
    "    for node in graph[src]:\n",
    "        if dfshaspathundirected(graph,node,dist,visited):\n",
    "            return True\n",
    "    return False"
   ]
  },
  {
   "cell_type": "code",
   "execution_count": 8,
   "id": "6234a611",
   "metadata": {},
   "outputs": [
    {
     "ename": "RecursionError",
     "evalue": "maximum recursion depth exceeded in comparison",
     "output_type": "error",
     "traceback": [
      "\u001b[0;31m---------------------------------------------------------------------------\u001b[0m",
      "\u001b[0;31mRecursionError\u001b[0m                            Traceback (most recent call last)",
      "Cell \u001b[0;32mIn[8], line 1\u001b[0m\n\u001b[0;32m----> 1\u001b[0m \u001b[43mdfshaspathundirected\u001b[49m\u001b[43m(\u001b[49m\u001b[43mgraph\u001b[49m\u001b[43m,\u001b[49m\u001b[38;5;124;43m'\u001b[39;49m\u001b[38;5;124;43ma\u001b[39;49m\u001b[38;5;124;43m'\u001b[39;49m\u001b[43m,\u001b[49m\u001b[38;5;124;43m'\u001b[39;49m\u001b[38;5;124;43me\u001b[39;49m\u001b[38;5;124;43m'\u001b[39;49m\u001b[43m,\u001b[49m\u001b[43m{\u001b[49m\u001b[43m}\u001b[49m\u001b[43m)\u001b[49m\n",
      "Cell \u001b[0;32mIn[6], line 7\u001b[0m, in \u001b[0;36mdfshaspathundirected\u001b[0;34m(graph, src, dist, visited)\u001b[0m\n\u001b[1;32m      5\u001b[0m     \u001b[38;5;28;01mreturn\u001b[39;00m \u001b[38;5;28;01mFalse\u001b[39;00m\n\u001b[1;32m      6\u001b[0m \u001b[38;5;28;01mfor\u001b[39;00m node \u001b[38;5;129;01min\u001b[39;00m graph[src]:\n\u001b[0;32m----> 7\u001b[0m     \u001b[38;5;28;01mif\u001b[39;00m \u001b[43mdfshaspathundirected\u001b[49m\u001b[43m(\u001b[49m\u001b[43mgraph\u001b[49m\u001b[43m,\u001b[49m\u001b[43mnode\u001b[49m\u001b[43m,\u001b[49m\u001b[43mdist\u001b[49m\u001b[43m,\u001b[49m\u001b[43mvisited\u001b[49m\u001b[43m)\u001b[49m:\n\u001b[1;32m      8\u001b[0m         \u001b[38;5;28;01mreturn\u001b[39;00m \u001b[38;5;28;01mTrue\u001b[39;00m\n\u001b[1;32m      9\u001b[0m \u001b[38;5;28;01mreturn\u001b[39;00m \u001b[38;5;28;01mFalse\u001b[39;00m\n",
      "Cell \u001b[0;32mIn[6], line 7\u001b[0m, in \u001b[0;36mdfshaspathundirected\u001b[0;34m(graph, src, dist, visited)\u001b[0m\n\u001b[1;32m      5\u001b[0m     \u001b[38;5;28;01mreturn\u001b[39;00m \u001b[38;5;28;01mFalse\u001b[39;00m\n\u001b[1;32m      6\u001b[0m \u001b[38;5;28;01mfor\u001b[39;00m node \u001b[38;5;129;01min\u001b[39;00m graph[src]:\n\u001b[0;32m----> 7\u001b[0m     \u001b[38;5;28;01mif\u001b[39;00m \u001b[43mdfshaspathundirected\u001b[49m\u001b[43m(\u001b[49m\u001b[43mgraph\u001b[49m\u001b[43m,\u001b[49m\u001b[43mnode\u001b[49m\u001b[43m,\u001b[49m\u001b[43mdist\u001b[49m\u001b[43m,\u001b[49m\u001b[43mvisited\u001b[49m\u001b[43m)\u001b[49m:\n\u001b[1;32m      8\u001b[0m         \u001b[38;5;28;01mreturn\u001b[39;00m \u001b[38;5;28;01mTrue\u001b[39;00m\n\u001b[1;32m      9\u001b[0m \u001b[38;5;28;01mreturn\u001b[39;00m \u001b[38;5;28;01mFalse\u001b[39;00m\n",
      "    \u001b[0;31m[... skipping similar frames: dfshaspathundirected at line 7 (2969 times)]\u001b[0m\n",
      "Cell \u001b[0;32mIn[6], line 7\u001b[0m, in \u001b[0;36mdfshaspathundirected\u001b[0;34m(graph, src, dist, visited)\u001b[0m\n\u001b[1;32m      5\u001b[0m     \u001b[38;5;28;01mreturn\u001b[39;00m \u001b[38;5;28;01mFalse\u001b[39;00m\n\u001b[1;32m      6\u001b[0m \u001b[38;5;28;01mfor\u001b[39;00m node \u001b[38;5;129;01min\u001b[39;00m graph[src]:\n\u001b[0;32m----> 7\u001b[0m     \u001b[38;5;28;01mif\u001b[39;00m \u001b[43mdfshaspathundirected\u001b[49m\u001b[43m(\u001b[49m\u001b[43mgraph\u001b[49m\u001b[43m,\u001b[49m\u001b[43mnode\u001b[49m\u001b[43m,\u001b[49m\u001b[43mdist\u001b[49m\u001b[43m,\u001b[49m\u001b[43mvisited\u001b[49m\u001b[43m)\u001b[49m:\n\u001b[1;32m      8\u001b[0m         \u001b[38;5;28;01mreturn\u001b[39;00m \u001b[38;5;28;01mTrue\u001b[39;00m\n\u001b[1;32m      9\u001b[0m \u001b[38;5;28;01mreturn\u001b[39;00m \u001b[38;5;28;01mFalse\u001b[39;00m\n",
      "Cell \u001b[0;32mIn[6], line 2\u001b[0m, in \u001b[0;36mdfshaspathundirected\u001b[0;34m(graph, src, dist, visited)\u001b[0m\n\u001b[1;32m      1\u001b[0m \u001b[38;5;28;01mdef\u001b[39;00m \u001b[38;5;21mdfshaspathundirected\u001b[39m(graph,src,dist,visited):\n\u001b[0;32m----> 2\u001b[0m     \u001b[38;5;28;01mif\u001b[39;00m \u001b[43msrc\u001b[49m\u001b[38;5;241;43m==\u001b[39;49m\u001b[43mdist\u001b[49m:\n\u001b[1;32m      3\u001b[0m         \u001b[38;5;28;01mreturn\u001b[39;00m \u001b[38;5;28;01mTrue\u001b[39;00m\n\u001b[1;32m      4\u001b[0m     \u001b[38;5;28;01mif\u001b[39;00m src \u001b[38;5;129;01min\u001b[39;00m visited:\n",
      "\u001b[0;31mRecursionError\u001b[0m: maximum recursion depth exceeded in comparison"
     ]
    }
   ],
   "source": [
    "dfshaspathundirected(graph,'a','e',{})"
   ]
  },
  {
   "cell_type": "code",
   "execution_count": 9,
   "id": "e28841cd",
   "metadata": {},
   "outputs": [],
   "source": [
    "s={1}"
   ]
  },
  {
   "cell_type": "code",
   "execution_count": 10,
   "id": "418118e7",
   "metadata": {},
   "outputs": [],
   "source": [
    "s.add(2)"
   ]
  },
  {
   "cell_type": "code",
   "execution_count": null,
   "id": "a45d6e4c",
   "metadata": {},
   "outputs": [],
   "source": []
  },
  {
   "cell_type": "code",
   "execution_count": null,
   "id": "2cebf407",
   "metadata": {},
   "outputs": [],
   "source": []
  },
  {
   "cell_type": "code",
   "execution_count": null,
   "id": "17768ef6",
   "metadata": {},
   "outputs": [],
   "source": []
  },
  {
   "cell_type": "code",
   "execution_count": null,
   "id": "ec6e4b9a",
   "metadata": {},
   "outputs": [],
   "source": []
  },
  {
   "cell_type": "code",
   "execution_count": 58,
   "id": "f4bbedf0",
   "metadata": {},
   "outputs": [
    {
     "data": {
      "text/plain": [
       "{'a': [1, 2]}"
      ]
     },
     "execution_count": 58,
     "metadata": {},
     "output_type": "execute_result"
    }
   ],
   "source": [
    "l"
   ]
  },
  {
   "cell_type": "code",
   "execution_count": 72,
   "id": "4e4b6625",
   "metadata": {},
   "outputs": [],
   "source": [
    "p=['%,194,GP12,86018106165797,085422,20230316,51673,51673,*XD,0000,00,00000,0000,0000,00000,0000,0000,80#,1,1724.1753,N,08222.3064,E,00.000,085422,20230316,0000,0000,0000,020,020,020,030,24,1,$31627']"
   ]
  },
  {
   "cell_type": "code",
   "execution_count": 73,
   "id": "91f1d499",
   "metadata": {},
   "outputs": [
    {
     "data": {
      "text/plain": [
       "'%,194,GP12,86018106165797,085422,20230316,51673,51673,*XD,0000,00,00000,0000,0000,00000,0000,0000,80#,1,1724.1753,N,08222.3064,E,00.000,085422,20230316,0000,0000,0000,020,020,020,030,24,1,$31627'"
      ]
     },
     "execution_count": 73,
     "metadata": {},
     "output_type": "execute_result"
    }
   ],
   "source": [
    "p[0]"
   ]
  },
  {
   "cell_type": "code",
   "execution_count": 74,
   "id": "6e25805b",
   "metadata": {},
   "outputs": [
    {
     "data": {
      "text/plain": [
       "194"
      ]
     },
     "execution_count": 74,
     "metadata": {},
     "output_type": "execute_result"
    }
   ],
   "source": [
    "len(p[0])"
   ]
  },
  {
   "cell_type": "code",
   "execution_count": 75,
   "id": "b9523fdc",
   "metadata": {},
   "outputs": [],
   "source": [
    "p.append('%,195,GP12,88888888888883,153639,20230320,00000,00000,*XD,0000,00,00000,0000,0000,00000,0000,0000,80#,1,0000.0000,0,00000.0000,0,000.00,153639,20230320,0000,-001,-001,000,000,000,036,24,1,$56648')"
   ]
  },
  {
   "cell_type": "code",
   "execution_count": 77,
   "id": "da488431",
   "metadata": {},
   "outputs": [
    {
     "data": {
      "text/plain": [
       "194"
      ]
     },
     "execution_count": 77,
     "metadata": {},
     "output_type": "execute_result"
    }
   ],
   "source": [
    "len(p[1])"
   ]
  },
  {
   "cell_type": "code",
   "execution_count": null,
   "id": "332b9679",
   "metadata": {},
   "outputs": [],
   "source": []
  }
 ],
 "metadata": {
  "kernelspec": {
   "display_name": "Python 3 (ipykernel)",
   "language": "python",
   "name": "python3"
  },
  "language_info": {
   "codemirror_mode": {
    "name": "ipython",
    "version": 3
   },
   "file_extension": ".py",
   "mimetype": "text/x-python",
   "name": "python",
   "nbconvert_exporter": "python",
   "pygments_lexer": "ipython3",
   "version": "3.10.6"
  }
 },
 "nbformat": 4,
 "nbformat_minor": 5
}
