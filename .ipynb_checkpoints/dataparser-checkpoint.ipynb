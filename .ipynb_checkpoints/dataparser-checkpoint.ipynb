{
 "cells": [
  {
   "cell_type": "code",
   "execution_count": null,
   "id": "ff51f392",
   "metadata": {},
   "outputs": [],
   "source": [
    "c=0\n",
    "import math\n",
    "from functools import reduce\n",
    "for i in range(2,2+1):\n",
    "    if i<=6:\n",
    "        if i<=2:\n",
    "            l=[1]*(6-i)+[2]\n",
    "            c+=factorial(len(l))//reduce(lambda x,y:factorial(l.count(x))*factorial(l.count(y)),set(l))\n",
    "            t=2\n",
    "            while i*t<=6:\n",
    "                l=[i]*t+[1]*(6-i*t)\n",
    "                nr=factorial(len(l))\n",
    "                if len(set(l))==1:\n",
    "                    dr=factorial(len(l))\n",
    "                else:\n",
    "                    dr=reduce(lambda x,y:factorial(l.count(x))*factorial(l.count(y)),set(l))\n",
    "                k=nr//dr\n",
    "                t+=1"
   ]
  },
  {
   "cell_type": "code",
   "execution_count": 29,
   "id": "87da2f1d",
   "metadata": {},
   "outputs": [],
   "source": [
    "from math import factorial\n",
    "from functools import reduce\n",
    "class kk():\n",
    "    def bk(cls,input1,input2):\n",
    "        p=1\n",
    "        for i in range(2,input2+1):\n",
    "            if i<input1:\n",
    "                if i<=input2:\n",
    "                    l=[1]*(input1-i)+[i]\n",
    "                    p+=factorial(len(l))//reduce(lambda x,y:factorial(l.count(x))*factorial(l.count(y)),set(l))\n",
    "                    t=2\n",
    "                    while i*t<=input1:\n",
    "                        l=[i]*t+[1]*(input1-i*t)\n",
    "                        nr=factorial(len(l))\n",
    "                        if len(set(l))==1:\n",
    "                            dr=factorial(len(l))\n",
    "                        else:\n",
    "                            dr=reduce(lambda x,y:factorial(l.count(x))*factorial(l.count(y)),set(l))\n",
    "                        k=nr//dr\n",
    "                        p+=k\n",
    "                        t+=1\n",
    "        return p\n",
    "\n",
    "                "
   ]
  },
  {
   "cell_type": "code",
   "execution_count": 30,
   "id": "7a28f10a",
   "metadata": {},
   "outputs": [
    {
     "data": {
      "text/plain": [
       "13"
      ]
     },
     "execution_count": 30,
     "metadata": {},
     "output_type": "execute_result"
    }
   ],
   "source": [
    "ob=kk()\n",
    "ob.bk(6,2)"
   ]
  },
  {
   "cell_type": "code",
   "execution_count": 19,
   "id": "650a2e1f",
   "metadata": {},
   "outputs": [
    {
     "name": "stdout",
     "output_type": "stream",
     "text": [
      "5\n",
      "[2, 1, 1, 1, 1] 120 24\n",
      "5\n",
      "[2, 2, 1, 1] 24 4\n",
      "6\n",
      "[2, 2, 2] 6 6\n",
      "1\n"
     ]
    }
   ],
   "source": [
    "l=[1,1,1,1,2]\n",
    "from functools import reduce\n",
    "from math import factorial\n",
    "k=factorial(len(l))//reduce(lambda x,y:factorial(l.count(x))*factorial(l.count(y)),set(l))\n",
    "print(k)\n",
    "i=2\n",
    "t=1\n",
    "while i*t<=6:\n",
    "    l=[i]*t+[1]*(6-i*t)\n",
    "    \n",
    "    nr=factorial(len(l))\n",
    "    if len(set(l))==1:\n",
    "        dr=factorial(len(l))\n",
    "    else:\n",
    "        dr=reduce(lambda x,y:factorial(l.count(x))*factorial(l.count(y)),set(l))\n",
    "    print(l,nr,dr)\n",
    "    k=nr//dr\n",
    "    print(k)\n",
    "    t+=1\n"
   ]
  },
  {
   "cell_type": "code",
   "execution_count": 1,
   "id": "efbf38da",
   "metadata": {},
   "outputs": [],
   "source": [
    "import redis"
   ]
  },
  {
   "cell_type": "code",
   "execution_count": 2,
   "id": "a17fa2ac",
   "metadata": {},
   "outputs": [
    {
     "data": {
      "text/plain": [
       "'4.3.3'"
      ]
     },
     "execution_count": 2,
     "metadata": {},
     "output_type": "execute_result"
    }
   ],
   "source": [
    "redis.__version__"
   ]
  },
  {
   "cell_type": "code",
   "execution_count": 1,
   "id": "0e6ee2b4",
   "metadata": {},
   "outputs": [],
   "source": []
  },
  {
   "cell_type": "code",
   "execution_count": 6,
   "id": "85207d8e",
   "metadata": {},
   "outputs": [],
   "source": [
    "import struct \n",
    "\n",
    "def byteToInt(data):\n",
    "    if data is not None:\n",
    "        data = int.from_bytes(data, \"big\")\n",
    "    return data\n",
    "def getBinaryVal(data, position):\n",
    "    binaryString = bin(data).replace(\"0b\", \"\")\n",
    "    # Adjsuting the length of BinaryString to 8 bits\n",
    "    binaryString = \"0\" * (8 - len(binaryString)) + binaryString\n",
    "    return int(binaryString[position])\n",
    "\n",
    "\n",
    "def hex2float(data):\n",
    "    if data is not None:\n",
    "        data = float.from_bytes(data, \"big\")\n",
    "    return data\n",
    "#     bins = ''.join(chr(int(s[x:x+2], 16)) for x in range(0, len(s), 2))\n",
    "#     return struct.unpack('>f', bins)[0]"
   ]
  },
  {
   "cell_type": "code",
   "execution_count": 7,
   "id": "75d41128",
   "metadata": {},
   "outputs": [
    {
     "ename": "ValueError",
     "evalue": "invalid literal for int() with base 16: b'\\x00\\x14'",
     "output_type": "error",
     "traceback": [
      "\u001b[0;31m---------------------------------------------------------------------------\u001b[0m",
      "\u001b[0;31mValueError\u001b[0m                                Traceback (most recent call last)",
      "Input \u001b[0;32mIn [7]\u001b[0m, in \u001b[0;36m<cell line: 4>\u001b[0;34m()\u001b[0m\n\u001b[1;32m      1\u001b[0m data\u001b[38;5;241m=\u001b[39m\u001b[38;5;124mb\u001b[39m\u001b[38;5;124m'\u001b[39m\u001b[38;5;124m!\u001b[39m\u001b[38;5;130;01m\\x00\u001b[39;00m\u001b[38;5;130;01m\\xa0\u001b[39;00m\u001b[38;5;130;01m\\x0e\u001b[39;00m\u001b[38;5;130;01m\\x01\u001b[39;00m\u001b[38;5;130;01m\\x00\u001b[39;00m\u001b[38;5;130;01m\\x06\u001b[39;00m\u001b[38;5;130;01m\\x14\u001b[39;00m\u001b[38;5;130;01m\\x16\u001b[39;00m\u001b[38;5;130;01m\\x07\u001b[39;00m\u001b[38;5;130;01m\\x15\u001b[39;00m\u001b[38;5;124mGP10888888888888882\u001b[39m\u001b[38;5;130;01m\\x83\u001b[39;00m\u001b[38;5;130;01m\\xcc\u001b[39;00m\u001b[38;5;124mA\u001b[39m\u001b[38;5;130;01m\\x00\u001b[39;00m\u001b[38;5;130;01m\\x00\u001b[39;00m\u001b[38;5;130;01m\\x00\u001b[39;00m\u001b[38;5;124m|\u001b[39m\u001b[38;5;130;01m\\x01\u001b[39;00m\u001b[38;5;130;01m\\x00\u001b[39;00m\u001b[38;5;130;01m\\x06\u001b[39;00m\u001b[38;5;130;01m\\x14\u001b[39;00m\u001b[38;5;130;01m\\x16\u001b[39;00m\u001b[38;5;130;01m\\x07\u001b[39;00m\u001b[38;5;130;01m\\x15\u001b[39;00m\u001b[38;5;130;01m\\x00\u001b[39;00m\u001b[38;5;130;01m\\x00\u001b[39;00m\u001b[38;5;130;01m\\x00\u001b[39;00m\u001b[38;5;130;01m\\x00\u001b[39;00m\u001b[38;5;130;01m\\x00\u001b[39;00m\u001b[38;5;130;01m\\x00\u001b[39;00m\u001b[38;5;130;01m\\x00\u001b[39;00m\u001b[38;5;130;01m\\xfa\u001b[39;00m\u001b[38;5;130;01m\\x00\u001b[39;00m\u001b[38;5;130;01m\\x00\u001b[39;00m\u001b[38;5;130;01m\\x00\u001b[39;00m\u001b[38;5;124md\u001b[39m\u001b[38;5;130;01m\\x00\u001b[39;00m\u001b[38;5;130;01m\\x00\u001b[39;00m\u001b[38;5;130;01m\\x00\u001b[39;00m\u001b[38;5;130;01m\\x0c\u001b[39;00m\u001b[38;5;130;01m\\x00\u001b[39;00m\u001b[38;5;130;01m\\x0c\u001b[39;00m\u001b[38;5;130;01m\\x00\u001b[39;00m\u001b[38;5;130;01m\\x19\u001b[39;00m\u001b[38;5;130;01m\\xaa\u001b[39;00m\u001b[38;5;130;01m\\xb4\u001b[39;00m\u001b[38;5;130;01m\\xb4\u001b[39;00m\u001b[38;5;130;01m\\x80\u001b[39;00m\u001b[38;5;130;01m\\x80\u001b[39;00m\u001b[38;5;130;01m\\x03\u001b[39;00m\u001b[38;5;130;01m\\x00\u001b[39;00m\u001b[38;5;124m17.73000000078.630000000\u001b[39m\u001b[38;5;130;01m\\x00\u001b[39;00m\u001b[38;5;130;01m\\x00\u001b[39;00m\u001b[38;5;130;01m\\x00\u001b[39;00m\u001b[38;5;124m?\u001b[39m\u001b[38;5;130;01m\\x00\u001b[39;00m\u001b[38;5;130;01m\\x14\u001b[39;00m\u001b[38;5;130;01m\\x00\u001b[39;00m\u001b[38;5;130;01m\\x00\u001b[39;00m\u001b[38;5;130;01m\\x00\u001b[39;00m\u001b[38;5;130;01m\\n\u001b[39;00m\u001b[38;5;130;01m\\x00\u001b[39;00m\u001b[38;5;130;01m\\n\u001b[39;00m\u001b[38;5;130;01m\\x00\u001b[39;00m\u001b[38;5;130;01m\\n\u001b[39;00m\u001b[38;5;130;01m\\x00\u001b[39;00m\u001b[38;5;130;01m\\n\u001b[39;00m\u001b[38;5;130;01m\\x00\u001b[39;00m\u001b[38;5;130;01m\\x14\u001b[39;00m\u001b[38;5;130;01m\\x00\u001b[39;00m\u001b[38;5;130;01m\\x00\u001b[39;00m\u001b[38;5;130;01m\\x00\u001b[39;00m\u001b[38;5;130;01m\\n\u001b[39;00m\u001b[38;5;130;01m\\x00\u001b[39;00m\u001b[38;5;130;01m\\n\u001b[39;00m\u001b[38;5;130;01m\\x00\u001b[39;00m\u001b[38;5;130;01m\\n\u001b[39;00m\u001b[38;5;130;01m\\x00\u001b[39;00m\u001b[38;5;130;01m\\n\u001b[39;00m\u001b[38;5;130;01m\\x00\u001b[39;00m\u001b[38;5;130;01m\\x14\u001b[39;00m\u001b[38;5;130;01m\\x00\u001b[39;00m\u001b[38;5;130;01m\\x00\u001b[39;00m\u001b[38;5;130;01m\\x00\u001b[39;00m\u001b[38;5;130;01m\\n\u001b[39;00m\u001b[38;5;130;01m\\x00\u001b[39;00m\u001b[38;5;130;01m\\n\u001b[39;00m\u001b[38;5;130;01m\\x00\u001b[39;00m\u001b[38;5;130;01m\\n\u001b[39;00m\u001b[38;5;130;01m\\x00\u001b[39;00m\u001b[38;5;130;01m\\n\u001b[39;00m\u001b[38;5;130;01m\\x00\u001b[39;00m\u001b[38;5;130;01m\\x12\u001b[39;00m\u001b[38;5;130;01m\\x00\u001b[39;00m\u001b[38;5;130;01m\\n\u001b[39;00m\u001b[38;5;130;01m\\x00\u001b[39;00m\u001b[38;5;130;01m\\x00\u001b[39;00m\u001b[38;5;130;01m\\x00\u001b[39;00m\u001b[38;5;130;01m\\x00\u001b[39;00m\u001b[38;5;130;01m\\x00\u001b[39;00m\u001b[38;5;130;01m\\x00\u001b[39;00m\u001b[38;5;130;01m\\x00\u001b[39;00m\u001b[38;5;130;01m\\x00\u001b[39;00m\u001b[38;5;130;01m\\x00\u001b[39;00m\u001b[38;5;130;01m\\x00\u001b[39;00m\u001b[38;5;130;01m\\x00\u001b[39;00m\u001b[38;5;130;01m\\x00\u001b[39;00m\u001b[38;5;130;01m\\x12\u001b[39;00m\u001b[38;5;130;01m\\xff\u001b[39;00m\u001b[38;5;130;01m\\x01\u001b[39;00m\u001b[38;5;130;01m\\x00\u001b[39;00m\u001b[38;5;130;01m\\xcc\u001b[39;00m\u001b[38;5;124m'\u001b[39m\n\u001b[1;32m      3\u001b[0m speed\u001b[38;5;241m=\u001b[39mdata[\u001b[38;5;241m99\u001b[39m:\u001b[38;5;241m103\u001b[39m]\n\u001b[0;32m----> 4\u001b[0m \u001b[43mhex2float\u001b[49m\u001b[43m(\u001b[49m\u001b[43mspeed\u001b[49m\u001b[43m)\u001b[49m\n",
      "Input \u001b[0;32mIn [6]\u001b[0m, in \u001b[0;36mhex2float\u001b[0;34m(s)\u001b[0m\n\u001b[1;32m     14\u001b[0m \u001b[38;5;28;01mdef\u001b[39;00m \u001b[38;5;21mhex2float\u001b[39m(s):\n\u001b[0;32m---> 15\u001b[0m     bins \u001b[38;5;241m=\u001b[39m \u001b[38;5;124;43m'\u001b[39;49m\u001b[38;5;124;43m'\u001b[39;49m\u001b[38;5;241;43m.\u001b[39;49m\u001b[43mjoin\u001b[49m\u001b[43m(\u001b[49m\u001b[38;5;28;43mchr\u001b[39;49m\u001b[43m(\u001b[49m\u001b[38;5;28;43mint\u001b[39;49m\u001b[43m(\u001b[49m\u001b[43ms\u001b[49m\u001b[43m[\u001b[49m\u001b[43mx\u001b[49m\u001b[43m:\u001b[49m\u001b[43mx\u001b[49m\u001b[38;5;241;43m+\u001b[39;49m\u001b[38;5;241;43m2\u001b[39;49m\u001b[43m]\u001b[49m\u001b[43m,\u001b[49m\u001b[43m \u001b[49m\u001b[38;5;241;43m16\u001b[39;49m\u001b[43m)\u001b[49m\u001b[43m)\u001b[49m\u001b[43m \u001b[49m\u001b[38;5;28;43;01mfor\u001b[39;49;00m\u001b[43m \u001b[49m\u001b[43mx\u001b[49m\u001b[43m \u001b[49m\u001b[38;5;129;43;01min\u001b[39;49;00m\u001b[43m \u001b[49m\u001b[38;5;28;43mrange\u001b[39;49m\u001b[43m(\u001b[49m\u001b[38;5;241;43m0\u001b[39;49m\u001b[43m,\u001b[49m\u001b[43m \u001b[49m\u001b[38;5;28;43mlen\u001b[39;49m\u001b[43m(\u001b[49m\u001b[43ms\u001b[49m\u001b[43m)\u001b[49m\u001b[43m,\u001b[49m\u001b[43m \u001b[49m\u001b[38;5;241;43m2\u001b[39;49m\u001b[43m)\u001b[49m\u001b[43m)\u001b[49m\n\u001b[1;32m     16\u001b[0m     \u001b[38;5;28;01mreturn\u001b[39;00m struct\u001b[38;5;241m.\u001b[39munpack(\u001b[38;5;124m'\u001b[39m\u001b[38;5;124m>f\u001b[39m\u001b[38;5;124m'\u001b[39m, bins)[\u001b[38;5;241m0\u001b[39m]\n",
      "Input \u001b[0;32mIn [6]\u001b[0m, in \u001b[0;36m<genexpr>\u001b[0;34m(.0)\u001b[0m\n\u001b[1;32m     14\u001b[0m \u001b[38;5;28;01mdef\u001b[39;00m \u001b[38;5;21mhex2float\u001b[39m(s):\n\u001b[0;32m---> 15\u001b[0m     bins \u001b[38;5;241m=\u001b[39m \u001b[38;5;124m'\u001b[39m\u001b[38;5;124m'\u001b[39m\u001b[38;5;241m.\u001b[39mjoin(\u001b[38;5;28mchr\u001b[39m(\u001b[38;5;28;43mint\u001b[39;49m\u001b[43m(\u001b[49m\u001b[43ms\u001b[49m\u001b[43m[\u001b[49m\u001b[43mx\u001b[49m\u001b[43m:\u001b[49m\u001b[43mx\u001b[49m\u001b[38;5;241;43m+\u001b[39;49m\u001b[38;5;241;43m2\u001b[39;49m\u001b[43m]\u001b[49m\u001b[43m,\u001b[49m\u001b[43m \u001b[49m\u001b[38;5;241;43m16\u001b[39;49m\u001b[43m)\u001b[49m) \u001b[38;5;28;01mfor\u001b[39;00m x \u001b[38;5;129;01min\u001b[39;00m \u001b[38;5;28mrange\u001b[39m(\u001b[38;5;241m0\u001b[39m, \u001b[38;5;28mlen\u001b[39m(s), \u001b[38;5;241m2\u001b[39m))\n\u001b[1;32m     16\u001b[0m     \u001b[38;5;28;01mreturn\u001b[39;00m struct\u001b[38;5;241m.\u001b[39munpack(\u001b[38;5;124m'\u001b[39m\u001b[38;5;124m>f\u001b[39m\u001b[38;5;124m'\u001b[39m, bins)[\u001b[38;5;241m0\u001b[39m]\n",
      "\u001b[0;31mValueError\u001b[0m: invalid literal for int() with base 16: b'\\x00\\x14'"
     ]
    }
   ],
   "source": [
    "data=b'!\\x00\\xa0\\x0e\\x01\\x00\\x06\\x14\\x16\\x07\\x15GP10888888888888882\\x83\\xccA\\x00\\x00\\x00|\\x01\\x00\\x06\\x14\\x16\\x07\\x15\\x00\\x00\\x00\\x00\\x00\\x00\\x00\\xfa\\x00\\x00\\x00d\\x00\\x00\\x00\\x0c\\x00\\x0c\\x00\\x19\\xaa\\xb4\\xb4\\x80\\x80\\x03\\x0017.73000000078.630000000\\x00\\x00\\x00?\\x00\\x14\\x00\\x00\\x00\\n\\x00\\n\\x00\\n\\x00\\n\\x00\\x14\\x00\\x00\\x00\\n\\x00\\n\\x00\\n\\x00\\n\\x00\\x14\\x00\\x00\\x00\\n\\x00\\n\\x00\\n\\x00\\n\\x00\\x12\\x00\\n\\x00\\x00\\x00\\x00\\x00\\x00\\x00\\x00\\x00\\x00\\x00\\x00\\x12\\xff\\x01\\x00\\xcc'\n",
    "\n",
    "speed=data[99:103]\n",
    "hex2float(speed)"
   ]
  },
  {
   "cell_type": "code",
   "execution_count": 13,
   "id": "52cc622d",
   "metadata": {},
   "outputs": [],
   "source": [
    "from datetime import datetime\n",
    "\n",
    "def parseme(data):\n",
    "    parsedObject = {\n",
    "        u'imei': data[17:32].decode(),\n",
    "        u'counter': byteToInt(data[3:4]),\n",
    "        u'protocolVersion': data[13:17].decode(),\n",
    "    }\n",
    "    parsedObject[u'dieselVol'] = byteToInt(data[52:56])\n",
    "    parsedObject[u'DTE'] = byteToInt(data[64:66])\n",
    "\n",
    "    DD = str(byteToInt(data[47:48]))\n",
    "    MM = str(byteToInt(data[46:47]))\n",
    "    YYYY = str(byteToInt(\n",
    "        data[44:45]) * 100 + byteToInt(data[45:46]))\n",
    "    hh = str(byteToInt(data[40:42]))\n",
    "    mm = str(byteToInt(data[42:43]))\n",
    "    ss = str(byteToInt(data[43:44]))\n",
    "    dateString = DD + \" \" + MM + \" \" + YYYY + \" \" + hh + \" \" + mm + \" \" + ss\n",
    "    date = datetime.strptime(dateString, \"%d %m %Y %H %M %S\")\n",
    "    # --------------------NOTE For statusBitmap2--------------------------\n",
    "\n",
    "    statusBitmap2 = byteToInt(data[69:70])\n",
    "    parsedObject[u'isGpsValid'] = getBinaryVal(statusBitmap2, 0)\n",
    "    # parsedObject[u'isNetwork'] = getBinaryVal(statusBitmap2, 1)\n",
    "    # parsedObject[u'isPacketLive'] = getBinaryVal(statusBitmap2, 2)\n",
    "    parsedObject[u'isIgnitionOn'] = getBinaryVal(statusBitmap2, 3)\n",
    "    parsedObject[u'isRelayCommExec'] = getBinaryVal(statusBitmap2, 6)\n",
    "\n",
    "    # --------------------NOTE For statusBitmap3--------------------------\n",
    "\n",
    "    isInlet = getBinaryVal(byteToInt(data[70:71]), 6)\n",
    "    print(\"Inlet = \",isInlet)\n",
    "    isTheft = getBinaryVal(byteToInt(data[70:71]), 7)\n",
    "    print(\"Theft = \",isTheft)\n",
    "    if isTheft == 1 and isInlet == 0:\n",
    "        parsedObject[u'fuelProfile'] = {\n",
    "            u'category': \"Theft\",\n",
    "            u'quantity': byteToInt(data[56:60]),\n",
    "            u'time': datetime.timestamp(date),\n",
    "        }\n",
    "    elif isTheft == 0 and isInlet == 1:\n",
    "        parsedObject[u'fuelProfile'] = {\n",
    "            u'category': \"Inlet\",\n",
    "            u'quantity': byteToInt(data[56:60]),\n",
    "            u'time': datetime.timestamp(date),\n",
    "        }\n",
    "    else:\n",
    "        parsedObject[u'fuelProfile'] = None\n",
    "    statusBitmap4 = byteToInt(data[71:72])\n",
    "    parsedObject[u'FromDashmaster'] = {\n",
    "        u'isAccGyroValid': getBinaryVal(statusBitmap4, 0),\n",
    "        u'isMEMSPresent': getBinaryVal(statusBitmap4, 1)\n",
    "    }\n",
    "    statusBitmap5 = byteToInt(data[72:73])\n",
    "    parsedObject[u'FromDEUnit'] = {\n",
    "        u'isAccGyroValid': getBinaryVal(statusBitmap5, 0),\n",
    "        u'isMEMSPresent': getBinaryVal(statusBitmap5, 1)\n",
    "    }\n",
    "    # -------------------NOTE statusBitmap6-----------------------------------\n",
    "    # NOTE For Cement Mixer Status\n",
    "    statusBitmap6 = byteToInt(data[73:74])\n",
    "    if getBinaryVal(statusBitmap5, 0) == '1':\n",
    "        parsedObject[u'rotateDirection'] = \"Clkwise\"\n",
    "    else:\n",
    "        parsedObject[u'rotateDirection'] = \"Anticlkw\"\n",
    "    parsedObject[u'TimeStampPair'] = getBinaryVal(\n",
    "        byteToInt(data[73:74]), 1)\n",
    "\n",
    "    if parsedObject[u'isGpsValid'] == 1:\n",
    "        rawLat = data[75:87].decode()\n",
    "        rawLng = data[87:99].decode()\n",
    "        speed = byteToInt(data[99:103])\n",
    "        parsedObject[u'speed'] = float(speed)\n",
    "        parsedObject[u'rawLat'] = rawLat\n",
    "        parsedObject[u'rawLng'] = rawLng\n",
    "\n",
    "    parsedObject[u'timestamp'] = date\n",
    "    parsedObject[u'temperature'] = byteToInt(data[66:68])\n",
    "\n",
    "    parsedObject[u'acc_x1'] = byteToInt(data[103:105])\n",
    "    parsedObject[u'acc_y1'] = byteToInt(data[105:107])\n",
    "    parsedObject[u'acc_z1'] = byteToInt(data[107:109])\n",
    "    parsedObject[u'gyro_x1'] = byteToInt(data[109:111])\n",
    "    parsedObject[u'gyro_y1'] = byteToInt(data[111:113])\n",
    "    parsedObject[u'gyro_z1'] = byteToInt(data[113:115])\n",
    "    parsedObject[u'acc_x2'] = byteToInt(data[115:117])\n",
    "    parsedObject[u'acc_y2'] = byteToInt(data[117:119])\n",
    "    parsedObject[u'acc_z2'] = byteToInt(data[119:121])\n",
    "    parsedObject[u'gyro_x2'] = byteToInt(data[121:123])\n",
    "    parsedObject[u'gyro_y2'] = byteToInt(data[123:125])\n",
    "    parsedObject[u'gyro_z2'] = byteToInt(data[125:127])\n",
    "    parsedObject[u'acc_x3'] = byteToInt(data[127:129])\n",
    "    parsedObject[u'acc_y3'] = byteToInt(data[129:131])\n",
    "    parsedObject[u'acc_z3'] = byteToInt(data[131:133])\n",
    "    parsedObject[u'gyro_x3'] = byteToInt(data[133:135])\n",
    "    parsedObject[u'gyro_y3'] = byteToInt(data[135:137])\n",
    "    parsedObject[u'gyro_z3'] = byteToInt(data[137:139])\n",
    "\n",
    "    parsedObject[u'cementMixture'] = {\n",
    "        u'clkw': byteToInt(data[139:141]),\n",
    "        u'anticlkw': byteToInt(data[141:143]),\n",
    "        u'startrotate': byteToInt(data[143:147]),\n",
    "        u'endrotate': byteToInt(data[147:151]),\n",
    "        u'timetorotate': byteToInt(data[151:155])\n",
    "    }\n",
    "\n",
    "    parsedObject[u'batteryVolt'] = byteToInt(data[155:156])\n",
    "    parsedObject[u'internalVolt'] = byteToInt(data[156:157])\n",
    "    parsedObject[u'lastSongId'] = byteToInt(data[157:158])\n",
    "\n",
    "    # if vehicleId != None:\n",
    "    #     parsedObject[u'vehicleId'] = vehicleId\n",
    "    # if driverId != None:\n",
    "    #     parsedObject[u'driverId'] = driverId\n",
    "    for key,value in parsedObject.items():\n",
    "        print(f\"{key}={value}\")\n",
    "    print(parsedObject)"
   ]
  },
  {
   "cell_type": "code",
   "execution_count": 26,
   "id": "423a5b2b",
   "metadata": {},
   "outputs": [
    {
     "name": "stdout",
     "output_type": "stream",
     "text": [
      "Inlet =  0\n",
      "Theft =  0\n",
      "imei=030720229999999\n",
      "counter=0\n",
      "protocolVersion=GP10\n",
      "dieselVol=4194304000\n",
      "DTE=3072\n",
      "isGpsValid=1\n",
      "isIgnitionOn=1\n",
      "isRelayCommExec=0\n",
      "fuelProfile=None\n",
      "FromDashmaster={'isAccGyroValid': 1, 'isMEMSPresent': 0}\n",
      "FromDEUnit={'isAccGyroValid': 1, 'isMEMSPresent': 0}\n",
      "rotateDirection=Anticlkw\n",
      "TimeStampPair=0\n",
      "speed=1342177280.0\n",
      "rawLat=123.57000000\n",
      "rawLng=145.79000000\n",
      "timestamp=2021-07-12 21:10:30\n",
      "temperature=7168\n",
      "acc_x1=5120\n",
      "acc_y1=0\n",
      "acc_z1=2560\n",
      "gyro_x1=2560\n",
      "gyro_y1=2560\n",
      "gyro_z1=2560\n",
      "acc_x2=5120\n",
      "acc_y2=0\n",
      "acc_z2=2560\n",
      "gyro_x2=2560\n",
      "gyro_y2=2560\n",
      "gyro_z2=2560\n",
      "acc_x3=5120\n",
      "acc_y3=0\n",
      "acc_z3=2560\n",
      "gyro_x3=2560\n",
      "gyro_y3=2560\n",
      "gyro_z3=2560\n",
      "cementMixture={'clkw': 4608, 'anticlkw': 2560, 'startrotate': 4171498849, 'endrotate': 4171498849, 'timetorotate': 4294967040}\n",
      "batteryVolt=18\n",
      "internalVolt=255\n",
      "lastSongId=1\n",
      "{'imei': '030720229999999', 'counter': 0, 'protocolVersion': 'GP10', 'dieselVol': 4194304000, 'DTE': 3072, 'isGpsValid': 1, 'isIgnitionOn': 1, 'isRelayCommExec': 0, 'fuelProfile': None, 'FromDashmaster': {'isAccGyroValid': 1, 'isMEMSPresent': 0}, 'FromDEUnit': {'isAccGyroValid': 1, 'isMEMSPresent': 0}, 'rotateDirection': 'Anticlkw', 'TimeStampPair': 0, 'speed': 1342177280.0, 'rawLat': '123.57000000', 'rawLng': '145.79000000', 'timestamp': datetime.datetime(2021, 7, 12, 21, 10, 30), 'temperature': 7168, 'acc_x1': 5120, 'acc_y1': 0, 'acc_z1': 2560, 'gyro_x1': 2560, 'gyro_y1': 2560, 'gyro_z1': 2560, 'acc_x2': 5120, 'acc_y2': 0, 'acc_z2': 2560, 'gyro_x2': 2560, 'gyro_y2': 2560, 'gyro_z2': 2560, 'acc_x3': 5120, 'acc_y3': 0, 'acc_z3': 2560, 'gyro_x3': 2560, 'gyro_y3': 2560, 'gyro_z3': 2560, 'cementMixture': {'clkw': 4608, 'anticlkw': 2560, 'startrotate': 4171498849, 'endrotate': 4171498849, 'timetorotate': 4294967040}, 'batteryVolt': 18, 'internalVolt': 255, 'lastSongId': 1}\n"
     ]
    }
   ],
   "source": [
    "data1=b'!\\x00\\xa0\\x00\\x01\\x00\\x15\\n\\x1e\\x14\\x15\\x07\\x0cGP10030720229999999\\x83\\xccA|\\x00\\x00\\x00\\x01\\x00\\x15\\n\\x1e\\x14\\x15\\x07\\x0c\\x90\\x01\\x00\\x00\\xfa\\x00\\x00\\x00\\n\\x00\\x00\\x00\\x0c\\x00\\x00\\x00\\x0c\\x00\\x1c\\x00\\xaa\\xb4\\xb4\\x80\\x80\\x03\\x00123.57000000145.79000000P\\x00\\x00\\x00\\x14\\x00\\x00\\x00\\n\\x00\\n\\x00\\n\\x00\\n\\x00\\x14\\x00\\x00\\x00\\n\\x00\\n\\x00\\n\\x00\\n\\x00\\x14\\x00\\x00\\x00\\n\\x00\\n\\x00\\n\\x00\\n\\x00\\x12\\x00\\n\\x00\\xf8\\xa4\\x05a\\xf8\\xa4\\x05a\\xff\\xff\\xff\\x00\\x12\\xff\\x01\\xcc\\x00'\n",
    "parseme(data1)"
   ]
  },
  {
   "cell_type": "code",
   "execution_count": 27,
   "id": "fa54dd08",
   "metadata": {},
   "outputs": [
    {
     "name": "stdout",
     "output_type": "stream",
     "text": [
      "Inlet =  0\n",
      "Theft =  0\n",
      "imei=030720229999999\n",
      "counter=0\n",
      "protocolVersion=GP10\n",
      "dieselVol=4194304000\n",
      "DTE=3072\n",
      "isGpsValid=1\n",
      "isIgnitionOn=1\n",
      "isRelayCommExec=0\n",
      "fuelProfile=None\n",
      "FromDashmaster={'isAccGyroValid': 1, 'isMEMSPresent': 0}\n",
      "FromDEUnit={'isAccGyroValid': 1, 'isMEMSPresent': 0}\n",
      "rotateDirection=Anticlkw\n",
      "TimeStampPair=0\n",
      "speed=1342177280.0\n",
      "rawLat=123.57000000\n",
      "rawLng=145.79000000\n",
      "timestamp=2021-07-12 21:10:30\n",
      "temperature=7168\n",
      "acc_x1=5120\n",
      "acc_y1=0\n",
      "acc_z1=2560\n",
      "gyro_x1=2560\n",
      "gyro_y1=2560\n",
      "gyro_z1=2560\n",
      "acc_x2=5120\n",
      "acc_y2=0\n",
      "acc_z2=2560\n",
      "gyro_x2=2560\n",
      "gyro_y2=2560\n",
      "gyro_z2=2560\n",
      "acc_x3=5120\n",
      "acc_y3=0\n",
      "acc_z3=2560\n",
      "gyro_x3=2560\n",
      "gyro_y3=2560\n",
      "gyro_z3=2560\n",
      "cementMixture={'clkw': 4608, 'anticlkw': 2560, 'startrotate': 4171498849, 'endrotate': 4171498849, 'timetorotate': 4294967040}\n",
      "batteryVolt=18\n",
      "internalVolt=255\n",
      "lastSongId=1\n",
      "{'imei': '030720229999999', 'counter': 0, 'protocolVersion': 'GP10', 'dieselVol': 4194304000, 'DTE': 3072, 'isGpsValid': 1, 'isIgnitionOn': 1, 'isRelayCommExec': 0, 'fuelProfile': None, 'FromDashmaster': {'isAccGyroValid': 1, 'isMEMSPresent': 0}, 'FromDEUnit': {'isAccGyroValid': 1, 'isMEMSPresent': 0}, 'rotateDirection': 'Anticlkw', 'TimeStampPair': 0, 'speed': 1342177280.0, 'rawLat': '123.57000000', 'rawLng': '145.79000000', 'timestamp': datetime.datetime(2021, 7, 12, 21, 10, 30), 'temperature': 7168, 'acc_x1': 5120, 'acc_y1': 0, 'acc_z1': 2560, 'gyro_x1': 2560, 'gyro_y1': 2560, 'gyro_z1': 2560, 'acc_x2': 5120, 'acc_y2': 0, 'acc_z2': 2560, 'gyro_x2': 2560, 'gyro_y2': 2560, 'gyro_z2': 2560, 'acc_x3': 5120, 'acc_y3': 0, 'acc_z3': 2560, 'gyro_x3': 2560, 'gyro_y3': 2560, 'gyro_z3': 2560, 'cementMixture': {'clkw': 4608, 'anticlkw': 2560, 'startrotate': 4171498849, 'endrotate': 4171498849, 'timetorotate': 4294967040}, 'batteryVolt': 18, 'internalVolt': 255, 'lastSongId': 1}\n"
     ]
    }
   ],
   "source": [
    "data2=b'!\\x00\\xa0\\x00\\x01\\x00\\x15\\n\\x1e\\x14\\x15\\x07\\x0cGP10030720229999999\\x83\\xccA|\\x00\\x00\\x00\\x01\\x00\\x15\\n\\x1e\\x14\\x15\\x07\\x0c\\x90\\x01\\x00\\x00\\xfa\\x00\\x00\\x00\\n\\x00\\x00\\x00\\x0c\\x00\\x00\\x00\\x0c\\x00\\x1c\\x00\\xaa\\xb4\\xb4\\x80\\x80\\x03\\x00123.57000000145.79000000P\\x00\\x00\\x00\\x14\\x00\\x00\\x00\\n\\x00\\n\\x00\\n\\x00\\n\\x00\\x14\\x00\\x00\\x00\\n\\x00\\n\\x00\\n\\x00\\n\\x00\\x14\\x00\\x00\\x00\\n\\x00\\n\\x00\\n\\x00\\n\\x00\\x12\\x00\\n\\x00\\xf8\\xa4\\x05a\\xf8\\xa4\\x05a\\xff\\xff\\xff\\x00\\x12\\xff\\x01\\xcc\\x00'\n",
    "parseme(data2)"
   ]
  },
  {
   "cell_type": "code",
   "execution_count": 28,
   "id": "4b9ec6b7",
   "metadata": {},
   "outputs": [],
   "source": [
    "d=b'x00\\x15\\n\\x1e\\x14\\x15\\x07\\x0c'"
   ]
  },
  {
   "cell_type": "code",
   "execution_count": 29,
   "id": "d77d1cb6",
   "metadata": {},
   "outputs": [
    {
     "name": "stdout",
     "output_type": "stream",
     "text": [
      "Inlet =  0\n",
      "Theft =  0\n",
      "imei=030720229999999\n",
      "counter=0\n",
      "protocolVersion=GP10\n",
      "dieselVol=4194304000\n",
      "DTE=3072\n",
      "isGpsValid=1\n",
      "isIgnitionOn=1\n",
      "isRelayCommExec=0\n",
      "fuelProfile=None\n",
      "FromDashmaster={'isAccGyroValid': 1, 'isMEMSPresent': 0}\n",
      "FromDEUnit={'isAccGyroValid': 1, 'isMEMSPresent': 0}\n",
      "rotateDirection=Anticlkw\n",
      "TimeStampPair=0\n",
      "speed=1342177280.0\n",
      "rawLat=17.740000000\n",
      "rawLng=78.640000000\n",
      "timestamp=2021-07-12 21:10:30\n",
      "temperature=7168\n",
      "acc_x1=5120\n",
      "acc_y1=0\n",
      "acc_z1=2560\n",
      "gyro_x1=2560\n",
      "gyro_y1=2560\n",
      "gyro_z1=2560\n",
      "acc_x2=5120\n",
      "acc_y2=0\n",
      "acc_z2=2560\n",
      "gyro_x2=2560\n",
      "gyro_y2=2560\n",
      "gyro_z2=2560\n",
      "acc_x3=5120\n",
      "acc_y3=0\n",
      "acc_z3=2560\n",
      "gyro_x3=2560\n",
      "gyro_y3=2560\n",
      "gyro_z3=2560\n",
      "cementMixture={'clkw': 4608, 'anticlkw': 2560, 'startrotate': 4171498849, 'endrotate': 4171498849, 'timetorotate': 4294967040}\n",
      "batteryVolt=18\n",
      "internalVolt=255\n",
      "lastSongId=1\n",
      "{'imei': '030720229999999', 'counter': 0, 'protocolVersion': 'GP10', 'dieselVol': 4194304000, 'DTE': 3072, 'isGpsValid': 1, 'isIgnitionOn': 1, 'isRelayCommExec': 0, 'fuelProfile': None, 'FromDashmaster': {'isAccGyroValid': 1, 'isMEMSPresent': 0}, 'FromDEUnit': {'isAccGyroValid': 1, 'isMEMSPresent': 0}, 'rotateDirection': 'Anticlkw', 'TimeStampPair': 0, 'speed': 1342177280.0, 'rawLat': '17.740000000', 'rawLng': '78.640000000', 'timestamp': datetime.datetime(2021, 7, 12, 21, 10, 30), 'temperature': 7168, 'acc_x1': 5120, 'acc_y1': 0, 'acc_z1': 2560, 'gyro_x1': 2560, 'gyro_y1': 2560, 'gyro_z1': 2560, 'acc_x2': 5120, 'acc_y2': 0, 'acc_z2': 2560, 'gyro_x2': 2560, 'gyro_y2': 2560, 'gyro_z2': 2560, 'acc_x3': 5120, 'acc_y3': 0, 'acc_z3': 2560, 'gyro_x3': 2560, 'gyro_y3': 2560, 'gyro_z3': 2560, 'cementMixture': {'clkw': 4608, 'anticlkw': 2560, 'startrotate': 4171498849, 'endrotate': 4171498849, 'timetorotate': 4294967040}, 'batteryVolt': 18, 'internalVolt': 255, 'lastSongId': 1}\n"
     ]
    }
   ],
   "source": [
    "data3=b'!\\x00\\xa0\\x00\\x01\\x00\\x15\\n\\x1e\\x14\\x15\\x07\\x0cGP10030720229999999\\x83\\xccA|\\x00\\x00\\x00\\x01\\x00\\x15\\n\\x1e\\x14\\x15\\x07\\x0c\\x90\\x01\\x00\\x00\\xfa\\x00\\x00\\x00\\n\\x00\\x00\\x00\\x0c\\x00\\x00\\x00\\x0c\\x00\\x1c\\x00\\xaa\\xb4\\xb4\\x80\\x80\\x03\\x0017.74000000078.640000000P\\x00\\x00\\x00\\x14\\x00\\x00\\x00\\n\\x00\\n\\x00\\n\\x00\\n\\x00\\x14\\x00\\x00\\x00\\n\\x00\\n\\x00\\n\\x00\\n\\x00\\x14\\x00\\x00\\x00\\n\\x00\\n\\x00\\n\\x00\\n\\x00\\x12\\x00\\n\\x00\\xf8\\xa4\\x05a\\xf8\\xa4\\x05a\\xff\\xff\\xff\\x00\\x12\\xff\\x01\\xcc\\x00'\n",
    "parseme(data3)"
   ]
  },
  {
   "cell_type": "code",
   "execution_count": 30,
   "id": "608654e3",
   "metadata": {},
   "outputs": [],
   "source": [
    "bb=b'!\\x00\\xa0\\x00\\x01\\x00\\x0b<\\x1e\\x14\\x16\\x07\\x0fGP10030720229999999\\x83\\xccA|\\x00\\x00\\x00\\x01\\x00\\x0b<\\x1e\\x14\\x16\\x07\\x0f\\x90\\x01\\x00\\x00\\xfa\\x00\\x00\\x00\\n\\x00\\x00\\x00\\x0c\\x00\\x00\\x00\\x0c\\x00\\x1c\\x00\\xaa\\xb4\\xb4\\x80\\x80\\x03\\x0017.74000000078.640000000P\\x00\\x00\\x00\\x14\\x00\\x00\\x00\\n\\x00\\n\\x00\\n\\x00\\n\\x00\\x14\\x00\\x00\\x00\\n\\x00\\n\\x00\\n\\x00\\n\\x00\\x14\\x00\\x00\\x00\\n\\x00\\n\\x00\\n\\x00\\n\\x00\\x12\\x00\\n\\x00\\xf8\\xa4\\x05a\\xf8\\xa4\\x05a\\xff\\xff\\xff\\x00\\x12\\xff\\x01\\xcc\\x00'"
   ]
  },
  {
   "cell_type": "code",
   "execution_count": 32,
   "id": "afd386e4",
   "metadata": {},
   "outputs": [
    {
     "data": {
      "text/plain": [
       "('11', '60', '30')"
      ]
     },
     "execution_count": 32,
     "metadata": {},
     "output_type": "execute_result"
    }
   ],
   "source": [
    "hh = str(byteToInt(bb[40:42]))\n",
    "mm = str(byteToInt(bb[42:43]))\n",
    "ss = str(byteToInt(bb[43:44]))\n",
    "hh,mm,ss"
   ]
  },
  {
   "cell_type": "code",
   "execution_count": 10,
   "id": "8fbff6aa",
   "metadata": {},
   "outputs": [],
   "source": [
    "b=b'!\\x00\\xa0\\x00\\x01\\x00\\x12-\\x00\\x14\\x16\\x07\\x13GP10888888888888882\\x83\\xccA\\x00\\x00\\x00|\\x01\\x00\\x12-\\x00\\x14\\x16\\x07\\x13\\x00\\x00\\x00\\x00\\x00\\x00\\x00\\xfa\\x00\\x00\\x00d\\x00\\x00\\x00\\x0c\\x00\\x0c\\x00\\x19\\xaa\\xb4\\xb4\\x80\\x80\\x03\\x000.00000000000.0000000000\\x00\\x00\\x00P\\x00\\x14\\x00\\x00\\x00\\n\\x00\\n\\x00\\n\\x00\\n\\x00\\x14\\x00\\x00\\x00\\n\\x00\\n\\x00\\n\\x00\\n\\x00\\x14\\x00\\x00\\x00\\n\\x00\\n\\x00\\n\\x00\\n\\x00\\x12\\x00\\n\\x00\\x00\\x00\\x00\\x00\\x00\\x00\\x00\\x00\\x00\\x00\\x00\\x12\\xff\\x01\\x00\\xcc'"
   ]
  },
  {
   "cell_type": "code",
   "execution_count": 11,
   "id": "3e791a00",
   "metadata": {},
   "outputs": [
    {
     "name": "stdout",
     "output_type": "stream",
     "text": [
      "Inlet =  0\n",
      "Theft =  0\n",
      "imei=888888888888882\n",
      "counter=0\n",
      "protocolVersion=GP10\n",
      "dieselVol=250\n",
      "DTE=12\n",
      "isGpsValid=1\n",
      "isIgnitionOn=1\n",
      "isRelayCommExec=0\n",
      "fuelProfile=None\n",
      "FromDashmaster={'isAccGyroValid': 1, 'isMEMSPresent': 0}\n",
      "FromDEUnit={'isAccGyroValid': 1, 'isMEMSPresent': 0}\n",
      "rotateDirection=Anticlkw\n",
      "TimeStampPair=0\n",
      "speed=80.0\n",
      "rawLat=0.0000000000\n",
      "rawLng=0.0000000000\n",
      "timestamp=2022-07-19 18:45:00\n",
      "temperature=25\n",
      "acc_x1=20\n",
      "acc_y1=0\n",
      "acc_z1=10\n",
      "gyro_x1=10\n",
      "gyro_y1=10\n",
      "gyro_z1=10\n",
      "acc_x2=20\n",
      "acc_y2=0\n",
      "acc_z2=10\n",
      "gyro_x2=10\n",
      "gyro_y2=10\n",
      "gyro_z2=10\n",
      "acc_x3=20\n",
      "acc_y3=0\n",
      "acc_z3=10\n",
      "gyro_x3=10\n",
      "gyro_y3=10\n",
      "gyro_z3=10\n",
      "cementMixture={'clkw': 18, 'anticlkw': 10, 'startrotate': 0, 'endrotate': 0, 'timetorotate': 0}\n",
      "batteryVolt=18\n",
      "internalVolt=255\n",
      "lastSongId=1\n",
      "{'imei': '888888888888882', 'counter': 0, 'protocolVersion': 'GP10', 'dieselVol': 250, 'DTE': 12, 'isGpsValid': 1, 'isIgnitionOn': 1, 'isRelayCommExec': 0, 'fuelProfile': None, 'FromDashmaster': {'isAccGyroValid': 1, 'isMEMSPresent': 0}, 'FromDEUnit': {'isAccGyroValid': 1, 'isMEMSPresent': 0}, 'rotateDirection': 'Anticlkw', 'TimeStampPair': 0, 'speed': 80.0, 'rawLat': '0.0000000000', 'rawLng': '0.0000000000', 'timestamp': datetime.datetime(2022, 7, 19, 18, 45), 'temperature': 25, 'acc_x1': 20, 'acc_y1': 0, 'acc_z1': 10, 'gyro_x1': 10, 'gyro_y1': 10, 'gyro_z1': 10, 'acc_x2': 20, 'acc_y2': 0, 'acc_z2': 10, 'gyro_x2': 10, 'gyro_y2': 10, 'gyro_z2': 10, 'acc_x3': 20, 'acc_y3': 0, 'acc_z3': 10, 'gyro_x3': 10, 'gyro_y3': 10, 'gyro_z3': 10, 'cementMixture': {'clkw': 18, 'anticlkw': 10, 'startrotate': 0, 'endrotate': 0, 'timetorotate': 0}, 'batteryVolt': 18, 'internalVolt': 255, 'lastSongId': 1}\n"
     ]
    }
   ],
   "source": [
    "parseme(b)"
   ]
  },
  {
   "cell_type": "code",
   "execution_count": 8,
   "id": "db091cdc",
   "metadata": {},
   "outputs": [],
   "source": [
    "b=b'!\\x00\\xa0\\x01\\x01\\x00\\x142$\\x14\\x16\\x07\\x14GP10999999999999994\\x81\\x88A\\x00\\x00\\x00|\\x01\\x00\\x142$\\x14\\x16\\x07\\x14\\x00\\x00\\x01\\xf4\\x00\\x00\\x01\\xa4\\x00\\x00\\x00\\x00\\x00\\x00\\x00\\x06\\x01^\\x00\\x17|\\xf6\\x80\\x86\\n\\x86\\x0117.41722000078.499260000\\x00\\x00\\x00\\x15\\x00\\x02\\x00\\x0c\\x00\\x02\\x00\\x03\\x00\\x00\\x00\\n\\x00\\x06\\x00\\x07\\x00\\x05\\x00\\x07\\x00\\x02\\x00\\x01\\x00\\x06\\x00\\x02\\x00\\x06\\x00\\x08\\x00\\n\\x00\\t\\x00 \\x00 \\x00\\x00\\x00\\x00\\x00\\x00\\x00\\x00\\x00\\x00\\x00\\x00\\x0c\\x04\\xde\\xff\\xff'"
   ]
  },
  {
   "cell_type": "code",
   "execution_count": 15,
   "id": "dd5ad894",
   "metadata": {},
   "outputs": [
    {
     "name": "stdout",
     "output_type": "stream",
     "text": [
      "Inlet =  0\n",
      "Theft =  0\n",
      "imei=888888888888882\n",
      "counter=47\n",
      "protocolVersion=GP10\n",
      "dieselVol=171\n",
      "DTE=12\n",
      "isGpsValid=1\n",
      "isIgnitionOn=1\n",
      "isRelayCommExec=0\n",
      "fuelProfile=None\n",
      "FromDashmaster={'isAccGyroValid': 1, 'isMEMSPresent': 0}\n",
      "FromDEUnit={'isAccGyroValid': 1, 'isMEMSPresent': 0}\n",
      "rotateDirection=Anticlkw\n",
      "TimeStampPair=0\n",
      "speed=80.0\n",
      "rawLat=17.730000000\n",
      "rawLng=78.630000000\n",
      "timestamp=2022-07-19 18:45:00\n",
      "temperature=34\n",
      "acc_x1=10\n",
      "acc_y1=10\n",
      "acc_z1=10\n",
      "gyro_x1=10\n",
      "gyro_y1=10\n",
      "gyro_z1=10\n",
      "acc_x2=10\n",
      "acc_y2=0\n",
      "acc_z2=10\n",
      "gyro_x2=10\n",
      "gyro_y2=10\n",
      "gyro_z2=10\n",
      "acc_x3=10\n",
      "acc_y3=10\n",
      "acc_z3=10\n",
      "gyro_x3=10\n",
      "gyro_y3=10\n",
      "gyro_z3=10\n",
      "cementMixture={'clkw': 18, 'anticlkw': 10, 'startrotate': 0, 'endrotate': 0, 'timetorotate': 0}\n",
      "batteryVolt=18\n",
      "internalVolt=255\n",
      "lastSongId=1\n",
      "{'imei': '888888888888882', 'counter': 47, 'protocolVersion': 'GP10', 'dieselVol': 171, 'DTE': 12, 'isGpsValid': 1, 'isIgnitionOn': 1, 'isRelayCommExec': 0, 'fuelProfile': None, 'FromDashmaster': {'isAccGyroValid': 1, 'isMEMSPresent': 0}, 'FromDEUnit': {'isAccGyroValid': 1, 'isMEMSPresent': 0}, 'rotateDirection': 'Anticlkw', 'TimeStampPair': 0, 'speed': 80.0, 'rawLat': '17.730000000', 'rawLng': '78.630000000', 'timestamp': datetime.datetime(2022, 7, 19, 18, 45), 'temperature': 34, 'acc_x1': 10, 'acc_y1': 10, 'acc_z1': 10, 'gyro_x1': 10, 'gyro_y1': 10, 'gyro_z1': 10, 'acc_x2': 10, 'acc_y2': 0, 'acc_z2': 10, 'gyro_x2': 10, 'gyro_y2': 10, 'gyro_z2': 10, 'acc_x3': 10, 'acc_y3': 10, 'acc_z3': 10, 'gyro_x3': 10, 'gyro_y3': 10, 'gyro_z3': 10, 'cementMixture': {'clkw': 18, 'anticlkw': 10, 'startrotate': 0, 'endrotate': 0, 'timetorotate': 0}, 'batteryVolt': 18, 'internalVolt': 255, 'lastSongId': 1}\n"
     ]
    }
   ],
   "source": [
    "b=b'!\\x00\\xa0/\\x01\\x00\\x12-\\x00\\x14\\x16\\x07\\x13GP10888888888888882\\x83\\xccA\\x00\\x00\\x00|\\x01\\x00\\x12-\\x00\\x14\\x16\\x07\\x13\\x00\\x00\\x00\\x00\\x00\\x00\\x00\\xab\\x00\\x00\\x00d\\x00\\x00\\x00\\x0c\\x00\\x0c\\x00\"\\xaa\\xb4\\xb4\\x80\\x80\\x03\\x0017.73000000078.630000000\\x00\\x00\\x00P\\x00\\n\\x00\\n\\x00\\n\\x00\\n\\x00\\n\\x00\\n\\x00\\n\\x00\\x00\\x00\\n\\x00\\n\\x00\\n\\x00\\n\\x00\\n\\x00\\n\\x00\\n\\x00\\n\\x00\\n\\x00\\n\\x00\\x12\\x00\\n\\x00\\x00\\x00\\x00\\x00\\x00\\x00\\x00\\x00\\x00\\x00\\x00\\x12\\xff\\x01\\x00\\xcc'\n",
    "parseme(b)"
   ]
  },
  {
   "cell_type": "code",
   "execution_count": 17,
   "id": "a7631a2d",
   "metadata": {},
   "outputs": [
    {
     "name": "stdout",
     "output_type": "stream",
     "text": [
      "Inlet =  0\n",
      "Theft =  0\n",
      "imei=888888888888882\n",
      "counter=15\n",
      "protocolVersion=GP10\n",
      "dieselVol=171\n",
      "DTE=12\n",
      "isGpsValid=1\n",
      "isIgnitionOn=1\n",
      "isRelayCommExec=0\n",
      "fuelProfile=None\n",
      "FromDashmaster={'isAccGyroValid': 1, 'isMEMSPresent': 0}\n",
      "FromDEUnit={'isAccGyroValid': 1, 'isMEMSPresent': 0}\n",
      "rotateDirection=Anticlkw\n",
      "TimeStampPair=0\n",
      "speed=80.0\n",
      "rawLat=17.730000000\n",
      "rawLng=78.630000000\n",
      "timestamp=2022-07-19 18:45:00\n",
      "temperature=36\n",
      "acc_x1=0\n",
      "acc_y1=0\n",
      "acc_z1=0\n",
      "gyro_x1=255\n",
      "gyro_y1=4\n",
      "gyro_z1=5\n",
      "acc_x2=0\n",
      "acc_y2=0\n",
      "acc_z2=0\n",
      "gyro_x2=255\n",
      "gyro_y2=4\n",
      "gyro_z2=5\n",
      "acc_x3=0\n",
      "acc_y3=0\n",
      "acc_z3=0\n",
      "gyro_x3=255\n",
      "gyro_y3=4\n",
      "gyro_z3=5\n",
      "cementMixture={'clkw': 18, 'anticlkw': 10, 'startrotate': 0, 'endrotate': 0, 'timetorotate': 0}\n",
      "batteryVolt=18\n",
      "internalVolt=255\n",
      "lastSongId=1\n",
      "{'imei': '888888888888882', 'counter': 15, 'protocolVersion': 'GP10', 'dieselVol': 171, 'DTE': 12, 'isGpsValid': 1, 'isIgnitionOn': 1, 'isRelayCommExec': 0, 'fuelProfile': None, 'FromDashmaster': {'isAccGyroValid': 1, 'isMEMSPresent': 0}, 'FromDEUnit': {'isAccGyroValid': 1, 'isMEMSPresent': 0}, 'rotateDirection': 'Anticlkw', 'TimeStampPair': 0, 'speed': 80.0, 'rawLat': '17.730000000', 'rawLng': '78.630000000', 'timestamp': datetime.datetime(2022, 7, 19, 18, 45), 'temperature': 36, 'acc_x1': 0, 'acc_y1': 0, 'acc_z1': 0, 'gyro_x1': 255, 'gyro_y1': 4, 'gyro_z1': 5, 'acc_x2': 0, 'acc_y2': 0, 'acc_z2': 0, 'gyro_x2': 255, 'gyro_y2': 4, 'gyro_z2': 5, 'acc_x3': 0, 'acc_y3': 0, 'acc_z3': 0, 'gyro_x3': 255, 'gyro_y3': 4, 'gyro_z3': 5, 'cementMixture': {'clkw': 18, 'anticlkw': 10, 'startrotate': 0, 'endrotate': 0, 'timetorotate': 0}, 'batteryVolt': 18, 'internalVolt': 255, 'lastSongId': 1}\n"
     ]
    }
   ],
   "source": [
    "b=b'!\\x00\\xa0\\x0f\\x01\\x00\\x12-\\x00\\x14\\x16\\x07\\x13GP10888888888888882\\x83\\xccA\\x00\\x00\\x00|\\x01\\x00\\x12-\\x00\\x14\\x16\\x07\\x13\\x00\\x00\\x00\\x00\\x00\\x00\\x00\\xab\\x00\\x00\\x00d\\x00\\x00\\x00\\x0c\\x00\\x0c\\x00$\\xaa\\xb4\\xb4\\x80\\x80\\x03\\x0017.73000000078.630000000\\x00\\x00\\x00P\\x00\\x00\\x00\\x00\\x00\\x00\\x00\\xff\\x00\\x04\\x00\\x05\\x00\\x00\\x00\\x00\\x00\\x00\\x00\\xff\\x00\\x04\\x00\\x05\\x00\\x00\\x00\\x00\\x00\\x00\\x00\\xff\\x00\\x04\\x00\\x05\\x00\\x12\\x00\\n\\x00\\x00\\x00\\x00\\x00\\x00\\x00\\x00\\x00\\x00\\x00\\x00\\x12\\xff\\x01\\x00\\xcc'\n",
    "parseme(b)\n"
   ]
  },
  {
   "cell_type": "code",
   "execution_count": null,
   "id": "5b566478",
   "metadata": {},
   "outputs": [],
   "source": [
    "speed = (speed)"
   ]
  }
 ],
 "metadata": {
  "kernelspec": {
   "display_name": "Python 3 (ipykernel)",
   "language": "python",
   "name": "python3"
  },
  "language_info": {
   "codemirror_mode": {
    "name": "ipython",
    "version": 3
   },
   "file_extension": ".py",
   "mimetype": "text/x-python",
   "name": "python",
   "nbconvert_exporter": "python",
   "pygments_lexer": "ipython3",
   "version": "3.8.10"
  }
 },
 "nbformat": 4,
 "nbformat_minor": 5
}
