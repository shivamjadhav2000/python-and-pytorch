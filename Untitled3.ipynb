{
 "cells": [
  {
   "cell_type": "code",
   "execution_count": 5,
   "id": "e89c7b2a",
   "metadata": {},
   "outputs": [],
   "source": [
    "def ff(x):\n",
    "    if type(x)!=int:\n",
    "        return None\n",
    "    if x%2==0:\n",
    "        return True\n",
    "    else:\n",
    "        return False"
   ]
  },
  {
   "cell_type": "code",
   "execution_count": 15,
   "id": "1d88d823",
   "metadata": {},
   "outputs": [],
   "source": [
    "testcases=[\n",
    "    {'x':2,'output':True},\n",
    "    {'x':1,'output':False},\n",
    "    {'x':0,'output':True},\n",
    "    {'x':'','output':None}]\n"
   ]
  },
  {
   "cell_type": "code",
   "execution_count": 16,
   "id": "8815718f",
   "metadata": {},
   "outputs": [
    {
     "name": "stdout",
     "output_type": "stream",
     "text": [
      "True\n",
      "True\n",
      "True\n",
      "True\n"
     ]
    }
   ],
   "source": [
    "for test in  testcases:\n",
    "    print(ff(test['x']) == test['output'])\n",
    "    "
   ]
  },
  {
   "cell_type": "code",
   "execution_count": 1,
   "id": "3d79f17f",
   "metadata": {},
   "outputs": [],
   "source": [
    "def divide(dividend: int, divisor: int):\n",
    "        if dividend<divisor:\n",
    "            return 0\n",
    "        else:\n",
    "            return 1+divide(dividend-divisor,divisor)"
   ]
  },
  {
   "cell_type": "code",
   "execution_count": 10,
   "id": "56c49674",
   "metadata": {},
   "outputs": [
    {
     "data": {
      "text/plain": [
       "0"
      ]
     },
     "execution_count": 10,
     "metadata": {},
     "output_type": "execute_result"
    }
   ],
   "source": [
    "divide(0,10)"
   ]
  },
  {
   "cell_type": "code",
   "execution_count": 5,
   "id": "357ee346",
   "metadata": {},
   "outputs": [],
   "source": [
    "k=1\n",
    "k*=-11"
   ]
  },
  {
   "cell_type": "code",
   "execution_count": 6,
   "id": "80b88a67",
   "metadata": {},
   "outputs": [
    {
     "data": {
      "text/plain": [
       "-11"
      ]
     },
     "execution_count": 6,
     "metadata": {},
     "output_type": "execute_result"
    }
   ],
   "source": [
    "k"
   ]
  },
  {
   "cell_type": "code",
   "execution_count": 11,
   "id": "586dbd2d",
   "metadata": {},
   "outputs": [],
   "source": [
    "p=True"
   ]
  },
  {
   "cell_type": "code",
   "execution_count": 12,
   "id": "03c43c93",
   "metadata": {},
   "outputs": [],
   "source": [
    "p=not p"
   ]
  },
  {
   "cell_type": "code",
   "execution_count": 13,
   "id": "aeb52a43",
   "metadata": {},
   "outputs": [
    {
     "data": {
      "text/plain": [
       "False"
      ]
     },
     "execution_count": 13,
     "metadata": {},
     "output_type": "execute_result"
    }
   ],
   "source": [
    "p"
   ]
  },
  {
   "cell_type": "code",
   "execution_count": 58,
   "id": "136d9ae2",
   "metadata": {},
   "outputs": [],
   "source": [
    "def divide( dividend: int, divisor: int) -> int:\n",
    "    isnegative=False\n",
    "    print(\"dividend=\",dividend,\"divisor=\",divisor)\n",
    "    if not (dividend>=0 and divisor>0):\n",
    "        dividend=abs(dividend)\n",
    "        divisor=abs(divisor)\n",
    "        isnegative=True\n",
    "        print(dividend,divisor)\n",
    "    output=0\n",
    "    while dividend>=divisor:\n",
    "        \n",
    "        dividend-=divisor\n",
    "        output+=1\n",
    "        print(dividend,divisor,output)\n",
    "    return -1*output if isnegative else output\n",
    "        \n",
    "        "
   ]
  },
  {
   "cell_type": "code",
   "execution_count": 59,
   "id": "9c5d4c62",
   "metadata": {},
   "outputs": [
    {
     "name": "stdout",
     "output_type": "stream",
     "text": [
      "dividend= 7 divisor= -3\n",
      "7 3\n",
      "4 3 1\n",
      "1 3 2\n"
     ]
    },
    {
     "data": {
      "text/plain": [
       "-2"
      ]
     },
     "execution_count": 59,
     "metadata": {},
     "output_type": "execute_result"
    }
   ],
   "source": [
    "divide(7,-3)"
   ]
  },
  {
   "cell_type": "code",
   "execution_count": 60,
   "id": "b8302217",
   "metadata": {},
   "outputs": [],
   "source": [
    "def divide( dividend: int, divisor: int) -> int:\n",
    "    isnegative=False\n",
    "    print(\"dividend=\",dividend,\"divisor=\",divisor)\n",
    "    if not (dividend>=0 and divisor>0):\n",
    "        isnegative=True\n",
    "        if \n",
    "        dividend=abs(dividend)\n",
    "        divisor=abs(divisor)\n",
    "        print(dividend,divisor)\n",
    "        \n",
    "    output=0\n",
    "    while dividend>=divisor:\n",
    "        dividend-=divisor\n",
    "        output+=1\n",
    "        print(dividend,divisor,output)\n",
    "    return -1*output if isnegative else output"
   ]
  },
  {
   "cell_type": "code",
   "execution_count": 62,
   "id": "18fb378b",
   "metadata": {},
   "outputs": [
    {
     "name": "stdout",
     "output_type": "stream",
     "text": [
      "dividend= -1 divisor= -1\n",
      "1 1\n",
      "0 1 1\n"
     ]
    },
    {
     "data": {
      "text/plain": [
       "-1"
      ]
     },
     "execution_count": 62,
     "metadata": {},
     "output_type": "execute_result"
    }
   ],
   "source": [
    "divide(-1,-1)"
   ]
  },
  {
   "cell_type": "code",
   "execution_count": null,
   "id": "b1cbb93a",
   "metadata": {},
   "outputs": [],
   "source": []
  }
 ],
 "metadata": {
  "kernelspec": {
   "display_name": "Python 3 (ipykernel)",
   "language": "python",
   "name": "python3"
  },
  "language_info": {
   "codemirror_mode": {
    "name": "ipython",
    "version": 3
   },
   "file_extension": ".py",
   "mimetype": "text/x-python",
   "name": "python",
   "nbconvert_exporter": "python",
   "pygments_lexer": "ipython3",
   "version": "3.10.6"
  }
 },
 "nbformat": 4,
 "nbformat_minor": 5
}
