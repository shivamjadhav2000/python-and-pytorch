{
 "cells": [
  {
   "cell_type": "markdown",
   "id": "1c303f94",
   "metadata": {},
   "source": [
    "Regular expression"
   ]
  },
  {
   "cell_type": "code",
   "execution_count": 14,
   "id": "2a2f4384",
   "metadata": {},
   "outputs": [],
   "source": [
    "import re\n",
    "s=\"ab\"\n",
    "p=\"*.\""
   ]
  },
  {
   "cell_type": "code",
   "execution_count": 15,
   "id": "761070ee",
   "metadata": {},
   "outputs": [
    {
     "name": "stdout",
     "output_type": "stream",
     "text": [
      "hihi\n"
     ]
    }
   ],
   "source": [
    "print(\"hihi\") and re.match(p,s)"
   ]
  },
  {
   "cell_type": "code",
   "execution_count": 19,
   "id": "b4101f42",
   "metadata": {},
   "outputs": [],
   "source": [
    "def reverseWords(s):\n",
    "        summ=0\n",
    "        for idx,i in enumerate(s.split()):\n",
    "            L=len(i)\n",
    "            l,r=0,L-1\n",
    "            for j in range(L//2):\n",
    "                s[l+idx+summ],s[summ+idx+r]=s[summ+idx+r],s[l+idx+summ]\n",
    "            summ+=L\n",
    "        print(s)"
   ]
  },
  {
   "cell_type": "code",
   "execution_count": 20,
   "id": "4348a9a6",
   "metadata": {},
   "outputs": [
    {
     "ename": "TypeError",
     "evalue": "'str' object does not support item assignment",
     "output_type": "error",
     "traceback": [
      "\u001b[0;31m---------------------------------------------------------------------------\u001b[0m",
      "\u001b[0;31mTypeError\u001b[0m                                 Traceback (most recent call last)",
      "Cell \u001b[0;32mIn [20], line 1\u001b[0m\n\u001b[0;32m----> 1\u001b[0m reverseWords(\u001b[38;5;124m'\u001b[39m\u001b[38;5;124mabc def\u001b[39m\u001b[38;5;124m'\u001b[39m)\n",
      "Cell \u001b[0;32mIn [19], line 7\u001b[0m, in \u001b[0;36mreverseWords\u001b[0;34m(s)\u001b[0m\n\u001b[1;32m      5\u001b[0m     l,r\u001b[38;5;241m=\u001b[39m\u001b[38;5;241m0\u001b[39m,L\u001b[38;5;241m-\u001b[39m\u001b[38;5;241m1\u001b[39m\n\u001b[1;32m      6\u001b[0m     \u001b[38;5;28;01mfor\u001b[39;00m j \u001b[38;5;129;01min\u001b[39;00m \u001b[38;5;28mrange\u001b[39m(L\u001b[38;5;241m/\u001b[39m\u001b[38;5;241m/\u001b[39m\u001b[38;5;241m2\u001b[39m):\n\u001b[0;32m----> 7\u001b[0m         s[l\u001b[38;5;241m+\u001b[39midx\u001b[38;5;241m+\u001b[39msumm],s[summ\u001b[38;5;241m+\u001b[39midx\u001b[38;5;241m+\u001b[39mr]\u001b[38;5;241m=\u001b[39ms[summ\u001b[38;5;241m+\u001b[39midx\u001b[38;5;241m+\u001b[39mr],s[l\u001b[38;5;241m+\u001b[39midx\u001b[38;5;241m+\u001b[39msumm]\n\u001b[1;32m      8\u001b[0m     summ\u001b[38;5;241m+\u001b[39m\u001b[38;5;241m=\u001b[39mL\n\u001b[1;32m      9\u001b[0m \u001b[38;5;28mprint\u001b[39m(s)\n",
      "\u001b[0;31mTypeError\u001b[0m: 'str' object does not support item assignment"
     ]
    }
   ],
   "source": [
    "reverseWords('abc def')"
   ]
  },
  {
   "cell_type": "code",
   "execution_count": 30,
   "id": "220f72ce",
   "metadata": {},
   "outputs": [
    {
     "data": {
      "text/plain": [
       "'cba fed'"
      ]
     },
     "execution_count": 30,
     "metadata": {},
     "output_type": "execute_result"
    }
   ],
   "source": [
    "\" \".join(list(map(lambda x:x[::-1],\"abc def\".split())))"
   ]
  },
  {
   "cell_type": "code",
   "execution_count": 27,
   "id": "4cf39806",
   "metadata": {},
   "outputs": [
    {
     "data": {
      "text/plain": [
       "'sba'"
      ]
     },
     "execution_count": 27,
     "metadata": {},
     "output_type": "execute_result"
    }
   ],
   "source": [
    "'abs'[::-1]"
   ]
  },
  {
   "cell_type": "code",
   "execution_count": null,
   "id": "ead5f8f1",
   "metadata": {},
   "outputs": [],
   "source": []
  }
 ],
 "metadata": {
  "kernelspec": {
   "display_name": "Python 3 (ipykernel)",
   "language": "python",
   "name": "python3"
  },
  "language_info": {
   "codemirror_mode": {
    "name": "ipython",
    "version": 3
   },
   "file_extension": ".py",
   "mimetype": "text/x-python",
   "name": "python",
   "nbconvert_exporter": "python",
   "pygments_lexer": "ipython3",
   "version": "3.10.6"
  }
 },
 "nbformat": 4,
 "nbformat_minor": 5
}
