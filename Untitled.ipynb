{
 "cells": [
  {
   "cell_type": "code",
   "execution_count": 1,
   "id": "d7c8855c",
   "metadata": {},
   "outputs": [],
   "source": [
    "k=b'%,583,GP11,888888888888882,160704,20220819,020,\n",
    "*XD,535K,07,04019,0100,0100,04016,0314,0111,7B#,1,0000.0000,0,0000.0000,0,000.20,160704,20220819,-37.,-5.0,0.0,1.0,0.0,41.,24,1,$\n",
    "*XD,0000,00,00000,0000,0000,00000,0000,0000,00#,1,1734.9380,N,7819.4758,E,000.50,043027,20220819,-91.,-38.,-13.,0.0,1.0,0.0,72.,24,1,$\n",
    "*XD,0000,00,00000,0000,0000,00000,0000,0000,00#,1,1734.9380,N,7819.4758,E,000.50,043027,20220819,-91.,-38.,-13.,0.0,1.0,0.0,72.,24,1,$\n",
    "*XD,0000,00,00000,0000,0000,00000,0000,0000,00#,1,1734.9380,N,7819.4758,E,000.50,043027,20220819,-91.,-38.,-13.,0.0,1.0,0.0,72.,24,1,$'\n",
    "\n",
    "\n",
    "\n"
   ]
  },
  {
   "cell_type": "code",
   "execution_count": 4,
   "id": "026cc0ca",
   "metadata": {},
   "outputs": [
    {
     "data": {
      "text/plain": [
       "583"
      ]
     },
     "execution_count": 4,
     "metadata": {},
     "output_type": "execute_result"
    }
   ],
   "source": [
    "k=b'%,583,GP11,888888888888882,160704,20220819,020,*XD,535K,07,04019,0100,0100,04016,0314,0111,7B#,1,0000.0000,0,0000.0000,0,000.20,160704,20220819,-37.,-5.0,0.0,1.0,0.0,41.,24,1,$*XD,0000,00,00000,0000,0000,00000,0000,0000,00#,1,1734.9380,N,7819.4758,E,000.50,043027,20220819,-91.,-38.,-13.,0.0,1.0,0.0,72.,24,1,$*XD,0000,00,00000,0000,0000,00000,0000,0000,00#,1,1734.9380,N,7819.4758,E,000.50,043027,20220819,-91.,-38.,-13.,0.0,1.0,0.0,72.,24,1,$*XD,0000,00,00000,0000,0000,00000,0000,0000,00#,1,1734.9380,N,7819.4758,E,000.50,043027,20220819,-91.,-38.,-13.,0.0,1.0,0.0,72.,24,1,$'\n",
    "len(k)+5"
   ]
  },
  {
   "cell_type": "code",
   "execution_count": 6,
   "id": "0f53a31a",
   "metadata": {},
   "outputs": [
    {
     "data": {
      "text/plain": [
       "583"
      ]
     },
     "execution_count": 6,
     "metadata": {},
     "output_type": "execute_result"
    }
   ],
   "source": [
    "k=b'%,583,GP11,888888888888882,040012,20220819,011,*XD,535K,07,03982,0100,0100,03979,0307,0111,96#,1,1734.9374,N,7819.4765,E,000.11,040012,20220819,-37.,-3.0,0.0,1.0,0.0,36.,24,1,$*XD,0000,00,00000,0000,0000,00000,0000,0000,00#,1,1734.9380,N,7819.4758,E,000.50,043027,20220819,-91.,-38.,-13.,0.0,1.0,0.0,72.,24,1,$*XD,0000,00,00000,0000,0000,00000,0000,0000,00#,1,1734.9380,N,7819.4758,E,000.50,043027,20220819,-91.,-38.,-13.,0.0,1.0,0.0,72.,24,1,$*XD,0000,00,00000,0000,0000,00000,0000,0000,00#,1,1734.9380,N,7819.4758,E,000.50,043027,20220819,-91.,-38.,-13.,0.0,1.0,0.0,72.,24,1,$'\n",
    "k=k.decode()\n",
    "len(k)+5"
   ]
  },
  {
   "cell_type": "code",
   "execution_count": 7,
   "id": "83bcf554",
   "metadata": {},
   "outputs": [],
   "source": [
    "k=b'%,583,GP11,888888888888882,045552,20220819,126,*XD,535K,06,03913,0100,0164,03913,0358,0111,93#,1,1734.9373,N,7819.4779,E,000.01,045552,20220819,-38.,-21.,0.0,1.0,0.0,24,1,$*XD,0000,00,00000,0000,0000,00000,0000,0000,00#,1,1734.9380,N,7819.4758,E,000.50,043027,20220819,-91.,-38.,-13.,0.0,1.0,0.0,72.,24,1,$*XD,0000,00,00000,0000,0000,00000,0000,0000,00#,1,1734.9380,N,7819.4758,E,000.50,043027,20220819,-91.,-38.,-13.,0.0,1.0,0.0,72.,24,1,$*XD,0000,00,00000,0000,0000,00000,0000,0000,00#,1,1734.9380,N,7819.4758,E,000.50,043027,20220819,-91.,-38.,-13.,0.0,1.0,0.0,72.,24,1,$'"
   ]
  },
  {
   "cell_type": "code",
   "execution_count": 8,
   "id": "2c0696b5",
   "metadata": {},
   "outputs": [
    {
     "data": {
      "text/plain": [
       "574"
      ]
     },
     "execution_count": 8,
     "metadata": {},
     "output_type": "execute_result"
    }
   ],
   "source": [
    "len(k)"
   ]
  },
  {
   "cell_type": "code",
   "execution_count": 9,
   "id": "7ba3cd65",
   "metadata": {},
   "outputs": [],
   "source": [
    "k=b'%,583,GP11,888888888888882,045903,20220819,132,*XD,535K,07,03912,0100,0100,03912,0358,0111,88#,1,1734.9376,N,7819.4780,E,000.03,045903,20220819,-38.,-22.,0.0,1.0,0.0,24,1,$'"
   ]
  },
  {
   "cell_type": "code",
   "execution_count": 10,
   "id": "b60e73bd",
   "metadata": {},
   "outputs": [
    {
     "data": {
      "text/plain": [
       "172"
      ]
     },
     "execution_count": 10,
     "metadata": {},
     "output_type": "execute_result"
    }
   ],
   "source": [
    "len(k)"
   ]
  },
  {
   "cell_type": "code",
   "execution_count": null,
   "id": "dc93c4e9",
   "metadata": {},
   "outputs": [],
   "source": []
  },
  {
   "cell_type": "code",
   "execution_count": null,
   "id": "f92214b6",
   "metadata": {},
   "outputs": [],
   "source": []
  },
  {
   "cell_type": "code",
   "execution_count": null,
   "id": "ae6c5830",
   "metadata": {},
   "outputs": [],
   "source": []
  },
  {
   "cell_type": "code",
   "execution_count": null,
   "id": "56bae6fb",
   "metadata": {},
   "outputs": [],
   "source": []
  },
  {
   "cell_type": "code",
   "execution_count": null,
   "id": "ac9581a9",
   "metadata": {},
   "outputs": [],
   "source": []
  },
  {
   "cell_type": "code",
   "execution_count": null,
   "id": "fb67e78d",
   "metadata": {},
   "outputs": [],
   "source": []
  },
  {
   "cell_type": "code",
   "execution_count": 1,
   "id": "8352de7d",
   "metadata": {},
   "outputs": [],
   "source": [
    "class k:\n",
    "    def __init__(self):\n",
    "        self.b()\n",
    "    def b(self):\n",
    "        print(\"hihihih\")"
   ]
  },
  {
   "cell_type": "code",
   "execution_count": 2,
   "id": "8bf4f84f",
   "metadata": {},
   "outputs": [
    {
     "name": "stdout",
     "output_type": "stream",
     "text": [
      "hihihih\n"
     ]
    }
   ],
   "source": [
    "lll=k()"
   ]
  },
  {
   "cell_type": "code",
   "execution_count": 3,
   "id": "aba3d0e4",
   "metadata": {},
   "outputs": [
    {
     "name": "stdout",
     "output_type": "stream",
     "text": [
      "JJKGKJ\n"
     ]
    }
   ],
   "source": [
    "print('jjkgkj'.upper())"
   ]
  },
  {
   "cell_type": "code",
   "execution_count": 16,
   "id": "b1050285",
   "metadata": {},
   "outputs": [
    {
     "name": "stdout",
     "output_type": "stream",
     "text": [
      "1 2 3 1 2 3 4\n",
      "4\n"
     ]
    }
   ],
   "source": [
    "from sys import stdin\n",
    "for line in input():\n",
    "    n=int(line)\n",
    "    l=[int(i) for i in n.split()]\n",
    "    s=list(set(l))\n",
    "    freq=[l.count(i) for i in s]\n",
    "    m=max(freq)\n",
    "    if freq.count(m)>1:\n",
    "        print(s[freq.index(min(freq))])\n",
    "    else:\n",
    "        print(s[freq.index(m)])\n",
    "\n",
    "        "
   ]
  },
  {
   "cell_type": "code",
   "execution_count": 5,
   "id": "72035c45",
   "metadata": {},
   "outputs": [],
   "source": [
    "l=[1,2,1,2,3]"
   ]
  },
  {
   "cell_type": "code",
   "execution_count": 7,
   "id": "5debb826",
   "metadata": {},
   "outputs": [
    {
     "data": {
      "text/plain": [
       "{1, 2, 3}"
      ]
     },
     "execution_count": 7,
     "metadata": {},
     "output_type": "execute_result"
    }
   ],
   "source": [
    "s=set(l)\n",
    "s"
   ]
  },
  {
   "cell_type": "code",
   "execution_count": 9,
   "id": "2057188f",
   "metadata": {},
   "outputs": [
    {
     "data": {
      "text/plain": [
       "[2, 2, 1]"
      ]
     },
     "execution_count": 9,
     "metadata": {},
     "output_type": "execute_result"
    }
   ],
   "source": [
    "f=[l.count(i) for i in s]\n",
    "f"
   ]
  },
  {
   "cell_type": "code",
   "execution_count": 10,
   "id": "414f4099",
   "metadata": {},
   "outputs": [
    {
     "data": {
      "text/plain": [
       "0"
      ]
     },
     "execution_count": 10,
     "metadata": {},
     "output_type": "execute_result"
    }
   ],
   "source": [
    "f.index(2)"
   ]
  },
  {
   "cell_type": "code",
   "execution_count": 28,
   "id": "562fda88",
   "metadata": {},
   "outputs": [
    {
     "data": {
      "text/plain": [
       "(0, 11)"
      ]
     },
     "execution_count": 28,
     "metadata": {},
     "output_type": "execute_result"
    }
   ],
   "source": [
    "import re\n",
    "l='111-222-333'\n",
    "k=re.search(r'[\\d][\\d][\\d]-[\\d][\\d]-[\\d][\\d]-[\\d][\\d][\\d][\\d]',l)\n",
    "k.span()"
   ]
  },
  {
   "cell_type": "code",
   "execution_count": 29,
   "id": "700a982c",
   "metadata": {},
   "outputs": [
    {
     "ename": "SyntaxError",
     "evalue": "invalid syntax (2770779303.py, line 1)",
     "output_type": "error",
     "traceback": [
      "\u001b[0;36m  Input \u001b[0;32mIn [29]\u001b[0;36m\u001b[0m\n\u001b[0;31m    for sys import stdin\u001b[0m\n\u001b[0m            ^\u001b[0m\n\u001b[0;31mSyntaxError\u001b[0m\u001b[0;31m:\u001b[0m invalid syntax\n"
     ]
    }
   ],
   "source": [
    "for sys import stdin\n",
    "lines=[]\n",
    "for line in stdin:\n",
    "    lines.append(line)\n",
    "    \n",
    "#write from here\n",
    "\n",
    "for line in lines:\n",
    "    i,j=re.search(r'[\\d][\\d][\\d]-[\\d][\\d]-[\\d][\\d]-[\\d][\\d][\\d][\\d]',l).span()\n",
    "    t=line[i:j]\n",
    "    t=t.split('-')\n",
    "    print(\"\".join(t))"
   ]
  },
  {
   "cell_type": "code",
   "execution_count": 4,
   "id": "de20557b",
   "metadata": {},
   "outputs": [],
   "source": [
    "l=[[1,0,0,1],[0,1,1,0],[0,1,1,0],[1,0,0,1]]"
   ]
  },
  {
   "cell_type": "code",
   "execution_count": 5,
   "id": "698202e5",
   "metadata": {},
   "outputs": [
    {
     "name": "stdout",
     "output_type": "stream",
     "text": [
      "1 0 0 1\n",
      "0 1 1 0\n",
      "0 1 1 0\n",
      "1 0 0 1\n"
     ]
    }
   ],
   "source": [
    "for i in l:\n",
    "    print(\" \".join([str(j) for j in i]))"
   ]
  },
  {
   "cell_type": "code",
   "execution_count": 1,
   "id": "3ac0b4f5",
   "metadata": {},
   "outputs": [],
   "source": [
    "filterdata= [(b'1662624211-0', {b'speed': b'1.58', b'fuelReportTime': b'1662624211.0', b'lat': b'17.737015', b'lng': b'78.636048333', b'FuelLevel': b'244.492', b'vehicleId': b'62fc872dc92f22785ab3fdbc'})\n",
    ", (b'1662624223-0', {b'speed': b'0.49', b'fuelReportTime': b'1662624223.0', b'lat': b'17.737015', b'lng': b'78.636048333', b'FuelLevel': b'242.646', b'vehicleId': b'62fc872dc92f22785ab3fdbc'})\n",
    ", (b'1662624235-0', {b'speed': b'0.44', b'fuelReportTime': b'1662624235.0', b'lat': b'17.737015', b'lng': b'78.636048333', b'FuelLevel': b'241.231', b'vehicleId': b'62fc872dc92f22785ab3fdbc'})\n",
    ", (b'1662624247-0', {b'speed': b'1.87', b'fuelReportTime': b'1662624247.0', b'lat': b'17.737015', b'lng': b'78.636048333', b'FuelLevel': b'239.631', b'vehicleId': b'62fc872dc92f22785ab3fdbc'})\n",
    ", (b'1662624259-0', {b'speed': b'1.77', b'fuelReportTime': b'1662624259.0', b'lat': b'17.737015', b'lng': b'78.636048333', b'FuelLevel': b'237.846', b'vehicleId': b'62fc872dc92f22785ab3fdbc'})\n",
    ", (b'1662624271-0', {b'speed': b'0.46', b'fuelReportTime': b'1662624271.0', b'lat': b'17.737015', b'lng': b'78.636048333', b'FuelLevel': b'236.308', b'vehicleId': b'62fc872dc92f22785ab3fdbc'})\n",
    ", (b'1662624283-0', {b'speed': b'1.87', b'fuelReportTime': b'1662624283.0', b'lat': b'17.737015', b'lng': b'78.636048333', b'FuelLevel': b'234.708', b'vehicleId': b'62fc872dc92f22785ab3fdbc'})\n",
    ", (b'1662624295-0', {b'speed': b'0.63', b'fuelReportTime': b'1662624295.0', b'lat': b'17.737015', b'lng': b'78.636048333', b'FuelLevel': b'232.923', b'vehicleId': b'62fc872dc92f22785ab3fdbc'})\n",
    "]"
   ]
  },
  {
   "cell_type": "code",
   "execution_count": 9,
   "id": "289fee0a",
   "metadata": {},
   "outputs": [],
   "source": [
    "fuel=[float(i[b'FuelLevel'].decode()) for j,i in filterdata]"
   ]
  },
  {
   "cell_type": "code",
   "execution_count": 11,
   "id": "663435ed",
   "metadata": {},
   "outputs": [
    {
     "data": {
      "text/plain": [
       "238.723125"
      ]
     },
     "execution_count": 11,
     "metadata": {},
     "output_type": "execute_result"
    }
   ],
   "source": [
    "sum(fuel)/len(fuel)"
   ]
  },
  {
   "cell_type": "code",
   "execution_count": 12,
   "id": "a7d72868",
   "metadata": {},
   "outputs": [
    {
     "data": {
      "text/plain": [
       "\"{'a': 1, 'b': 2}\""
      ]
     },
     "execution_count": 12,
     "metadata": {},
     "output_type": "execute_result"
    }
   ],
   "source": [
    "d={'a':1,'b':2}\n",
    "str(d)"
   ]
  },
  {
   "cell_type": "code",
   "execution_count": 13,
   "id": "38a2001f",
   "metadata": {},
   "outputs": [
    {
     "data": {
      "text/plain": [
       "3.569000000000017"
      ]
     },
     "execution_count": 13,
     "metadata": {},
     "output_type": "execute_result"
    }
   ],
   "source": [
    "242.769-239.2"
   ]
  },
  {
   "cell_type": "code",
   "execution_count": 16,
   "id": "8167d04d",
   "metadata": {},
   "outputs": [
    {
     "data": {
      "text/plain": [
       "({'1': 2, '3': 4, '0': 3}, {'1': 2, '3': 4, '0': 3})"
      ]
     },
     "execution_count": 16,
     "metadata": {},
     "output_type": "execute_result"
    }
   ],
   "source": [
    "k={'1':2,'3':4}\n",
    "l=k\n",
    "l['0']=3\n",
    "l,k"
   ]
  },
  {
   "cell_type": "code",
   "execution_count": null,
   "id": "14630a05",
   "metadata": {},
   "outputs": [],
   "source": [
    "1662628003"
   ]
  },
  {
   "cell_type": "code",
   "execution_count": 1,
   "id": "aefed9b0",
   "metadata": {},
   "outputs": [],
   "source": [
    "data=b'%,334,GP12,888888888888804,131547,20221027,00004,00004,*XD,0000,00,00000,0000,0000,00000,0000,0000,00#,0,0000.0000,0,0000.0000,0,000.00,131547,20221027,60.0,60.0,60.0,20.,20.,20.,30.,24,1,$0008,*XD,0000,00,00000,0000,0000,00000,0000,0000,00#,0,0000.0000,0,0000.0000,0,000.00,212942,20221024,60.0,60.0,60.0,20.,20.,20.,30.,24,1,$047883'"
   ]
  },
  {
   "cell_type": "code",
   "execution_count": 2,
   "id": "29a89ed5",
   "metadata": {},
   "outputs": [
    {
     "data": {
      "text/plain": [
       "b'%,334,GP12,888888888888804,131547,20221027,00004,00004,*XD,0000,00,00000,0000,0000,00000,0000,0000,00#,0,0000.0000,0,0000.0000,0,000.00,131547,20221027,60.0,60.0,60.0,20.,20.,20.,30.,24,1,$0008,*XD,0000,00,00000,0000,0000,00000,0000,0000,00#,0,0000.0000,0,0000.0000,0,000.00,212942,20221024,60.0,60.0,60.0,20.,20.,20.,30.,24,1,$047883'"
      ]
     },
     "execution_count": 2,
     "metadata": {},
     "output_type": "execute_result"
    }
   ],
   "source": [
    "data"
   ]
  },
  {
   "cell_type": "code",
   "execution_count": 3,
   "id": "2f8a4d4e",
   "metadata": {},
   "outputs": [],
   "source": [
    "kk=['%,334,GP12,888888888888804,131547,20221027,00004,00004,*XD,0000,00,00000,0000,0000,00000,0000,0000,00#,0,0000.0000,0,0000.0000,0,000.00,131547,20221027,60.0,60.0,60.0,20.,20.,20.,30.,24,1,$']"
   ]
  },
  {
   "cell_type": "code",
   "execution_count": 9,
   "id": "3f60ac8f",
   "metadata": {},
   "outputs": [
    {
     "name": "stdout",
     "output_type": "stream",
     "text": [
      "packet== 00004,*XD,0000,00,00000,0000,0000,00000,0000,0000,00#,0,0000.0000,0,0000.0000,0,000.00,131547,20221027,60.0,60.0,60.0,20.,20.,20.,30.,24,1, * <class 'str'>\n",
      "packet== 0008,*XD,0000,00,00000,0000,0000,00000,0000,0000,00#,0,0000.0000,0,0000.0000,0,000.00,212942,20221024,60.0,60.0,60.0,20.,20.,20.,30.,24,1, X <class 'str'>\n"
     ]
    }
   ],
   "source": [
    "header=data[0:49].decode()\n",
    "Data = data[49:].decode()\n",
    "packetList=[]\n",
    "for packet in Data.split('$')[:-1]:\n",
    "    print('packet==',packet,packet[6],type(packet[6]))\n",
    "    if len(packet) and packet[6] == '*':\n",
    "        packetList.append(header+packet+'$')"
   ]
  },
  {
   "cell_type": "code",
   "execution_count": 5,
   "id": "21d95bae",
   "metadata": {},
   "outputs": [
    {
     "data": {
      "text/plain": [
       "['%,334,GP12,888888888888804,131547,20221027,00004,00004,*XD,0000,00,00000,0000,0000,00000,0000,0000,00#,0,0000.0000,0,0000.0000,0,000.00,131547,20221027,60.0,60.0,60.0,20.,20.,20.,30.,24,1,$']"
      ]
     },
     "execution_count": 5,
     "metadata": {},
     "output_type": "execute_result"
    }
   ],
   "source": [
    "packetList"
   ]
  },
  {
   "cell_type": "code",
   "execution_count": 8,
   "id": "0048eda9",
   "metadata": {},
   "outputs": [
    {
     "name": "stdout",
     "output_type": "stream",
     "text": [
      "i== 00004,*XD,0000,00,00000,0000,0000,00000,0000,0000,00#,0,0000.0000,0,0000.0000,0,000.00,131547,20221027,60.0,60.0,60.0,20.,20.,20.,30.,24,1,\n",
      "i== 0008,*XD,0000,00,00000,0000,0000,00000,0000,0000,00#,0,0000.0000,0,0000.0000,0,000.00,212942,20221024,60.0,60.0,60.0,20.,20.,20.,30.,24,1,\n",
      "i== 047883\n"
     ]
    }
   ],
   "source": [
    "for i in Data.split('$'):\n",
    "    print('i==',i)"
   ]
  },
  {
   "cell_type": "code",
   "execution_count": 10,
   "id": "8a1bbe31",
   "metadata": {},
   "outputs": [],
   "source": [
    "kkk=b'%,334,GP12,888888888888804,142242,20221027,00004,00004,*XD,0000,00,00000,0000,0000,00000,0000,0000,00#,0,0000.0000,0,0000.0000,0,000.00,142242,20221027,60.0,60.0,60.0,20.,20.,20.,30.,24,1,$00003,*XD,0000,00,00000,0000,0000,00000,0000,0000,00#,0,0000.0000,0,0000.0000,0,000.00,141058,20221027,60.0,60.0,60.0,20.,20.,20.,30.,24,1,$040413'"
   ]
  },
  {
   "cell_type": "code",
   "execution_count": 11,
   "id": "bcbf9a76",
   "metadata": {},
   "outputs": [
    {
     "data": {
      "text/plain": [
       "335"
      ]
     },
     "execution_count": 11,
     "metadata": {},
     "output_type": "execute_result"
    }
   ],
   "source": [
    "len(kkk)"
   ]
  },
  {
   "cell_type": "code",
   "execution_count": 12,
   "id": "d48e19f3",
   "metadata": {},
   "outputs": [],
   "source": [
    "kk=b'%,474,GP12,888888888888804,142833,20221027,00008,00008,*XD,0000,00,00000,0000,0000,00000,0000,0000,00#,0,0000.0000,0,0000.0000,0,000.00,142833,20221027,60.0,60.0,60.0,20.,20.,20.,30.,24,1,$00005,*XD,0000,00,00000,0000,0000,00000,0000,0000,00#,0,0000.0000,0,0000.0000,0,000.00,141127,20221027,60.0,60.0,60.0,20.,20.,20.,30.,24,1,$042868'"
   ]
  },
  {
   "cell_type": "code",
   "execution_count": 13,
   "id": "4f7dfc7b",
   "metadata": {},
   "outputs": [
    {
     "data": {
      "text/plain": [
       "b'%,474,GP12,888888888888804,142833,20221027,00008,00008,*XD,0000,00,00000,0000,0000,00000,0000,0000,00#,0,0000.0000,0,0000.0000,0,000.00,142833,20221027,60.0,60.0,60.0,20.,20.,20.,30.,24,1,$00005,*XD,0000,00,00000,0000,0000,00000,0000,0000,00#,0,0000.0000,0,0000.0000,0,000.00,141127,20221027,60.0,60.0,60.0,20.,20.,20.,30.,24,1,$042868'"
      ]
     },
     "execution_count": 13,
     "metadata": {},
     "output_type": "execute_result"
    }
   ],
   "source": [
    "kk"
   ]
  },
  {
   "cell_type": "code",
   "execution_count": 14,
   "id": "3722170f",
   "metadata": {},
   "outputs": [
    {
     "data": {
      "text/plain": [
       "335"
      ]
     },
     "execution_count": 14,
     "metadata": {},
     "output_type": "execute_result"
    }
   ],
   "source": [
    "len(kk)"
   ]
  },
  {
   "cell_type": "code",
   "execution_count": 15,
   "id": "4bcf7fc4",
   "metadata": {},
   "outputs": [],
   "source": [
    "kk=b'%,335,GP12,888888888888804,160313,20221027,00365,00365,*XD,0000,00,00000,0000,0000,00000,0000,0000,00#,0,0000.0000,0,0000.0000,0,000.00,160313,20221027,60.0,60.0,60.0,20.,20.,20.,30.,24,1,$0000.0000,0,000.00,145021,20221027,60.0,60.0,60.0,20.,20.,20.,30.,24,1,$00081,*XD,0000,00,00000,0000,0000,00000,0000,0000,00#,0,0000.0000,0,003473'"
   ]
  },
  {
   "cell_type": "code",
   "execution_count": 16,
   "id": "bb0ee231",
   "metadata": {},
   "outputs": [
    {
     "data": {
      "text/plain": [
       "b'%,335,GP12,888888888888804,160313,20221027,00365,00365,*XD,0000,00,00000,0000,0000,00000,0000,0000,00#,0,0000.0000,0,0000.0000,0,000.00,160313,20221027,60.0,60.0,60.0,20.,20.,20.,30.,24,1,$0000.0000,0,000.00,145021,20221027,60.0,60.0,60.0,20.,20.,20.,30.,24,1,$00081,*XD,0000,00,00000,0000,0000,00000,0000,0000,00#,0,0000.0000,0,003473'"
      ]
     },
     "execution_count": 16,
     "metadata": {},
     "output_type": "execute_result"
    }
   ],
   "source": [
    "kk"
   ]
  },
  {
   "cell_type": "code",
   "execution_count": null,
   "id": "7ac4a4bc",
   "metadata": {},
   "outputs": [],
   "source": [
    "kk"
   ]
  }
 ],
 "metadata": {
  "kernelspec": {
   "display_name": "Python 3 (ipykernel)",
   "language": "python",
   "name": "python3"
  },
  "language_info": {
   "codemirror_mode": {
    "name": "ipython",
    "version": 3
   },
   "file_extension": ".py",
   "mimetype": "text/x-python",
   "name": "python",
   "nbconvert_exporter": "python",
   "pygments_lexer": "ipython3",
   "version": "3.10.6"
  }
 },
 "nbformat": 4,
 "nbformat_minor": 5
}
