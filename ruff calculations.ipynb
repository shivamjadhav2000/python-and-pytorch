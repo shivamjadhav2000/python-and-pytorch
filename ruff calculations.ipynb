{
 "cells": [
  {
   "cell_type": "code",
   "execution_count": 1,
   "id": "4e5507cb",
   "metadata": {},
   "outputs": [],
   "source": [
    "k=\"%,194,GP12,869867033162779,121853,20221123,00232,00232,*XD,0000,00,00000,0000,0000,00000,0000,0000,00#,0,0000.0000,0,0000.0000,0,000.00,121853,20221123,0000,0000,0000,020,020,020,030,24,1,$63815\""
   ]
  },
  {
   "cell_type": "code",
   "execution_count": 2,
   "id": "b23f1992",
   "metadata": {},
   "outputs": [],
   "source": [
    "data=k.split(',')"
   ]
  },
  {
   "cell_type": "code",
   "execution_count": 4,
   "id": "6914f2a3",
   "metadata": {},
   "outputs": [
    {
     "name": "stdout",
     "output_type": "stream",
     "text": [
      "0 %\n",
      "1 194\n",
      "2 GP12\n",
      "3 869867033162779\n",
      "4 121853\n",
      "5 20221123\n",
      "6 00232\n",
      "7 00232\n",
      "8 *XD\n",
      "9 0000\n",
      "10 00\n",
      "11 00000\n",
      "12 0000\n",
      "13 0000\n",
      "14 00000\n",
      "15 0000\n",
      "16 0000\n",
      "17 00#\n",
      "18 0\n",
      "19 0000.0000\n",
      "20 0\n",
      "21 0000.0000\n",
      "22 0\n",
      "23 000.00\n",
      "24 121853\n",
      "25 20221123\n",
      "26 0000\n",
      "27 0000\n",
      "28 0000\n",
      "29 020\n",
      "30 020\n",
      "31 020\n",
      "32 030\n",
      "33 24\n",
      "34 1\n",
      "35 $63815\n"
     ]
    }
   ],
   "source": [
    "for i,d in enumerate(data):\n",
    "    print(i,d)"
   ]
  },
  {
   "cell_type": "code",
   "execution_count": 15,
   "id": "4368ff7e",
   "metadata": {},
   "outputs": [],
   "source": [
    "s=\",\".join(data[8:17])"
   ]
  },
  {
   "cell_type": "code",
   "execution_count": 17,
   "id": "7605fa17",
   "metadata": {},
   "outputs": [
    {
     "data": {
      "text/plain": [
       "'*XD,0000,00,00000,0000,0000,00000,0000,0000'"
      ]
     },
     "execution_count": 17,
     "metadata": {},
     "output_type": "execute_result"
    }
   ],
   "source": [
    "\",\".join(data[8:17])"
   ]
  },
  {
   "cell_type": "code",
   "execution_count": 18,
   "id": "3e883802",
   "metadata": {
    "scrolled": true
   },
   "outputs": [
    {
     "data": {
      "text/plain": [
       "True"
      ]
     },
     "execution_count": 18,
     "metadata": {},
     "output_type": "execute_result"
    }
   ],
   "source": [
    "s==\"*XD,0000,00,00000,0000,0000,00000,0000,0000\""
   ]
  },
  {
   "cell_type": "code",
   "execution_count": 10,
   "id": "d970ce8d",
   "metadata": {},
   "outputs": [],
   "source": [
    "d={'1':2,\"3\":4}"
   ]
  },
  {
   "cell_type": "code",
   "execution_count": 13,
   "id": "b1a4c53b",
   "metadata": {},
   "outputs": [
    {
     "data": {
      "text/plain": [
       "2"
      ]
     },
     "execution_count": 13,
     "metadata": {},
     "output_type": "execute_result"
    }
   ],
   "source": [
    "d.pop('1')"
   ]
  },
  {
   "cell_type": "code",
   "execution_count": 14,
   "id": "54d6b420",
   "metadata": {},
   "outputs": [
    {
     "data": {
      "text/plain": [
       "{'3': 4}"
      ]
     },
     "execution_count": 14,
     "metadata": {},
     "output_type": "execute_result"
    }
   ],
   "source": [
    "d"
   ]
  },
  {
   "cell_type": "code",
   "execution_count": 21,
   "id": "a45147c5",
   "metadata": {},
   "outputs": [],
   "source": [
    "import datetime\n",
    "d={'imei': '869867033162670', 'receivedAt': datetime.datetime(2022, 11, 23, 7, 48, 37, 909000), 'isIgnitionOn': 0, 'accX': 20.0, 'accY': 20.0, 'accZ': 20.0, 'gyroX': 0.0, 'gyroY': 0.0, 'gyroZ': 0.0, 'fuelTankModel': 'cuboid', 'isGPSFixed': 1, 'speed': 10.56, 'lat': '17.668530000', 'lng': '78.379448333', 'calibratedFuelData': {'fuel': 0.0, 'ipVolt': 0, 'internalVolt': 0}, 'batteryVolt': 24.0, 'internalVolt': 0}\n"
   ]
  },
  {
   "cell_type": "code",
   "execution_count": 22,
   "id": "2f504c60",
   "metadata": {},
   "outputs": [
    {
     "data": {
      "text/plain": [
       "False"
      ]
     },
     "execution_count": 22,
     "metadata": {},
     "output_type": "execute_result"
    }
   ],
   "source": [
    "u'fuelLevel' in d"
   ]
  },
  {
   "cell_type": "code",
   "execution_count": 15,
   "id": "317f9d3e",
   "metadata": {},
   "outputs": [],
   "source": [
    "import math\n",
    "\n",
    "def VolumeOfSemiCylinder(d,l,h):\n",
    "    r=d/2\n",
    "    #area of segment =area of sector -area of triangle\n",
    "    #area of sector=(0/360)*(pi*r**2)\n",
    "    #area of tirangle = 1/2*b*h\n",
    "    # area of sector=cos-1((r-h)/r)*(r**2)/2\n",
    "    # area of triangle is ((r**2-(r-h)**2)**0.5)*(r-h)\n",
    "    if r>h:\n",
    "        th=r-h\n",
    "    else:\n",
    "        th=h-r\n",
    "    area_of_sector=math.acos(th/r)*(r**2)\n",
    "    area_of_triangle=((r**2-th**2)**0.5)*th\n",
    "    area_of_segment=area_of_sector-area_of_triangle\n",
    "    if h>r:\n",
    "        volumne_of_cylinder=3.14*(r**2)\n",
    "        area_of_segment=volumne_of_cylinder-area_of_segment\n",
    "    print(\"area_of_segment\",area_of_segment,area_of_segment*l)\n",
    "    desiel_volume=area_of_segment*l\n",
    "    return round(desiel_volume/(10**6),3) "
   ]
  },
  {
   "cell_type": "code",
   "execution_count": 22,
   "id": "e53c12bb",
   "metadata": {
    "scrolled": true
   },
   "outputs": [
    {
     "name": "stdout",
     "output_type": "stream",
     "text": [
      "area_of_segment 245107.44659736007 280157811.4607826\n"
     ]
    },
    {
     "data": {
      "text/plain": [
       "280.158"
      ]
     },
     "execution_count": 22,
     "metadata": {},
     "output_type": "execute_result"
    }
   ],
   "source": [
    "VolumeOfSemiCylinder(558.8,1143,558.2)\n"
   ]
  },
  {
   "cell_type": "code",
   "execution_count": 14,
   "id": "9f8bcbfa",
   "metadata": {},
   "outputs": [
    {
     "name": "stdout",
     "output_type": "stream",
     "text": [
      "area_of_segment 110788.02714680975 126630715.02880354\n"
     ]
    },
    {
     "data": {
      "text/plain": [
       "126.631"
      ]
     },
     "execution_count": 14,
     "metadata": {},
     "output_type": "execute_result"
    }
   ],
   "source": [
    "VolumeOfSemiCylinder(558.8,1143,258.2)\n"
   ]
  },
  {
   "cell_type": "code",
   "execution_count": 8,
   "id": "0b4a9094",
   "metadata": {},
   "outputs": [
    {
     "ename": "SyntaxError",
     "evalue": "invalid syntax (1878117594.py, line 1)",
     "output_type": "error",
     "traceback": [
      "\u001b[0;36m  Cell \u001b[0;32mIn [8], line 1\u001b[0;36m\u001b[0m\n\u001b[0;31m    area_of_segment 110788.02714680975 126630715.02880354\u001b[0m\n\u001b[0m                    ^\u001b[0m\n\u001b[0;31mSyntaxError\u001b[0m\u001b[0;31m:\u001b[0m invalid syntax\n"
     ]
    }
   ],
   "source": [
    "area_of_segment 110788.02714680975 126630715.02880354"
   ]
  },
  {
   "cell_type": "code",
   "execution_count": null,
   "id": "682f9e32",
   "metadata": {},
   "outputs": [],
   "source": [
    "area_of_segment 117706.58308098739 134538624.4615686"
   ]
  },
  {
   "cell_type": "code",
   "execution_count": 11,
   "id": "6f8932fd",
   "metadata": {},
   "outputs": [
    {
     "data": {
      "text/plain": [
       "280174549.32719994"
      ]
     },
     "execution_count": 11,
     "metadata": {},
     "output_type": "execute_result"
    }
   ],
   "source": [
    "3.14*(279.4**2)*1143"
   ]
  },
  {
   "cell_type": "code",
   "execution_count": 1,
   "id": "abeb85b6",
   "metadata": {},
   "outputs": [],
   "source": [
    "import datetime as dt"
   ]
  },
  {
   "cell_type": "code",
   "execution_count": 2,
   "id": "f1f64b93",
   "metadata": {},
   "outputs": [],
   "source": [
    "k=\"22-11-25 08:13:51\""
   ]
  },
  {
   "cell_type": "code",
   "execution_count": 3,
   "id": "13dbeea8",
   "metadata": {},
   "outputs": [
    {
     "ename": "TypeError",
     "evalue": "descriptor 'strftime' for 'datetime.date' objects doesn't apply to a 'str' object",
     "output_type": "error",
     "traceback": [
      "\u001b[0;31m---------------------------------------------------------------------------\u001b[0m",
      "\u001b[0;31mTypeError\u001b[0m                                 Traceback (most recent call last)",
      "Cell \u001b[0;32mIn [3], line 1\u001b[0m\n\u001b[0;32m----> 1\u001b[0m dt\u001b[38;5;241m.\u001b[39mdatetime\u001b[38;5;241m.\u001b[39mstrftime(k,\u001b[38;5;124m\"\u001b[39m\u001b[38;5;124m%\u001b[39m\u001b[38;5;124my-\u001b[39m\u001b[38;5;124m%\u001b[39m\u001b[38;5;124mm-\u001b[39m\u001b[38;5;132;01m%d\u001b[39;00m\u001b[38;5;124m \u001b[39m\u001b[38;5;124m%\u001b[39m\u001b[38;5;124mH:\u001b[39m\u001b[38;5;124m%\u001b[39m\u001b[38;5;124mM:\u001b[39m\u001b[38;5;124m%\u001b[39m\u001b[38;5;124mS\u001b[39m\u001b[38;5;124m\"\u001b[39m)\n",
      "\u001b[0;31mTypeError\u001b[0m: descriptor 'strftime' for 'datetime.date' objects doesn't apply to a 'str' object"
     ]
    }
   ],
   "source": [
    "dt.datetime.strftime(k,\"%y-%m-%d %H:%M:%S\")"
   ]
  },
  {
   "cell_type": "code",
   "execution_count": 11,
   "id": "6c9266d1",
   "metadata": {},
   "outputs": [],
   "source": [
    "import datetime\n",
    "import pytz\n",
    "timezone=pytz.timezone('Asia/Kolkata')\n",
    "\n",
    "timestamp=datetime.datetime.now().timestamp()\n",
    "utctimestamp=datetime.datetime.fromtimestamp(timestamp,datetime.timezone(datetime.timedelta(hours=5,minutes=30)))\n"
   ]
  },
  {
   "cell_type": "code",
   "execution_count": 12,
   "id": "3172c1ab",
   "metadata": {},
   "outputs": [
    {
     "data": {
      "text/plain": [
       "datetime.datetime(2022, 11, 25, 12, 45, 47, 232707, tzinfo=datetime.timezone(datetime.timedelta(seconds=19800)))"
      ]
     },
     "execution_count": 12,
     "metadata": {},
     "output_type": "execute_result"
    }
   ],
   "source": [
    "utctimestamp"
   ]
  },
  {
   "cell_type": "code",
   "execution_count": 13,
   "id": "bb9852d3",
   "metadata": {},
   "outputs": [],
   "source": [
    "utctimestamp=datetime.datetime.fromtimestamp(timestamp,timezone)\n"
   ]
  },
  {
   "cell_type": "code",
   "execution_count": 14,
   "id": "2f3c8e49",
   "metadata": {},
   "outputs": [
    {
     "data": {
      "text/plain": [
       "datetime.datetime(2022, 11, 25, 12, 45, 47, 232707, tzinfo=<DstTzInfo 'Asia/Kolkata' IST+5:30:00 STD>)"
      ]
     },
     "execution_count": 14,
     "metadata": {},
     "output_type": "execute_result"
    }
   ],
   "source": [
    "utctimestamp"
   ]
  },
  {
   "cell_type": "code",
   "execution_count": 15,
   "id": "b19dd1ff",
   "metadata": {},
   "outputs": [],
   "source": [
    "import pandas as pd"
   ]
  },
  {
   "cell_type": "code",
   "execution_count": 16,
   "id": "4f88cf5c",
   "metadata": {},
   "outputs": [],
   "source": [
    "k=pd.DataFrame([[1,2,3,8],[5,6,7,8],[5,6,7,6],[8,7,9,9]])"
   ]
  },
  {
   "cell_type": "code",
   "execution_count": 17,
   "id": "47f846c7",
   "metadata": {},
   "outputs": [
    {
     "data": {
      "text/html": [
       "<div>\n",
       "<style scoped>\n",
       "    .dataframe tbody tr th:only-of-type {\n",
       "        vertical-align: middle;\n",
       "    }\n",
       "\n",
       "    .dataframe tbody tr th {\n",
       "        vertical-align: top;\n",
       "    }\n",
       "\n",
       "    .dataframe thead th {\n",
       "        text-align: right;\n",
       "    }\n",
       "</style>\n",
       "<table border=\"1\" class=\"dataframe\">\n",
       "  <thead>\n",
       "    <tr style=\"text-align: right;\">\n",
       "      <th></th>\n",
       "      <th>0</th>\n",
       "      <th>1</th>\n",
       "      <th>2</th>\n",
       "      <th>3</th>\n",
       "    </tr>\n",
       "  </thead>\n",
       "  <tbody>\n",
       "    <tr>\n",
       "      <th>0</th>\n",
       "      <td>1</td>\n",
       "      <td>2</td>\n",
       "      <td>3</td>\n",
       "      <td>8</td>\n",
       "    </tr>\n",
       "    <tr>\n",
       "      <th>1</th>\n",
       "      <td>5</td>\n",
       "      <td>6</td>\n",
       "      <td>7</td>\n",
       "      <td>8</td>\n",
       "    </tr>\n",
       "    <tr>\n",
       "      <th>2</th>\n",
       "      <td>5</td>\n",
       "      <td>6</td>\n",
       "      <td>7</td>\n",
       "      <td>6</td>\n",
       "    </tr>\n",
       "    <tr>\n",
       "      <th>3</th>\n",
       "      <td>8</td>\n",
       "      <td>7</td>\n",
       "      <td>9</td>\n",
       "      <td>9</td>\n",
       "    </tr>\n",
       "  </tbody>\n",
       "</table>\n",
       "</div>"
      ],
      "text/plain": [
       "   0  1  2  3\n",
       "0  1  2  3  8\n",
       "1  5  6  7  8\n",
       "2  5  6  7  6\n",
       "3  8  7  9  9"
      ]
     },
     "execution_count": 17,
     "metadata": {},
     "output_type": "execute_result"
    }
   ],
   "source": [
    "k.head()"
   ]
  },
  {
   "cell_type": "code",
   "execution_count": 21,
   "id": "7714cab5",
   "metadata": {},
   "outputs": [
    {
     "data": {
      "text/plain": [
       "count    3.000000\n",
       "mean     8.333333\n",
       "std      0.577350\n",
       "min      8.000000\n",
       "25%      8.000000\n",
       "50%      8.000000\n",
       "75%      8.500000\n",
       "max      9.000000\n",
       "Name: 3, dtype: float64"
      ]
     },
     "execution_count": 21,
     "metadata": {},
     "output_type": "execute_result"
    }
   ],
   "source": [
    "k[k[3]>6][3].describe()"
   ]
  },
  {
   "cell_type": "code",
   "execution_count": null,
   "id": "454e0d6b",
   "metadata": {},
   "outputs": [],
   "source": []
  },
  {
   "cell_type": "code",
   "execution_count": null,
   "id": "0aa84b7a",
   "metadata": {},
   "outputs": [],
   "source": []
  },
  {
   "cell_type": "code",
   "execution_count": 3,
   "id": "9d0d3eb6",
   "metadata": {},
   "outputs": [],
   "source": [
    "def minimumOperations(nums):\n",
    "        print(\"nums==\",nums)\n",
    "        if sum(nums)==0:\n",
    "            return 0\n",
    "        else:\n",
    "            l=max(1,min(nums))\n",
    "            nums=[max(0,x-l) for x in nums if x>0]\n",
    "            return 1+minimumOperations(nums)"
   ]
  },
  {
   "cell_type": "code",
   "execution_count": 4,
   "id": "b62030a5",
   "metadata": {},
   "outputs": [
    {
     "name": "stdout",
     "output_type": "stream",
     "text": [
      "nums== [1, 5, 0, 3, 5]\n",
      "nums== [0, 4, 2, 4]\n",
      "nums== [3, 1, 3]\n",
      "nums== [2, 0, 2]\n",
      "nums== [1, 1]\n",
      "nums== [0, 0]\n"
     ]
    },
    {
     "data": {
      "text/plain": [
       "5"
      ]
     },
     "execution_count": 4,
     "metadata": {},
     "output_type": "execute_result"
    }
   ],
   "source": [
    "minimumOperations([1,5,0,3,5])"
   ]
  },
  {
   "cell_type": "code",
   "execution_count": 6,
   "id": "0fe8d11d",
   "metadata": {},
   "outputs": [
    {
     "data": {
      "text/plain": [
       "3"
      ]
     },
     "execution_count": 6,
     "metadata": {},
     "output_type": "execute_result"
    }
   ],
   "source": [
    "import math\n",
    "math.ceil(2.65)"
   ]
  },
  {
   "cell_type": "code",
   "execution_count": 7,
   "id": "5af77ab3",
   "metadata": {},
   "outputs": [
    {
     "ename": "NameError",
     "evalue": "name 'xrange' is not defined",
     "output_type": "error",
     "traceback": [
      "\u001b[0;31m---------------------------------------------------------------------------\u001b[0m",
      "\u001b[0;31mNameError\u001b[0m                                 Traceback (most recent call last)",
      "Cell \u001b[0;32mIn [7], line 1\u001b[0m\n\u001b[0;32m----> 1\u001b[0m xrange(\u001b[38;5;241m0\u001b[39m,\u001b[38;5;241m1\u001b[39m)\n",
      "\u001b[0;31mNameError\u001b[0m: name 'xrange' is not defined"
     ]
    }
   ],
   "source": [
    "xrange(0,1)"
   ]
  },
  {
   "cell_type": "code",
   "execution_count": 4,
   "id": "e11d0ea8",
   "metadata": {},
   "outputs": [
    {
     "data": {
      "text/plain": [
       "1110865968"
      ]
     },
     "execution_count": 4,
     "metadata": {},
     "output_type": "execute_result"
    }
   ],
   "source": [
    "int.from_bytes(b'0x6B','little')"
   ]
  },
  {
   "cell_type": "code",
   "execution_count": 7,
   "id": "2df46b7b",
   "metadata": {},
   "outputs": [],
   "source": [
    "i=bytearray([22])"
   ]
  },
  {
   "cell_type": "code",
   "execution_count": 8,
   "id": "3edab390",
   "metadata": {},
   "outputs": [
    {
     "data": {
      "text/plain": [
       "bytearray(b'\\x16')"
      ]
     },
     "execution_count": 8,
     "metadata": {},
     "output_type": "execute_result"
    }
   ],
   "source": [
    "i"
   ]
  },
  {
   "cell_type": "code",
   "execution_count": 12,
   "id": "cfeabedb",
   "metadata": {},
   "outputs": [
    {
     "data": {
      "text/plain": [
       "107"
      ]
     },
     "execution_count": 12,
     "metadata": {},
     "output_type": "execute_result"
    }
   ],
   "source": [
    "int.from_bytes(b'\\x6B','big')"
   ]
  },
  {
   "cell_type": "code",
   "execution_count": 22,
   "id": "a9e2e098",
   "metadata": {},
   "outputs": [],
   "source": [
    "l=b'0000016B40D57B48'"
   ]
  },
  {
   "cell_type": "code",
   "execution_count": 23,
   "id": "c4845a2c",
   "metadata": {},
   "outputs": [],
   "source": [
    "p=l[6:8]"
   ]
  },
  {
   "cell_type": "code",
   "execution_count": 24,
   "id": "83aa2ccb",
   "metadata": {},
   "outputs": [
    {
     "data": {
      "text/plain": [
       "b'6B'"
      ]
     },
     "execution_count": 24,
     "metadata": {},
     "output_type": "execute_result"
    }
   ],
   "source": [
    "p"
   ]
  },
  {
   "cell_type": "code",
   "execution_count": 26,
   "id": "0780475b",
   "metadata": {},
   "outputs": [
    {
     "ename": "SyntaxError",
     "evalue": "(value error) invalid \\x escape at position 0 (3585885814.py, line 1)",
     "output_type": "error",
     "traceback": [
      "\u001b[0;36m  Cell \u001b[0;32mIn [26], line 1\u001b[0;36m\u001b[0m\n\u001b[0;31m    b'\\x'+p\u001b[0m\n\u001b[0m         ^\u001b[0m\n\u001b[0;31mSyntaxError\u001b[0m\u001b[0;31m:\u001b[0m (value error) invalid \\x escape at position 0\n"
     ]
    }
   ],
   "source": [
    "b'\\x'+p"
   ]
  },
  {
   "cell_type": "code",
   "execution_count": 29,
   "id": "fd603e6d",
   "metadata": {},
   "outputs": [
    {
     "data": {
      "text/plain": [
       "107"
      ]
     },
     "execution_count": 29,
     "metadata": {},
     "output_type": "execute_result"
    }
   ],
   "source": [
    "int.from_bytes(b'\\x6B','little')"
   ]
  },
  {
   "cell_type": "code",
   "execution_count": 30,
   "id": "48675b3a",
   "metadata": {},
   "outputs": [
    {
     "data": {
      "text/plain": [
       "'\\x0000016B40D57B48'"
      ]
     },
     "execution_count": 30,
     "metadata": {},
     "output_type": "execute_result"
    }
   ],
   "source": [
    "'\\x0000016B40D57B48'"
   ]
  },
  {
   "cell_type": "code",
   "execution_count": 33,
   "id": "6e13611c",
   "metadata": {},
   "outputs": [
    {
     "data": {
      "text/plain": [
       "1036783301068086850667"
      ]
     },
     "execution_count": 33,
     "metadata": {},
     "output_type": "execute_result"
    }
   ],
   "source": [
    "int.from_bytes(b'\\x6B40D57B48','little')"
   ]
  },
  {
   "cell_type": "code",
   "execution_count": 35,
   "id": "a4c47bd9",
   "metadata": {},
   "outputs": [
    {
     "data": {
      "text/plain": [
       "51"
      ]
     },
     "execution_count": 35,
     "metadata": {},
     "output_type": "execute_result"
    }
   ],
   "source": [
    "int.from_bytes(b'\\x33','big')"
   ]
  },
  {
   "cell_type": "code",
   "execution_count": 36,
   "id": "7e165db3",
   "metadata": {},
   "outputs": [],
   "source": [
    "b='0x313233343536373839303132333435'"
   ]
  },
  {
   "cell_type": "code",
   "execution_count": 39,
   "id": "6dcad0cd",
   "metadata": {},
   "outputs": [],
   "source": [
    "p=b'\\x0f350424062372113'"
   ]
  },
  {
   "cell_type": "code",
   "execution_count": 43,
   "id": "5cd06c3f",
   "metadata": {},
   "outputs": [
    {
     "data": {
      "text/plain": [
       "20204305863373721779929574842498625843"
      ]
     },
     "execution_count": 43,
     "metadata": {},
     "output_type": "execute_result"
    }
   ],
   "source": [
    "int.from_bytes(p,'big')"
   ]
  },
  {
   "cell_type": "code",
   "execution_count": 44,
   "id": "a80e7867",
   "metadata": {},
   "outputs": [],
   "source": [
    "l='20204305863373721779929574842498625843'"
   ]
  },
  {
   "cell_type": "code",
   "execution_count": 45,
   "id": "8a8c7ad8",
   "metadata": {},
   "outputs": [
    {
     "data": {
      "text/plain": [
       "38"
      ]
     },
     "execution_count": 45,
     "metadata": {},
     "output_type": "execute_result"
    }
   ],
   "source": [
    "len(l)"
   ]
  },
  {
   "cell_type": "code",
   "execution_count": 46,
   "id": "f402ba2b",
   "metadata": {},
   "outputs": [],
   "source": [
    "l='350424062372113'"
   ]
  },
  {
   "cell_type": "code",
   "execution_count": 47,
   "id": "3e80c20e",
   "metadata": {},
   "outputs": [
    {
     "data": {
      "text/plain": [
       "15"
      ]
     },
     "execution_count": 47,
     "metadata": {},
     "output_type": "execute_result"
    }
   ],
   "source": [
    "len(l)"
   ]
  },
  {
   "cell_type": "code",
   "execution_count": 50,
   "id": "a84f8c1e",
   "metadata": {},
   "outputs": [
    {
     "data": {
      "text/plain": [
       "15"
      ]
     },
     "execution_count": 50,
     "metadata": {},
     "output_type": "execute_result"
    }
   ],
   "source": [
    "int.from_bytes(b'\\x0f','little')"
   ]
  },
  {
   "cell_type": "code",
   "execution_count": 52,
   "id": "ce455f06",
   "metadata": {},
   "outputs": [
    {
     "data": {
      "text/plain": [
       "bytearray(b'\\x00\\x0f999999999999999')"
      ]
     },
     "execution_count": 52,
     "metadata": {},
     "output_type": "execute_result"
    }
   ],
   "source": [
    "bytearray([0,15])+'999999999999999'.encode('utf-8')"
   ]
  },
  {
   "cell_type": "code",
   "execution_count": null,
   "id": "992d5d40",
   "metadata": {},
   "outputs": [],
   "source": [
    "bbb"
   ]
  },
  {
   "cell_type": "code",
   "execution_count": null,
   "id": "a7526bf1",
   "metadata": {},
   "outputs": [],
   "source": []
  },
  {
   "cell_type": "code",
   "execution_count": 2,
   "id": "412e3afe",
   "metadata": {},
   "outputs": [],
   "source": [
    "import pandas as pd"
   ]
  },
  {
   "cell_type": "code",
   "execution_count": 3,
   "id": "d019bd4e",
   "metadata": {},
   "outputs": [],
   "source": [
    "d=[(17.57617, 78.60074), (17.5766, 78.59977), (17.57699, 78.59879), (17.57738, 78.59782), (17.57787, 78.59664), (17.57828, 78.5956), (17.57903, 78.59319), (17.57919, 78.59175), (17.57916, 78.59028), (17.57906, 78.5892), (17.57896, 78.58801), (17.57879, 78.5861), (17.57871, 78.58503), (17.57862, 78.584), (17.57854, 78.5829), (17.57843, 78.58179), (17.57834, 78.58072), (17.57825, 78.57968), (17.57817, 78.57863), (17.57805, 78.57741), (17.57796, 78.57637), (17.57788, 78.57528), (17.57779, 78.57427), (17.57776, 78.57333), (17.57782, 78.57236), (17.57795, 78.5714), (17.57809, 78.57053), (17.5783, 78.56962), (17.57859, 78.56877), (17.57894, 78.56795), (17.57996, 78.5654), (17.58055, 78.56388), (17.5812, 78.56222), (17.58259, 78.55879), (17.58491, 78.55292), (17.58259, 78.55879), (17.5879, 78.54542), (17.58491, 78.55292), (17.5879, 78.54542), (17.59003, 78.53468), (17.59024, 78.53334), (17.59043, 78.532), (17.59059, 78.53084), (17.59074, 78.52964), (17.59094, 78.52828), (17.59111, 78.52692), (17.59131, 78.52559), (17.59146, 78.52442), (17.59165, 78.5231), (17.59181, 78.52194), (17.592, 78.52063), (17.59216, 78.51951), (17.59234, 78.51821), (17.59253, 78.51694), (17.5927, 78.51572), (17.59286, 78.51462), (17.59306, 78.51334), (17.59323, 78.51224), (17.59353, 78.50989), (17.59369, 78.50881), (17.59388, 78.50755), (17.59406, 78.50641), (17.59431, 78.50543), (17.59472, 78.50432), (17.59509, 78.50341), (17.59561, 78.50223), (17.59687, 78.4994), (17.59765, 78.4974), (17.59803, 78.49635), (17.59835, 78.49518), (17.5985, 78.49449), (17.59855, 78.49423), (17.59855, 78.49422), (17.59855, 78.49421), (17.59855, 78.49422), (17.59855, 78.49422), (17.59855, 78.49422), (17.59855, 78.49421), (17.59855, 78.49421), (17.59855, 78.49421), (17.59855, 78.49421), (17.59855, 78.49421), (17.59855, 78.49421), (17.59855, 78.49421), (17.59855, 78.49421), (17.59855, 78.49421), (17.59855, 78.49421), (17.59855, 78.49421), (17.59855, 78.49421), (17.59856, 78.49421), (17.59856, 78.49421), (17.59856, 78.49421), (17.59856, 78.49421), (17.59858, 78.49414), (17.59867, 78.49386), (17.59876, 78.49346), (17.59885, 78.49301), (17.59909, 78.4918), (17.5992, 78.49118), (17.59923, 78.49058), (17.59891, 78.49036), (17.59856, 78.49051), (17.59831, 78.49073), (17.59814, 78.4909), (17.59807, 78.49095), (17.59791, 78.49111), (17.59767, 78.49132), (17.5974, 78.49159), (17.59735, 78.49164), (17.59734, 78.49165), (17.59718, 78.49187), (17.59704, 78.49229), (17.59701, 78.49284), (17.59703, 78.49347), (17.59725, 78.49394), (17.59769, 78.49402), (17.59806, 78.49362), (17.59791, 78.49309), (17.59741, 78.49316), (17.59739, 78.49308), (17.59683, 78.49302), (17.5961, 78.49299), (17.5954, 78.493), (17.59471, 78.49306), (17.59406, 78.49312), (17.59333, 78.49318), (17.59259, 78.49323), (17.59211, 78.4932), (17.59171, 78.49317), (17.5913, 78.49312), (17.59069, 78.49301), (17.58996, 78.4928), (17.58936, 78.49262), (17.58868, 78.49246), (17.5879, 78.49236), (17.58706, 78.49223), (17.58626, 78.49207), (17.58548, 78.49213), (17.5855, 78.49199), (17.58473, 78.49182), (17.58373, 78.49159), (17.58259, 78.4914), (17.58075, 78.49137), (17.5799, 78.49154), (17.57918, 78.49177), (17.57843, 78.49201), (17.57771, 78.49222), (17.57687, 78.49247), (17.57614, 78.49276), (17.57561, 78.49301), (17.57521, 78.4932), (17.57479, 78.49338), (17.57425, 78.4936), (17.57349, 78.49379), (17.57277, 78.49389), (17.57186, 78.49401), (17.57017, 78.49429), (17.57186, 78.49401), (17.56669, 78.49413), (17.56614, 78.49402), (17.5632, 78.49352), (17.56614, 78.49402), (17.56176, 78.49329), (17.56122, 78.49321), (17.56074, 78.49313), (17.5601, 78.49301), (17.55872, 78.49298), (17.55818, 78.49311), (17.55762, 78.49333), (17.55711, 78.49353), (17.55649, 78.4938), (17.55594, 78.49401), (17.55542, 78.49419), (17.55452, 78.49438), (17.55325, 78.49436), (17.55247, 78.49431), (17.55244, 78.49408), (17.55141, 78.4938), (17.55069, 78.4936), (17.54972, 78.49336), (17.54904, 78.49313), (17.54811, 78.49286), (17.54731, 78.49265), (17.54662, 78.49245), (17.54585, 78.49225), (17.54548, 78.49215), (17.54545, 78.49214), (17.54541, 78.49214), (17.54535, 78.49211), (17.54532, 78.49211), (17.54532, 78.4921), (17.54532, 78.4921), (17.54532, 78.49211), (17.54532, 78.49211), (17.54532, 78.49211), (17.54532, 78.49211), (17.54532, 78.49211), (17.54529, 78.4921), (17.54509, 78.49207), (17.54486, 78.49201), (17.5446, 78.49197), (17.54428, 78.4919), (17.54385, 78.49181), (17.54329, 78.49166), (17.54281, 78.49153), (17.54274, 78.4915), (17.54274, 78.4915), (17.54274, 78.4915), (17.54274, 78.4915), (17.54273, 78.4915), (17.54273, 78.4915), (17.54273, 78.4915), (17.54273, 78.4915), (17.54273, 78.4915), (17.54273, 78.4915), (17.54273, 78.4915), (17.54273, 78.4915), (17.54273, 78.4915), (17.54273, 78.4915), (17.54273, 78.4915), (17.54266, 78.49148), (17.54258, 78.49146), (17.5425, 78.4914), (17.54248, 78.49131), (17.54247, 78.49127), (17.54249, 78.4912), (17.5425, 78.49115), (17.54253, 78.49109), (17.54261, 78.49082), (17.5427, 78.49048), (17.54282, 78.49004), (17.54296, 78.48951), (17.54314, 78.4888), (17.54324, 78.48847), (17.54331, 78.48819), (17.5434, 78.48781), (17.54357, 78.4872), (17.54372, 78.4866), (17.54378, 78.48637), (17.54388, 78.48603), (17.54398, 78.48563), (17.54411, 78.4851), (17.54425, 78.48461), (17.54438, 78.48411), (17.54453, 78.48354), (17.54465, 78.48305), (17.54479, 78.48258), (17.54494, 78.48202), (17.54509, 78.48148), (17.54525, 78.48085), (17.54539, 78.4803), (17.54554, 78.47976), (17.54567, 78.47927), (17.54572, 78.47909), (17.54582, 78.4787), (17.54595, 78.47819), (17.54611, 78.47751), (17.54618, 78.47723), (17.54628, 78.47692), (17.54635, 78.47663), (17.54641, 78.47638), (17.54644, 78.47616), (17.5465, 78.47592), (17.54659, 78.47562), (17.54669, 78.47526), (17.5468, 78.47484), (17.54695, 78.47436), (17.5471, 78.47382), (17.54723, 78.4733), (17.5475, 78.4723), (17.54761, 78.47189), (17.54777, 78.47136), (17.54785, 78.47108), (17.54791, 78.47086), (17.548, 78.47057), (17.54807, 78.47027), (17.54817, 78.46998), (17.54825, 78.46979), (17.54831, 78.46959), (17.54837, 78.46926), (17.54838, 78.46916), (17.54845, 78.46899), (17.54854, 78.46867), (17.54864, 78.46833), (17.54866, 78.46804), (17.54868, 78.46792), (17.54869, 78.46791), (17.54869, 78.46791), (17.5487, 78.46787), (17.54871, 78.46785), (17.54871, 78.46782), (17.54872, 78.46775), (17.54874, 78.46767), (17.54877, 78.46757), (17.54877, 78.46745), (17.54879, 78.46734), (17.54884, 78.46715), (17.54891, 78.46691), (17.54899, 78.46664), (17.54909, 78.46618), (17.54923, 78.46558), (17.54937, 78.46507), (17.5494, 78.46491), (17.54931, 78.46486), (17.54912, 78.46478), (17.54884, 78.46464), (17.5486, 78.46456), (17.54834, 78.46447), (17.54812, 78.46434), (17.54803, 78.46445), (17.54796, 78.46463), (17.54795, 78.46464), (17.54796, 78.46463), (17.54794, 78.46464)]"
   ]
  },
  {
   "cell_type": "code",
   "execution_count": 4,
   "id": "7dbaa25b",
   "metadata": {},
   "outputs": [],
   "source": [
    "df=pd.DataFrame(d,columns=['Lat','Long'])"
   ]
  },
  {
   "cell_type": "code",
   "execution_count": 5,
   "id": "fbefed98",
   "metadata": {},
   "outputs": [
    {
     "data": {
      "text/html": [
       "<div>\n",
       "<style scoped>\n",
       "    .dataframe tbody tr th:only-of-type {\n",
       "        vertical-align: middle;\n",
       "    }\n",
       "\n",
       "    .dataframe tbody tr th {\n",
       "        vertical-align: top;\n",
       "    }\n",
       "\n",
       "    .dataframe thead th {\n",
       "        text-align: right;\n",
       "    }\n",
       "</style>\n",
       "<table border=\"1\" class=\"dataframe\">\n",
       "  <thead>\n",
       "    <tr style=\"text-align: right;\">\n",
       "      <th></th>\n",
       "      <th>Lat</th>\n",
       "      <th>Long</th>\n",
       "    </tr>\n",
       "  </thead>\n",
       "  <tbody>\n",
       "    <tr>\n",
       "      <th>0</th>\n",
       "      <td>17.57617</td>\n",
       "      <td>78.60074</td>\n",
       "    </tr>\n",
       "    <tr>\n",
       "      <th>1</th>\n",
       "      <td>17.57660</td>\n",
       "      <td>78.59977</td>\n",
       "    </tr>\n",
       "    <tr>\n",
       "      <th>2</th>\n",
       "      <td>17.57699</td>\n",
       "      <td>78.59879</td>\n",
       "    </tr>\n",
       "    <tr>\n",
       "      <th>3</th>\n",
       "      <td>17.57738</td>\n",
       "      <td>78.59782</td>\n",
       "    </tr>\n",
       "    <tr>\n",
       "      <th>4</th>\n",
       "      <td>17.57787</td>\n",
       "      <td>78.59664</td>\n",
       "    </tr>\n",
       "  </tbody>\n",
       "</table>\n",
       "</div>"
      ],
      "text/plain": [
       "        Lat      Long\n",
       "0  17.57617  78.60074\n",
       "1  17.57660  78.59977\n",
       "2  17.57699  78.59879\n",
       "3  17.57738  78.59782\n",
       "4  17.57787  78.59664"
      ]
     },
     "execution_count": 5,
     "metadata": {},
     "output_type": "execute_result"
    }
   ],
   "source": [
    "df.head()"
   ]
  },
  {
   "cell_type": "code",
   "execution_count": 7,
   "id": "8180c7a1",
   "metadata": {},
   "outputs": [],
   "source": [
    "df.to_csv('/home/shivamjadhav/Documents/distance compute/869867033162670-2022-11-18-completed/data.csv')"
   ]
  },
  {
   "cell_type": "code",
   "execution_count": 6,
   "id": "acc609d2",
   "metadata": {},
   "outputs": [
    {
     "name": "stdout",
     "output_type": "stream",
     "text": [
      "\u001b[0m\u001b[01;34m869867033162670-2022-11-18-completed\u001b[0m/  \u001b[01;34muncompleteroute\u001b[0m/\r\n"
     ]
    }
   ],
   "source": [
    "ls /home/shivamjadhav/Documents/distance\\ compute/"
   ]
  },
  {
   "cell_type": "code",
   "execution_count": 8,
   "id": "3f86e258",
   "metadata": {},
   "outputs": [
    {
     "data": {
      "text/plain": [
       "{'Lat': {0: 17.57617,\n",
       "  1: 17.5766,\n",
       "  2: 17.57699,\n",
       "  3: 17.57738,\n",
       "  4: 17.57787,\n",
       "  5: 17.57828,\n",
       "  6: 17.57903,\n",
       "  7: 17.57919,\n",
       "  8: 17.57916,\n",
       "  9: 17.57906,\n",
       "  10: 17.57896,\n",
       "  11: 17.57879,\n",
       "  12: 17.57871,\n",
       "  13: 17.57862,\n",
       "  14: 17.57854,\n",
       "  15: 17.57843,\n",
       "  16: 17.57834,\n",
       "  17: 17.57825,\n",
       "  18: 17.57817,\n",
       "  19: 17.57805,\n",
       "  20: 17.57796,\n",
       "  21: 17.57788,\n",
       "  22: 17.57779,\n",
       "  23: 17.57776,\n",
       "  24: 17.57782,\n",
       "  25: 17.57795,\n",
       "  26: 17.57809,\n",
       "  27: 17.5783,\n",
       "  28: 17.57859,\n",
       "  29: 17.57894,\n",
       "  30: 17.57996,\n",
       "  31: 17.58055,\n",
       "  32: 17.5812,\n",
       "  33: 17.58259,\n",
       "  34: 17.58491,\n",
       "  35: 17.58259,\n",
       "  36: 17.5879,\n",
       "  37: 17.58491,\n",
       "  38: 17.5879,\n",
       "  39: 17.59003,\n",
       "  40: 17.59024,\n",
       "  41: 17.59043,\n",
       "  42: 17.59059,\n",
       "  43: 17.59074,\n",
       "  44: 17.59094,\n",
       "  45: 17.59111,\n",
       "  46: 17.59131,\n",
       "  47: 17.59146,\n",
       "  48: 17.59165,\n",
       "  49: 17.59181,\n",
       "  50: 17.592,\n",
       "  51: 17.59216,\n",
       "  52: 17.59234,\n",
       "  53: 17.59253,\n",
       "  54: 17.5927,\n",
       "  55: 17.59286,\n",
       "  56: 17.59306,\n",
       "  57: 17.59323,\n",
       "  58: 17.59353,\n",
       "  59: 17.59369,\n",
       "  60: 17.59388,\n",
       "  61: 17.59406,\n",
       "  62: 17.59431,\n",
       "  63: 17.59472,\n",
       "  64: 17.59509,\n",
       "  65: 17.59561,\n",
       "  66: 17.59687,\n",
       "  67: 17.59765,\n",
       "  68: 17.59803,\n",
       "  69: 17.59835,\n",
       "  70: 17.5985,\n",
       "  71: 17.59855,\n",
       "  72: 17.59855,\n",
       "  73: 17.59855,\n",
       "  74: 17.59855,\n",
       "  75: 17.59855,\n",
       "  76: 17.59855,\n",
       "  77: 17.59855,\n",
       "  78: 17.59855,\n",
       "  79: 17.59855,\n",
       "  80: 17.59855,\n",
       "  81: 17.59855,\n",
       "  82: 17.59855,\n",
       "  83: 17.59855,\n",
       "  84: 17.59855,\n",
       "  85: 17.59855,\n",
       "  86: 17.59855,\n",
       "  87: 17.59855,\n",
       "  88: 17.59855,\n",
       "  89: 17.59856,\n",
       "  90: 17.59856,\n",
       "  91: 17.59856,\n",
       "  92: 17.59856,\n",
       "  93: 17.59858,\n",
       "  94: 17.59867,\n",
       "  95: 17.59876,\n",
       "  96: 17.59885,\n",
       "  97: 17.59909,\n",
       "  98: 17.5992,\n",
       "  99: 17.59923,\n",
       "  100: 17.59891,\n",
       "  101: 17.59856,\n",
       "  102: 17.59831,\n",
       "  103: 17.59814,\n",
       "  104: 17.59807,\n",
       "  105: 17.59791,\n",
       "  106: 17.59767,\n",
       "  107: 17.5974,\n",
       "  108: 17.59735,\n",
       "  109: 17.59734,\n",
       "  110: 17.59718,\n",
       "  111: 17.59704,\n",
       "  112: 17.59701,\n",
       "  113: 17.59703,\n",
       "  114: 17.59725,\n",
       "  115: 17.59769,\n",
       "  116: 17.59806,\n",
       "  117: 17.59791,\n",
       "  118: 17.59741,\n",
       "  119: 17.59739,\n",
       "  120: 17.59683,\n",
       "  121: 17.5961,\n",
       "  122: 17.5954,\n",
       "  123: 17.59471,\n",
       "  124: 17.59406,\n",
       "  125: 17.59333,\n",
       "  126: 17.59259,\n",
       "  127: 17.59211,\n",
       "  128: 17.59171,\n",
       "  129: 17.5913,\n",
       "  130: 17.59069,\n",
       "  131: 17.58996,\n",
       "  132: 17.58936,\n",
       "  133: 17.58868,\n",
       "  134: 17.5879,\n",
       "  135: 17.58706,\n",
       "  136: 17.58626,\n",
       "  137: 17.58548,\n",
       "  138: 17.5855,\n",
       "  139: 17.58473,\n",
       "  140: 17.58373,\n",
       "  141: 17.58259,\n",
       "  142: 17.58075,\n",
       "  143: 17.5799,\n",
       "  144: 17.57918,\n",
       "  145: 17.57843,\n",
       "  146: 17.57771,\n",
       "  147: 17.57687,\n",
       "  148: 17.57614,\n",
       "  149: 17.57561,\n",
       "  150: 17.57521,\n",
       "  151: 17.57479,\n",
       "  152: 17.57425,\n",
       "  153: 17.57349,\n",
       "  154: 17.57277,\n",
       "  155: 17.57186,\n",
       "  156: 17.57017,\n",
       "  157: 17.57186,\n",
       "  158: 17.56669,\n",
       "  159: 17.56614,\n",
       "  160: 17.5632,\n",
       "  161: 17.56614,\n",
       "  162: 17.56176,\n",
       "  163: 17.56122,\n",
       "  164: 17.56074,\n",
       "  165: 17.5601,\n",
       "  166: 17.55872,\n",
       "  167: 17.55818,\n",
       "  168: 17.55762,\n",
       "  169: 17.55711,\n",
       "  170: 17.55649,\n",
       "  171: 17.55594,\n",
       "  172: 17.55542,\n",
       "  173: 17.55452,\n",
       "  174: 17.55325,\n",
       "  175: 17.55247,\n",
       "  176: 17.55244,\n",
       "  177: 17.55141,\n",
       "  178: 17.55069,\n",
       "  179: 17.54972,\n",
       "  180: 17.54904,\n",
       "  181: 17.54811,\n",
       "  182: 17.54731,\n",
       "  183: 17.54662,\n",
       "  184: 17.54585,\n",
       "  185: 17.54548,\n",
       "  186: 17.54545,\n",
       "  187: 17.54541,\n",
       "  188: 17.54535,\n",
       "  189: 17.54532,\n",
       "  190: 17.54532,\n",
       "  191: 17.54532,\n",
       "  192: 17.54532,\n",
       "  193: 17.54532,\n",
       "  194: 17.54532,\n",
       "  195: 17.54532,\n",
       "  196: 17.54532,\n",
       "  197: 17.54529,\n",
       "  198: 17.54509,\n",
       "  199: 17.54486,\n",
       "  200: 17.5446,\n",
       "  201: 17.54428,\n",
       "  202: 17.54385,\n",
       "  203: 17.54329,\n",
       "  204: 17.54281,\n",
       "  205: 17.54274,\n",
       "  206: 17.54274,\n",
       "  207: 17.54274,\n",
       "  208: 17.54274,\n",
       "  209: 17.54273,\n",
       "  210: 17.54273,\n",
       "  211: 17.54273,\n",
       "  212: 17.54273,\n",
       "  213: 17.54273,\n",
       "  214: 17.54273,\n",
       "  215: 17.54273,\n",
       "  216: 17.54273,\n",
       "  217: 17.54273,\n",
       "  218: 17.54273,\n",
       "  219: 17.54273,\n",
       "  220: 17.54266,\n",
       "  221: 17.54258,\n",
       "  222: 17.5425,\n",
       "  223: 17.54248,\n",
       "  224: 17.54247,\n",
       "  225: 17.54249,\n",
       "  226: 17.5425,\n",
       "  227: 17.54253,\n",
       "  228: 17.54261,\n",
       "  229: 17.5427,\n",
       "  230: 17.54282,\n",
       "  231: 17.54296,\n",
       "  232: 17.54314,\n",
       "  233: 17.54324,\n",
       "  234: 17.54331,\n",
       "  235: 17.5434,\n",
       "  236: 17.54357,\n",
       "  237: 17.54372,\n",
       "  238: 17.54378,\n",
       "  239: 17.54388,\n",
       "  240: 17.54398,\n",
       "  241: 17.54411,\n",
       "  242: 17.54425,\n",
       "  243: 17.54438,\n",
       "  244: 17.54453,\n",
       "  245: 17.54465,\n",
       "  246: 17.54479,\n",
       "  247: 17.54494,\n",
       "  248: 17.54509,\n",
       "  249: 17.54525,\n",
       "  250: 17.54539,\n",
       "  251: 17.54554,\n",
       "  252: 17.54567,\n",
       "  253: 17.54572,\n",
       "  254: 17.54582,\n",
       "  255: 17.54595,\n",
       "  256: 17.54611,\n",
       "  257: 17.54618,\n",
       "  258: 17.54628,\n",
       "  259: 17.54635,\n",
       "  260: 17.54641,\n",
       "  261: 17.54644,\n",
       "  262: 17.5465,\n",
       "  263: 17.54659,\n",
       "  264: 17.54669,\n",
       "  265: 17.5468,\n",
       "  266: 17.54695,\n",
       "  267: 17.5471,\n",
       "  268: 17.54723,\n",
       "  269: 17.5475,\n",
       "  270: 17.54761,\n",
       "  271: 17.54777,\n",
       "  272: 17.54785,\n",
       "  273: 17.54791,\n",
       "  274: 17.548,\n",
       "  275: 17.54807,\n",
       "  276: 17.54817,\n",
       "  277: 17.54825,\n",
       "  278: 17.54831,\n",
       "  279: 17.54837,\n",
       "  280: 17.54838,\n",
       "  281: 17.54845,\n",
       "  282: 17.54854,\n",
       "  283: 17.54864,\n",
       "  284: 17.54866,\n",
       "  285: 17.54868,\n",
       "  286: 17.54869,\n",
       "  287: 17.54869,\n",
       "  288: 17.5487,\n",
       "  289: 17.54871,\n",
       "  290: 17.54871,\n",
       "  291: 17.54872,\n",
       "  292: 17.54874,\n",
       "  293: 17.54877,\n",
       "  294: 17.54877,\n",
       "  295: 17.54879,\n",
       "  296: 17.54884,\n",
       "  297: 17.54891,\n",
       "  298: 17.54899,\n",
       "  299: 17.54909,\n",
       "  300: 17.54923,\n",
       "  301: 17.54937,\n",
       "  302: 17.5494,\n",
       "  303: 17.54931,\n",
       "  304: 17.54912,\n",
       "  305: 17.54884,\n",
       "  306: 17.5486,\n",
       "  307: 17.54834,\n",
       "  308: 17.54812,\n",
       "  309: 17.54803,\n",
       "  310: 17.54796,\n",
       "  311: 17.54795,\n",
       "  312: 17.54796,\n",
       "  313: 17.54794},\n",
       " 'Long': {0: 78.60074,\n",
       "  1: 78.59977,\n",
       "  2: 78.59879,\n",
       "  3: 78.59782,\n",
       "  4: 78.59664,\n",
       "  5: 78.5956,\n",
       "  6: 78.59319,\n",
       "  7: 78.59175,\n",
       "  8: 78.59028,\n",
       "  9: 78.5892,\n",
       "  10: 78.58801,\n",
       "  11: 78.5861,\n",
       "  12: 78.58503,\n",
       "  13: 78.584,\n",
       "  14: 78.5829,\n",
       "  15: 78.58179,\n",
       "  16: 78.58072,\n",
       "  17: 78.57968,\n",
       "  18: 78.57863,\n",
       "  19: 78.57741,\n",
       "  20: 78.57637,\n",
       "  21: 78.57528,\n",
       "  22: 78.57427,\n",
       "  23: 78.57333,\n",
       "  24: 78.57236,\n",
       "  25: 78.5714,\n",
       "  26: 78.57053,\n",
       "  27: 78.56962,\n",
       "  28: 78.56877,\n",
       "  29: 78.56795,\n",
       "  30: 78.5654,\n",
       "  31: 78.56388,\n",
       "  32: 78.56222,\n",
       "  33: 78.55879,\n",
       "  34: 78.55292,\n",
       "  35: 78.55879,\n",
       "  36: 78.54542,\n",
       "  37: 78.55292,\n",
       "  38: 78.54542,\n",
       "  39: 78.53468,\n",
       "  40: 78.53334,\n",
       "  41: 78.532,\n",
       "  42: 78.53084,\n",
       "  43: 78.52964,\n",
       "  44: 78.52828,\n",
       "  45: 78.52692,\n",
       "  46: 78.52559,\n",
       "  47: 78.52442,\n",
       "  48: 78.5231,\n",
       "  49: 78.52194,\n",
       "  50: 78.52063,\n",
       "  51: 78.51951,\n",
       "  52: 78.51821,\n",
       "  53: 78.51694,\n",
       "  54: 78.51572,\n",
       "  55: 78.51462,\n",
       "  56: 78.51334,\n",
       "  57: 78.51224,\n",
       "  58: 78.50989,\n",
       "  59: 78.50881,\n",
       "  60: 78.50755,\n",
       "  61: 78.50641,\n",
       "  62: 78.50543,\n",
       "  63: 78.50432,\n",
       "  64: 78.50341,\n",
       "  65: 78.50223,\n",
       "  66: 78.4994,\n",
       "  67: 78.4974,\n",
       "  68: 78.49635,\n",
       "  69: 78.49518,\n",
       "  70: 78.49449,\n",
       "  71: 78.49423,\n",
       "  72: 78.49422,\n",
       "  73: 78.49421,\n",
       "  74: 78.49422,\n",
       "  75: 78.49422,\n",
       "  76: 78.49422,\n",
       "  77: 78.49421,\n",
       "  78: 78.49421,\n",
       "  79: 78.49421,\n",
       "  80: 78.49421,\n",
       "  81: 78.49421,\n",
       "  82: 78.49421,\n",
       "  83: 78.49421,\n",
       "  84: 78.49421,\n",
       "  85: 78.49421,\n",
       "  86: 78.49421,\n",
       "  87: 78.49421,\n",
       "  88: 78.49421,\n",
       "  89: 78.49421,\n",
       "  90: 78.49421,\n",
       "  91: 78.49421,\n",
       "  92: 78.49421,\n",
       "  93: 78.49414,\n",
       "  94: 78.49386,\n",
       "  95: 78.49346,\n",
       "  96: 78.49301,\n",
       "  97: 78.4918,\n",
       "  98: 78.49118,\n",
       "  99: 78.49058,\n",
       "  100: 78.49036,\n",
       "  101: 78.49051,\n",
       "  102: 78.49073,\n",
       "  103: 78.4909,\n",
       "  104: 78.49095,\n",
       "  105: 78.49111,\n",
       "  106: 78.49132,\n",
       "  107: 78.49159,\n",
       "  108: 78.49164,\n",
       "  109: 78.49165,\n",
       "  110: 78.49187,\n",
       "  111: 78.49229,\n",
       "  112: 78.49284,\n",
       "  113: 78.49347,\n",
       "  114: 78.49394,\n",
       "  115: 78.49402,\n",
       "  116: 78.49362,\n",
       "  117: 78.49309,\n",
       "  118: 78.49316,\n",
       "  119: 78.49308,\n",
       "  120: 78.49302,\n",
       "  121: 78.49299,\n",
       "  122: 78.493,\n",
       "  123: 78.49306,\n",
       "  124: 78.49312,\n",
       "  125: 78.49318,\n",
       "  126: 78.49323,\n",
       "  127: 78.4932,\n",
       "  128: 78.49317,\n",
       "  129: 78.49312,\n",
       "  130: 78.49301,\n",
       "  131: 78.4928,\n",
       "  132: 78.49262,\n",
       "  133: 78.49246,\n",
       "  134: 78.49236,\n",
       "  135: 78.49223,\n",
       "  136: 78.49207,\n",
       "  137: 78.49213,\n",
       "  138: 78.49199,\n",
       "  139: 78.49182,\n",
       "  140: 78.49159,\n",
       "  141: 78.4914,\n",
       "  142: 78.49137,\n",
       "  143: 78.49154,\n",
       "  144: 78.49177,\n",
       "  145: 78.49201,\n",
       "  146: 78.49222,\n",
       "  147: 78.49247,\n",
       "  148: 78.49276,\n",
       "  149: 78.49301,\n",
       "  150: 78.4932,\n",
       "  151: 78.49338,\n",
       "  152: 78.4936,\n",
       "  153: 78.49379,\n",
       "  154: 78.49389,\n",
       "  155: 78.49401,\n",
       "  156: 78.49429,\n",
       "  157: 78.49401,\n",
       "  158: 78.49413,\n",
       "  159: 78.49402,\n",
       "  160: 78.49352,\n",
       "  161: 78.49402,\n",
       "  162: 78.49329,\n",
       "  163: 78.49321,\n",
       "  164: 78.49313,\n",
       "  165: 78.49301,\n",
       "  166: 78.49298,\n",
       "  167: 78.49311,\n",
       "  168: 78.49333,\n",
       "  169: 78.49353,\n",
       "  170: 78.4938,\n",
       "  171: 78.49401,\n",
       "  172: 78.49419,\n",
       "  173: 78.49438,\n",
       "  174: 78.49436,\n",
       "  175: 78.49431,\n",
       "  176: 78.49408,\n",
       "  177: 78.4938,\n",
       "  178: 78.4936,\n",
       "  179: 78.49336,\n",
       "  180: 78.49313,\n",
       "  181: 78.49286,\n",
       "  182: 78.49265,\n",
       "  183: 78.49245,\n",
       "  184: 78.49225,\n",
       "  185: 78.49215,\n",
       "  186: 78.49214,\n",
       "  187: 78.49214,\n",
       "  188: 78.49211,\n",
       "  189: 78.49211,\n",
       "  190: 78.4921,\n",
       "  191: 78.4921,\n",
       "  192: 78.49211,\n",
       "  193: 78.49211,\n",
       "  194: 78.49211,\n",
       "  195: 78.49211,\n",
       "  196: 78.49211,\n",
       "  197: 78.4921,\n",
       "  198: 78.49207,\n",
       "  199: 78.49201,\n",
       "  200: 78.49197,\n",
       "  201: 78.4919,\n",
       "  202: 78.49181,\n",
       "  203: 78.49166,\n",
       "  204: 78.49153,\n",
       "  205: 78.4915,\n",
       "  206: 78.4915,\n",
       "  207: 78.4915,\n",
       "  208: 78.4915,\n",
       "  209: 78.4915,\n",
       "  210: 78.4915,\n",
       "  211: 78.4915,\n",
       "  212: 78.4915,\n",
       "  213: 78.4915,\n",
       "  214: 78.4915,\n",
       "  215: 78.4915,\n",
       "  216: 78.4915,\n",
       "  217: 78.4915,\n",
       "  218: 78.4915,\n",
       "  219: 78.4915,\n",
       "  220: 78.49148,\n",
       "  221: 78.49146,\n",
       "  222: 78.4914,\n",
       "  223: 78.49131,\n",
       "  224: 78.49127,\n",
       "  225: 78.4912,\n",
       "  226: 78.49115,\n",
       "  227: 78.49109,\n",
       "  228: 78.49082,\n",
       "  229: 78.49048,\n",
       "  230: 78.49004,\n",
       "  231: 78.48951,\n",
       "  232: 78.4888,\n",
       "  233: 78.48847,\n",
       "  234: 78.48819,\n",
       "  235: 78.48781,\n",
       "  236: 78.4872,\n",
       "  237: 78.4866,\n",
       "  238: 78.48637,\n",
       "  239: 78.48603,\n",
       "  240: 78.48563,\n",
       "  241: 78.4851,\n",
       "  242: 78.48461,\n",
       "  243: 78.48411,\n",
       "  244: 78.48354,\n",
       "  245: 78.48305,\n",
       "  246: 78.48258,\n",
       "  247: 78.48202,\n",
       "  248: 78.48148,\n",
       "  249: 78.48085,\n",
       "  250: 78.4803,\n",
       "  251: 78.47976,\n",
       "  252: 78.47927,\n",
       "  253: 78.47909,\n",
       "  254: 78.4787,\n",
       "  255: 78.47819,\n",
       "  256: 78.47751,\n",
       "  257: 78.47723,\n",
       "  258: 78.47692,\n",
       "  259: 78.47663,\n",
       "  260: 78.47638,\n",
       "  261: 78.47616,\n",
       "  262: 78.47592,\n",
       "  263: 78.47562,\n",
       "  264: 78.47526,\n",
       "  265: 78.47484,\n",
       "  266: 78.47436,\n",
       "  267: 78.47382,\n",
       "  268: 78.4733,\n",
       "  269: 78.4723,\n",
       "  270: 78.47189,\n",
       "  271: 78.47136,\n",
       "  272: 78.47108,\n",
       "  273: 78.47086,\n",
       "  274: 78.47057,\n",
       "  275: 78.47027,\n",
       "  276: 78.46998,\n",
       "  277: 78.46979,\n",
       "  278: 78.46959,\n",
       "  279: 78.46926,\n",
       "  280: 78.46916,\n",
       "  281: 78.46899,\n",
       "  282: 78.46867,\n",
       "  283: 78.46833,\n",
       "  284: 78.46804,\n",
       "  285: 78.46792,\n",
       "  286: 78.46791,\n",
       "  287: 78.46791,\n",
       "  288: 78.46787,\n",
       "  289: 78.46785,\n",
       "  290: 78.46782,\n",
       "  291: 78.46775,\n",
       "  292: 78.46767,\n",
       "  293: 78.46757,\n",
       "  294: 78.46745,\n",
       "  295: 78.46734,\n",
       "  296: 78.46715,\n",
       "  297: 78.46691,\n",
       "  298: 78.46664,\n",
       "  299: 78.46618,\n",
       "  300: 78.46558,\n",
       "  301: 78.46507,\n",
       "  302: 78.46491,\n",
       "  303: 78.46486,\n",
       "  304: 78.46478,\n",
       "  305: 78.46464,\n",
       "  306: 78.46456,\n",
       "  307: 78.46447,\n",
       "  308: 78.46434,\n",
       "  309: 78.46445,\n",
       "  310: 78.46463,\n",
       "  311: 78.46464,\n",
       "  312: 78.46463,\n",
       "  313: 78.46464}}"
      ]
     },
     "execution_count": 8,
     "metadata": {},
     "output_type": "execute_result"
    }
   ],
   "source": [
    "df.to_dict()"
   ]
  },
  {
   "cell_type": "code",
   "execution_count": 9,
   "id": "c57d3760",
   "metadata": {},
   "outputs": [],
   "source": [
    "h=b\"\\x00\\x00\\x00\\x00\\x00\\x00\\x01n\\x8e\\x01\\x00\\x00\\x01\\x85\\x1a\\x9e\\xfc(\\x00.\\xdf8S\\n\\x92(,\\x02`\\x003\\t\\x00\\x00\\x00\\x00\\x00F\\x00\\x0f\\x00\\xef\\x00\\x00\\xf0\\x00\\x00P\\x00\\x00\\x15\\x05\\x00\\xc8\\x00\\x00E\\x01\\x00\\x01\\x00\\x00\\xb3\\x00\\x00\\x1d\\x00\\x00\\x14\\x00\\x00\\x16\\x00\\x00\\x17\\x00\\x00qE\\x01\\x07\\x01\\x01/\\x00\\x00\\x19\\x00\\xb5\\x00\\x0f\\x00\\xb6\\x00\\x0c\\x00B-A\\x00\\x18\\x00\\x00\\x00\\xcd\\xb5\\xed\\x00\\xceP\\x17\\x00C\\x0e\\xbe\\x00D\\x00\\x8b\\x00\\t\\x00+\\x00\\r'\\x0f\\x00\\x11\\xff\\xe5\\x00\\x12\\xff\\xf9\\x00\\x13\\xfc4\\x00\\x19\\x0b\\xb8\\x00\\x1a\\x0b\\xb8\\x00\\x1b\\x0b\\xb8\\x00\\x1c\\x0b\\xb8\\x00V\\x0b\\xb8\\x00h\\x0b\\xb8\\x00j\\x0b\\xb8\\x00l\\x0b\\xb8\\x01O\\x00\\x00\\x01P\\x00\\x00\\x01Q\\x00\\x00\\x01R\\x00\\x00\\x00\\x18\\x00\\xf1\\x00\\x00\\x9e\\x01\\x00\\xc7\\x00\\x00\\x00\\x00\\x00\\x10\\x00\\x00\\x146\\x00\\x0c\\x00\\x00\\x00!\\x012\\x00\\x00\\x00\\x00\\x013\\x00\\x00\\x00\\x00\\x014\\x00\\x00\\x00\\x00\\x015\\x00\\x00\\x00\\x00\\x01\\xcf\\x00\\x00\\x00\\x00\\x01\\xd0\\x00\\x00\\x00\\x00\\x01\\xd1\\x00\\x00\\x00\\x00\\x01\\xd2\\x00\\x00\\x00\\x00\\x01\\xd3\\x00\\x00\\x00\\x00\\x01\\xd4\\x00\\x00\\x00\\x00\\x01\\xd5\\x00\\x00\\x00\\x00\\x01\\xd6\\x00\\x00\\x00\\x00\\x01\\xd7\\x00\\x00\\x00\\x00\\x01\\xd8\\x00\\x00\\x00\\x00\\x01\\xd9\\x00\\x00\\x00\\x00\\x01\\xda\\x00\\x00\\x00\\x00\\x01\\xdb\\x00\\x00\\x00\\x00\\x01\\xdc\\x00\\x00\\x00\\x00\\x01\\xdd\\x00\\x00\\x00\\x00\\x01\\xde\\x00\\x00\\x00\\x00\\x00\\x02\\x00\\x0b\\x00\\x00\\x00\\x005\\x97-\\xba\\x00\\x0e\\x00\\x00\\x00\\x00\\xc4\\xee\\x1f_\\x00\\x04\\x01K\\x00\\x00\\x01L\\x00\\x00\\x01M\\x00\\x00\\x01N\\x00\\x00\\x01\\x00\\x00\\xb5\\xa7\""
   ]
  },
  {
   "cell_type": "code",
   "execution_count": 11,
   "id": "0c30689d",
   "metadata": {},
   "outputs": [
    {
     "data": {
      "text/plain": [
       "366"
      ]
     },
     "execution_count": 11,
     "metadata": {},
     "output_type": "execute_result"
    }
   ],
   "source": [
    "int.from_bytes(h[4:8],'big')"
   ]
  },
  {
   "cell_type": "code",
   "execution_count": 14,
   "id": "69728a23",
   "metadata": {},
   "outputs": [
    {
     "data": {
      "text/plain": [
       "366"
      ]
     },
     "execution_count": 14,
     "metadata": {},
     "output_type": "execute_result"
    }
   ],
   "source": [
    "len(h[8:-4])"
   ]
  },
  {
   "cell_type": "code",
   "execution_count": 13,
   "id": "c459eaf3",
   "metadata": {},
   "outputs": [
    {
     "data": {
      "text/plain": [
       "362"
      ]
     },
     "execution_count": 13,
     "metadata": {},
     "output_type": "execute_result"
    }
   ],
   "source": [
    "378-16"
   ]
  },
  {
   "cell_type": "code",
   "execution_count": 15,
   "id": "c23a1423",
   "metadata": {},
   "outputs": [
    {
     "data": {
      "text/plain": [
       "1"
      ]
     },
     "execution_count": 15,
     "metadata": {},
     "output_type": "execute_result"
    }
   ],
   "source": [
    "int.from_bytes(h[9:10],'big')"
   ]
  },
  {
   "cell_type": "code",
   "execution_count": 16,
   "id": "c1fbd927",
   "metadata": {},
   "outputs": [],
   "source": [
    "avldata=h[10:-4]"
   ]
  },
  {
   "cell_type": "code",
   "execution_count": 17,
   "id": "5f0b53dc",
   "metadata": {},
   "outputs": [
    {
     "data": {
      "text/plain": [
       "b\"\\x00\\x00\\x01\\x85\\x1a\\x9e\\xfc(\\x00.\\xdf8S\\n\\x92(,\\x02`\\x003\\t\\x00\\x00\\x00\\x00\\x00F\\x00\\x0f\\x00\\xef\\x00\\x00\\xf0\\x00\\x00P\\x00\\x00\\x15\\x05\\x00\\xc8\\x00\\x00E\\x01\\x00\\x01\\x00\\x00\\xb3\\x00\\x00\\x1d\\x00\\x00\\x14\\x00\\x00\\x16\\x00\\x00\\x17\\x00\\x00qE\\x01\\x07\\x01\\x01/\\x00\\x00\\x19\\x00\\xb5\\x00\\x0f\\x00\\xb6\\x00\\x0c\\x00B-A\\x00\\x18\\x00\\x00\\x00\\xcd\\xb5\\xed\\x00\\xceP\\x17\\x00C\\x0e\\xbe\\x00D\\x00\\x8b\\x00\\t\\x00+\\x00\\r'\\x0f\\x00\\x11\\xff\\xe5\\x00\\x12\\xff\\xf9\\x00\\x13\\xfc4\\x00\\x19\\x0b\\xb8\\x00\\x1a\\x0b\\xb8\\x00\\x1b\\x0b\\xb8\\x00\\x1c\\x0b\\xb8\\x00V\\x0b\\xb8\\x00h\\x0b\\xb8\\x00j\\x0b\\xb8\\x00l\\x0b\\xb8\\x01O\\x00\\x00\\x01P\\x00\\x00\\x01Q\\x00\\x00\\x01R\\x00\\x00\\x00\\x18\\x00\\xf1\\x00\\x00\\x9e\\x01\\x00\\xc7\\x00\\x00\\x00\\x00\\x00\\x10\\x00\\x00\\x146\\x00\\x0c\\x00\\x00\\x00!\\x012\\x00\\x00\\x00\\x00\\x013\\x00\\x00\\x00\\x00\\x014\\x00\\x00\\x00\\x00\\x015\\x00\\x00\\x00\\x00\\x01\\xcf\\x00\\x00\\x00\\x00\\x01\\xd0\\x00\\x00\\x00\\x00\\x01\\xd1\\x00\\x00\\x00\\x00\\x01\\xd2\\x00\\x00\\x00\\x00\\x01\\xd3\\x00\\x00\\x00\\x00\\x01\\xd4\\x00\\x00\\x00\\x00\\x01\\xd5\\x00\\x00\\x00\\x00\\x01\\xd6\\x00\\x00\\x00\\x00\\x01\\xd7\\x00\\x00\\x00\\x00\\x01\\xd8\\x00\\x00\\x00\\x00\\x01\\xd9\\x00\\x00\\x00\\x00\\x01\\xda\\x00\\x00\\x00\\x00\\x01\\xdb\\x00\\x00\\x00\\x00\\x01\\xdc\\x00\\x00\\x00\\x00\\x01\\xdd\\x00\\x00\\x00\\x00\\x01\\xde\\x00\\x00\\x00\\x00\\x00\\x02\\x00\\x0b\\x00\\x00\\x00\\x005\\x97-\\xba\\x00\\x0e\\x00\\x00\\x00\\x00\\xc4\\xee\\x1f_\\x00\\x04\\x01K\\x00\\x00\\x01L\\x00\\x00\\x01M\\x00\\x00\\x01N\\x00\\x00\\x01\""
      ]
     },
     "execution_count": 17,
     "metadata": {},
     "output_type": "execute_result"
    }
   ],
   "source": [
    "avldata"
   ]
  },
  {
   "cell_type": "code",
   "execution_count": 18,
   "id": "c4ab1c94",
   "metadata": {},
   "outputs": [],
   "source": [
    "timestamp=int.from_bytes(avldata[0:8],'big')"
   ]
  },
  {
   "cell_type": "code",
   "execution_count": 22,
   "id": "e1ea819b",
   "metadata": {},
   "outputs": [
    {
     "data": {
      "text/plain": [
       "datetime.datetime(2022, 12, 16, 16, 38, 25)"
      ]
     },
     "execution_count": 22,
     "metadata": {},
     "output_type": "execute_result"
    }
   ],
   "source": [
    "import datetime as dt\n",
    "dt.datetime.fromtimestamp(timestamp/1000)\n"
   ]
  },
  {
   "cell_type": "code",
   "execution_count": 25,
   "id": "da3670df",
   "metadata": {},
   "outputs": [],
   "source": [
    "gpsdata=avldata[9:24]"
   ]
  },
  {
   "cell_type": "code",
   "execution_count": 24,
   "id": "6a3eeb04",
   "metadata": {},
   "outputs": [
    {
     "data": {
      "text/plain": [
       "15"
      ]
     },
     "execution_count": 24,
     "metadata": {},
     "output_type": "execute_result"
    }
   ],
   "source": [
    "24-9"
   ]
  },
  {
   "cell_type": "code",
   "execution_count": 32,
   "id": "39d1870a",
   "metadata": {},
   "outputs": [
    {
     "ename": "TypeError",
     "evalue": "int() can't convert non-string with explicit base",
     "output_type": "error",
     "traceback": [
      "\u001b[0;31m---------------------------------------------------------------------------\u001b[0m",
      "\u001b[0;31mTypeError\u001b[0m                                 Traceback (most recent call last)",
      "Cell \u001b[0;32mIn [32], line 1\u001b[0m\n\u001b[0;32m----> 1\u001b[0m \u001b[38;5;28mint\u001b[39m(gps[\u001b[38;5;241m0\u001b[39m],base\u001b[38;5;241m=\u001b[39m\u001b[38;5;241m16\u001b[39m)\n",
      "\u001b[0;31mTypeError\u001b[0m: int() can't convert non-string with explicit base"
     ]
    }
   ],
   "source": [
    "int(gps[0],base=16)"
   ]
  },
  {
   "cell_type": "code",
   "execution_count": 34,
   "id": "aac9f37b",
   "metadata": {},
   "outputs": [],
   "source": [
    "def decimalToBinary(n):\n",
    "    return \"{0:b}\".format(int(n))"
   ]
  },
  {
   "cell_type": "code",
   "execution_count": 38,
   "id": "7e596cd1",
   "metadata": {},
   "outputs": [
    {
     "data": {
      "text/plain": [
       "'101110'"
      ]
     },
     "execution_count": 38,
     "metadata": {},
     "output_type": "execute_result"
    }
   ],
   "source": [
    "decimalToBinary(gps[0])"
   ]
  },
  {
   "cell_type": "code",
   "execution_count": 39,
   "id": "af8ac213",
   "metadata": {},
   "outputs": [
    {
     "data": {
      "text/plain": [
       "46"
      ]
     },
     "execution_count": 39,
     "metadata": {},
     "output_type": "execute_result"
    }
   ],
   "source": [
    "32+14"
   ]
  },
  {
   "cell_type": "code",
   "execution_count": 42,
   "id": "c5e3081b",
   "metadata": {},
   "outputs": [],
   "source": [
    "bb=b'\\x20\\x9C\\xCA\\x80'"
   ]
  },
  {
   "cell_type": "code",
   "execution_count": 47,
   "id": "77656fca",
   "metadata": {},
   "outputs": [
    {
     "data": {
      "text/plain": [
       "(17.73507, 78.6380883)"
      ]
     },
     "execution_count": 47,
     "metadata": {},
     "output_type": "execute_result"
    }
   ],
   "source": [
    "int.from_bytes(gps[4:8],'big')/10**7,int.from_bytes(gps[0:4],'big')/10**7"
   ]
  },
  {
   "cell_type": "code",
   "execution_count": 48,
   "id": "ec68396f",
   "metadata": {},
   "outputs": [],
   "source": [
    "bbb=b'\\x00\\x00\\x00\\x00\\x00\\x00\\x02?\\x8e\\x01\\x00\\x00\\x01\\x85\\x1a\\xc4\\x81\\xa0\\x00.\\xde\\xeb\\xe4\\n\\x92r\\xb7\\x02K\\x01\"\\t\\x00\\x00\\x00\\x00\\x00e\\x00\\x14\\x00\\xef\\x00\\x00\\xf0\\x00\\x00P\\x00\\x00\\x15\\x05\\x00\\xc8\\x00\\x00E\\x01\\x00\\x01\\x00\\x00\\xb3\\x00\\x00\\xca\\x00\\x00\\xcc\\x00\\x00\\xd3\\x00\\x00\\xd5\\x00\\x00\\xd7\\x00\\x00\\x1d\\x00\\x00\\x14\\x00\\x00\\x16\\x00\\x00\\x17\\x00\\x00qa\\x01\\x07\\x01\\x01/\\x00\\x00$\\x00\\xb5\\x00\\x0c\\x00\\xb6\\x00\\n\\x00B-V\\x00\\x18\\x00\\x00\\x00\\xcd\\xb5\\xed\\x00\\xceP\\x17\\x00C\\x0f\\xfd\\x00D\\x00I\\x00\\t\\x00+\\x00\\r\\x16D\\x00\\x11\\x00\\x07\\x00\\x12\\x00\\x1b\\x00\\x13\\xfc(\\x00\\xc9\\x00\\x00\\x00\\xcb\\x00\\x00\\x00\\xd2\\x00\\x00\\x00\\xd4\\x00\\x00\\x00\\xd6\\x00\\x00\\x00\\x0f\\x03\\xe8\\x00\\x19\\x0b\\xb8\\x00\\x1a\\x0b\\xb8\\x00\\x1b\\x0b\\xb8\\x00\\x1c\\x0b\\xb8\\x00V\\x0b\\xb8\\x00h\\x0b\\xb8\\x00j\\x0b\\xb8\\x00l\\x0b\\xb8\\x01\\x0e\\x00\\x00\\x01\\x11\\x00\\x00\\x01\\x14\\x00\\x00\\x01\\x17\\x00\\x00\\x01G\\x00\\x00\\x01O\\x00\\x00\\x01P\\x00\\x00\\x01Q\\x00\\x00\\x01R\\x00\\x00\\x00\\x1f\\x00\\xf1\\x00\\x00\\x9e\\x01\\x00\\xc7\\x00\\x00\\x00\\x00\\x00\\x10\\x00\\x00\\x14\\x85\\x00\\x0c\\x00\\x00\\x009\\x00H\\x00\\x00\\x00\\x00\\x00I\\x00\\x00\\x00\\x00\\x00J\\x00\\x00\\x00\\x00\\x00K\\x00\\x00\\x00\\x00\\x00\\x04\\x00\\x00\\x00\\x00\\x012\\x00\\x00\\x00\\x00\\x013\\x00\\x00\\x00\\x00\\x014\\x00\\x00\\x00\\x00\\x015\\x00\\x00\\x00\\x00\\x01\\xcf\\x00\\x00\\x00\\x00\\x01\\xd0\\x00\\x00\\x00\\x00\\x01\\xd1\\x00\\x00\\x00\\x00\\x01\\xd2\\x00\\x00\\x00\\x00\\x01\\xd3\\x00\\x00\\x00\\x00\\x01\\xd4\\x00\\x00\\x00\\x00\\x01\\xd5\\x00\\x00\\x00\\x00\\x01\\xd6\\x00\\x00\\x00\\x00\\x01\\xd7\\x00\\x00\\x00\\x00\\x01\\xd8\\x00\\x00\\x00\\x00\\x01\\xd9\\x00\\x00\\x00\\x00\\x01\\xda\\x00\\x00\\x00\\x00\\x01\\xdb\\x00\\x00\\x00\\x00\\x01\\xdc\\x00\\x00\\x00\\x00\\x01\\xdd\\x00\\x00\\x00\\x00\\x01\\xde\\x00\\x00\\x00\\x00\\x01\\xe3\\x00\\x00\\x00\\x00\\x01\\xc1\\x00\\x00\\x00\\x00\\x00\\t\\x00\\x0b\\x00\\x00\\x00\\x005\\x97-\\xba\\x00L\\x00\\x00\\x00\\x00\\x00\\x00\\x00\\x00\\x00M\\x00\\x00\\x00\\x00\\x00\\x00\\x00\\x00\\x00O\\x00\\x00\\x00\\x00\\x00\\x00\\x00\\x00\\x00G\\x00\\x00\\x00\\x00\\x00\\x00\\x00\\x00\\x00N\\x00\\x00\\x00\\x00\\x00\\x00\\x00\\x00\\x00\\xcf\\x00\\x00\\x00\\x00\\x00\\x00\\x00\\x00\\x00\\xee\\x00\\x00\\x00\\x00\\x00\\x00\\x00\\x00\\x00\\x0e\\x00\\x00\\x00\\x00\\xc4\\xee\\x1f_\\x00\\x05\\x01K\\x00\\x00\\x01L\\x00\\x00\\x01M\\x00\\x00\\x01N\\x00\\x00\\x01\\x83\\x00\"+177369.7833+0786361.3167+000.587/\\x01\\x00\\x00\\x0b\\xc0'"
   ]
  },
  {
   "cell_type": "code",
   "execution_count": 49,
   "id": "55506c22",
   "metadata": {},
   "outputs": [
    {
     "data": {
      "text/plain": [
       "b'\\x00\\x00\\x00\\x00\\x00\\x00\\x02?\\x8e\\x01\\x00\\x00\\x01\\x85\\x1a\\xc4\\x81\\xa0\\x00.\\xde\\xeb\\xe4\\n\\x92r\\xb7\\x02K\\x01\"\\t\\x00\\x00\\x00\\x00\\x00e\\x00\\x14\\x00\\xef\\x00\\x00\\xf0\\x00\\x00P\\x00\\x00\\x15\\x05\\x00\\xc8\\x00\\x00E\\x01\\x00\\x01\\x00\\x00\\xb3\\x00\\x00\\xca\\x00\\x00\\xcc\\x00\\x00\\xd3\\x00\\x00\\xd5\\x00\\x00\\xd7\\x00\\x00\\x1d\\x00\\x00\\x14\\x00\\x00\\x16\\x00\\x00\\x17\\x00\\x00qa\\x01\\x07\\x01\\x01/\\x00\\x00$\\x00\\xb5\\x00\\x0c\\x00\\xb6\\x00\\n\\x00B-V\\x00\\x18\\x00\\x00\\x00\\xcd\\xb5\\xed\\x00\\xceP\\x17\\x00C\\x0f\\xfd\\x00D\\x00I\\x00\\t\\x00+\\x00\\r\\x16D\\x00\\x11\\x00\\x07\\x00\\x12\\x00\\x1b\\x00\\x13\\xfc(\\x00\\xc9\\x00\\x00\\x00\\xcb\\x00\\x00\\x00\\xd2\\x00\\x00\\x00\\xd4\\x00\\x00\\x00\\xd6\\x00\\x00\\x00\\x0f\\x03\\xe8\\x00\\x19\\x0b\\xb8\\x00\\x1a\\x0b\\xb8\\x00\\x1b\\x0b\\xb8\\x00\\x1c\\x0b\\xb8\\x00V\\x0b\\xb8\\x00h\\x0b\\xb8\\x00j\\x0b\\xb8\\x00l\\x0b\\xb8\\x01\\x0e\\x00\\x00\\x01\\x11\\x00\\x00\\x01\\x14\\x00\\x00\\x01\\x17\\x00\\x00\\x01G\\x00\\x00\\x01O\\x00\\x00\\x01P\\x00\\x00\\x01Q\\x00\\x00\\x01R\\x00\\x00\\x00\\x1f\\x00\\xf1\\x00\\x00\\x9e\\x01\\x00\\xc7\\x00\\x00\\x00\\x00\\x00\\x10\\x00\\x00\\x14\\x85\\x00\\x0c\\x00\\x00\\x009\\x00H\\x00\\x00\\x00\\x00\\x00I\\x00\\x00\\x00\\x00\\x00J\\x00\\x00\\x00\\x00\\x00K\\x00\\x00\\x00\\x00\\x00\\x04\\x00\\x00\\x00\\x00\\x012\\x00\\x00\\x00\\x00\\x013\\x00\\x00\\x00\\x00\\x014\\x00\\x00\\x00\\x00\\x015\\x00\\x00\\x00\\x00\\x01\\xcf\\x00\\x00\\x00\\x00\\x01\\xd0\\x00\\x00\\x00\\x00\\x01\\xd1\\x00\\x00\\x00\\x00\\x01\\xd2\\x00\\x00\\x00\\x00\\x01\\xd3\\x00\\x00\\x00\\x00\\x01\\xd4\\x00\\x00\\x00\\x00\\x01\\xd5\\x00\\x00\\x00\\x00\\x01\\xd6\\x00\\x00\\x00\\x00\\x01\\xd7\\x00\\x00\\x00\\x00\\x01\\xd8\\x00\\x00\\x00\\x00\\x01\\xd9\\x00\\x00\\x00\\x00\\x01\\xda\\x00\\x00\\x00\\x00\\x01\\xdb\\x00\\x00\\x00\\x00\\x01\\xdc\\x00\\x00\\x00\\x00\\x01\\xdd\\x00\\x00\\x00\\x00\\x01\\xde\\x00\\x00\\x00\\x00\\x01\\xe3\\x00\\x00\\x00\\x00\\x01\\xc1\\x00\\x00\\x00\\x00\\x00\\t\\x00\\x0b\\x00\\x00\\x00\\x005\\x97-\\xba\\x00L\\x00\\x00\\x00\\x00\\x00\\x00\\x00\\x00\\x00M\\x00\\x00\\x00\\x00\\x00\\x00\\x00\\x00\\x00O\\x00\\x00\\x00\\x00\\x00\\x00\\x00\\x00\\x00G\\x00\\x00\\x00\\x00\\x00\\x00\\x00\\x00\\x00N\\x00\\x00\\x00\\x00\\x00\\x00\\x00\\x00\\x00\\xcf\\x00\\x00\\x00\\x00\\x00\\x00\\x00\\x00\\x00\\xee\\x00\\x00\\x00\\x00\\x00\\x00\\x00\\x00\\x00\\x0e\\x00\\x00\\x00\\x00\\xc4\\xee\\x1f_\\x00\\x05\\x01K\\x00\\x00\\x01L\\x00\\x00\\x01M\\x00\\x00\\x01N\\x00\\x00\\x01\\x83\\x00\"+177369.7833+0786361.3167+000.587/\\x01\\x00\\x00\\x0b\\xc0'"
      ]
     },
     "execution_count": 49,
     "metadata": {},
     "output_type": "execute_result"
    }
   ],
   "source": [
    "bbb"
   ]
  },
  {
   "cell_type": "code",
   "execution_count": 52,
   "id": "08f39c14",
   "metadata": {},
   "outputs": [
    {
     "data": {
      "text/plain": [
       "575"
      ]
     },
     "execution_count": 52,
     "metadata": {},
     "output_type": "execute_result"
    }
   ],
   "source": [
    "length=bbb[4:8]\n",
    "int.from_bytes(length,'big')"
   ]
  },
  {
   "cell_type": "code",
   "execution_count": 53,
   "id": "79cacf37",
   "metadata": {},
   "outputs": [
    {
     "data": {
      "text/plain": [
       "575"
      ]
     },
     "execution_count": 53,
     "metadata": {},
     "output_type": "execute_result"
    }
   ],
   "source": [
    "len(bbb[8:-4])"
   ]
  },
  {
   "cell_type": "code",
   "execution_count": 56,
   "id": "44cea37d",
   "metadata": {},
   "outputs": [
    {
     "data": {
      "text/plain": [
       "1"
      ]
     },
     "execution_count": 56,
     "metadata": {},
     "output_type": "execute_result"
    }
   ],
   "source": [
    "noofdata=bbb[9:10]\n",
    "int.from_bytes(noofdata,'big')"
   ]
  },
  {
   "cell_type": "code",
   "execution_count": 58,
   "id": "727718fb",
   "metadata": {},
   "outputs": [
    {
     "data": {
      "text/plain": [
       "b'\\x00\\x00\\x01\\x85\\x1a\\xc4\\x81\\xa0\\x00.\\xde\\xeb\\xe4\\n\\x92r\\xb7\\x02K\\x01\"\\t\\x00\\x00\\x00\\x00\\x00e\\x00\\x14\\x00\\xef\\x00\\x00\\xf0\\x00\\x00P\\x00\\x00\\x15\\x05\\x00\\xc8\\x00\\x00E\\x01\\x00\\x01\\x00\\x00\\xb3\\x00\\x00\\xca\\x00\\x00\\xcc\\x00\\x00\\xd3\\x00\\x00\\xd5\\x00\\x00\\xd7\\x00\\x00\\x1d\\x00\\x00\\x14\\x00\\x00\\x16\\x00\\x00\\x17\\x00\\x00qa\\x01\\x07\\x01\\x01/\\x00\\x00$\\x00\\xb5\\x00\\x0c\\x00\\xb6\\x00\\n\\x00B-V\\x00\\x18\\x00\\x00\\x00\\xcd\\xb5\\xed\\x00\\xceP\\x17\\x00C\\x0f\\xfd\\x00D\\x00I\\x00\\t\\x00+\\x00\\r\\x16D\\x00\\x11\\x00\\x07\\x00\\x12\\x00\\x1b\\x00\\x13\\xfc(\\x00\\xc9\\x00\\x00\\x00\\xcb\\x00\\x00\\x00\\xd2\\x00\\x00\\x00\\xd4\\x00\\x00\\x00\\xd6\\x00\\x00\\x00\\x0f\\x03\\xe8\\x00\\x19\\x0b\\xb8\\x00\\x1a\\x0b\\xb8\\x00\\x1b\\x0b\\xb8\\x00\\x1c\\x0b\\xb8\\x00V\\x0b\\xb8\\x00h\\x0b\\xb8\\x00j\\x0b\\xb8\\x00l\\x0b\\xb8\\x01\\x0e\\x00\\x00\\x01\\x11\\x00\\x00\\x01\\x14\\x00\\x00\\x01\\x17\\x00\\x00\\x01G\\x00\\x00\\x01O\\x00\\x00\\x01P\\x00\\x00\\x01Q\\x00\\x00\\x01R\\x00\\x00\\x00\\x1f\\x00\\xf1\\x00\\x00\\x9e\\x01\\x00\\xc7\\x00\\x00\\x00\\x00\\x00\\x10\\x00\\x00\\x14\\x85\\x00\\x0c\\x00\\x00\\x009\\x00H\\x00\\x00\\x00\\x00\\x00I\\x00\\x00\\x00\\x00\\x00J\\x00\\x00\\x00\\x00\\x00K\\x00\\x00\\x00\\x00\\x00\\x04\\x00\\x00\\x00\\x00\\x012\\x00\\x00\\x00\\x00\\x013\\x00\\x00\\x00\\x00\\x014\\x00\\x00\\x00\\x00\\x015\\x00\\x00\\x00\\x00\\x01\\xcf\\x00\\x00\\x00\\x00\\x01\\xd0\\x00\\x00\\x00\\x00\\x01\\xd1\\x00\\x00\\x00\\x00\\x01\\xd2\\x00\\x00\\x00\\x00\\x01\\xd3\\x00\\x00\\x00\\x00\\x01\\xd4\\x00\\x00\\x00\\x00\\x01\\xd5\\x00\\x00\\x00\\x00\\x01\\xd6\\x00\\x00\\x00\\x00\\x01\\xd7\\x00\\x00\\x00\\x00\\x01\\xd8\\x00\\x00\\x00\\x00\\x01\\xd9\\x00\\x00\\x00\\x00\\x01\\xda\\x00\\x00\\x00\\x00\\x01\\xdb\\x00\\x00\\x00\\x00\\x01\\xdc\\x00\\x00\\x00\\x00\\x01\\xdd\\x00\\x00\\x00\\x00\\x01\\xde\\x00\\x00\\x00\\x00\\x01\\xe3\\x00\\x00\\x00\\x00\\x01\\xc1\\x00\\x00\\x00\\x00\\x00\\t\\x00\\x0b\\x00\\x00\\x00\\x005\\x97-\\xba\\x00L\\x00\\x00\\x00\\x00\\x00\\x00\\x00\\x00\\x00M\\x00\\x00\\x00\\x00\\x00\\x00\\x00\\x00\\x00O\\x00\\x00\\x00\\x00\\x00\\x00\\x00\\x00\\x00G\\x00\\x00\\x00\\x00\\x00\\x00\\x00\\x00\\x00N\\x00\\x00\\x00\\x00\\x00\\x00\\x00\\x00\\x00\\xcf\\x00\\x00\\x00\\x00\\x00\\x00\\x00\\x00\\x00\\xee\\x00\\x00\\x00\\x00\\x00\\x00\\x00\\x00\\x00\\x0e\\x00\\x00\\x00\\x00\\xc4\\xee\\x1f_\\x00\\x05\\x01K\\x00\\x00\\x01L\\x00\\x00\\x01M\\x00\\x00\\x01N\\x00\\x00\\x01\\x83\\x00\"+177369.7833+0786361.3167+000.587/'"
      ]
     },
     "execution_count": 58,
     "metadata": {},
     "output_type": "execute_result"
    }
   ],
   "source": [
    "avldata=bbb[10:-5]\n",
    "avldata"
   ]
  },
  {
   "cell_type": "code",
   "execution_count": 59,
   "id": "432ee6ed",
   "metadata": {},
   "outputs": [
    {
     "data": {
      "text/plain": [
       "datetime.datetime(2022, 12, 16, 17, 19, 24)"
      ]
     },
     "execution_count": 59,
     "metadata": {},
     "output_type": "execute_result"
    }
   ],
   "source": [
    "import datetime as dt\n",
    "timestamp=int.from_bytes(avldata[0:8],'big')\n",
    "dt.datetime.fromtimestamp(timestamp/1000)\n"
   ]
  },
  {
   "cell_type": "code",
   "execution_count": 66,
   "id": "f3f8b1db",
   "metadata": {},
   "outputs": [
    {
     "data": {
      "text/plain": [
       "(16, b'.\\xde\\xeb\\xe4\\n\\x92r\\xb7\\x02K\\x01\"\\t\\x00\\x00\\x00')"
      ]
     },
     "execution_count": 66,
     "metadata": {},
     "output_type": "execute_result"
    }
   ],
   "source": [
    "gps=avldata[9:10+15]\n",
    "len(gps),gps"
   ]
  },
  {
   "cell_type": "code",
   "execution_count": 67,
   "id": "13975fa6",
   "metadata": {},
   "outputs": [],
   "source": [
    "lat,lng=gps[4:8],gps[0:4]"
   ]
  },
  {
   "cell_type": "code",
   "execution_count": 68,
   "id": "12a4b13f",
   "metadata": {},
   "outputs": [],
   "source": [
    "lat,lng=int.from_bytes(lat,'big'),int.from_bytes(lng,'big')"
   ]
  },
  {
   "cell_type": "code",
   "execution_count": 70,
   "id": "a350ede1",
   "metadata": {},
   "outputs": [
    {
     "data": {
      "text/plain": [
       "(17.7369783, 78.6361316)"
      ]
     },
     "execution_count": 70,
     "metadata": {},
     "output_type": "execute_result"
    }
   ],
   "source": [
    "lat/10**7,lng/10**7"
   ]
  },
  {
   "cell_type": "code",
   "execution_count": 101,
   "id": "eaff0810",
   "metadata": {},
   "outputs": [],
   "source": [
    "import datetime as dt\n",
    "\n",
    "def hextoDecimal(data):\n",
    "    return int.from_bytes(data,'big')\n",
    "def parseavldata(data):\n",
    "    Data={}\n",
    "    timestamp=int.from_bytes(data[0:8],'big')\n",
    "    print(timestamp)\n",
    "    Data['timestamp']=dt.datetime.fromtimestamp(timestamp/1000)\n",
    "    gps=data[9:10+15]\n",
    "    lat,lng=hextoDecimal(gps[4:8]),hextoDecimal(gps[0:4])\n",
    "    Data['lat']=lat/10**7\n",
    "    Data['lng']=lng/10**7\n",
    "    Data['altitude']=hextoDecimal(gps[8:10])\n",
    "    Data['angle']=hextoDecimal(gps[10:12])\n",
    "    Data['satelites']=hextoDecimal(gps[12:13])\n",
    "    Data['speed']=hextoDecimal(gps[13:14])\n",
    "    print(Data)\n",
    "    \n",
    "def mainparser(datapacket):\n",
    "    packet_length=hextoDecimal(datapacket[4:8])\n",
    "    crc16=datapacket[-4:]\n",
    "    datapacket=datapacket[8:-4]\n",
    "    if packet_length==len(datapacket):\n",
    "        print(f'data packet size is {packet_length}')\n",
    "    else:\n",
    "        print(f'datapacket size is invalid!.')\n",
    "    numberofdata=datapacket[1]\n",
    "    avldata=datapacket[2:-5]\n",
    "    parseavldata(avldata)\n",
    "    "
   ]
  },
  {
   "cell_type": "code",
   "execution_count": 102,
   "id": "9916e62b",
   "metadata": {},
   "outputs": [
    {
     "name": "stdout",
     "output_type": "stream",
     "text": [
      "data packet size is 575\n",
      "1671191364000\n",
      "{'timestamp': datetime.datetime(2022, 12, 16, 17, 19, 24), 'lat': 17.7369783, 'lng': 78.6361316, 'altitude': 587, 'angle': 290, 'satelites': 9, 'speed': 0}\n"
     ]
    }
   ],
   "source": [
    "mainparser(bbb)"
   ]
  },
  {
   "cell_type": "code",
   "execution_count": 75,
   "id": "3b2ce463",
   "metadata": {},
   "outputs": [
    {
     "data": {
      "text/plain": [
       "'9999'"
      ]
     },
     "execution_count": 75,
     "metadata": {},
     "output_type": "execute_result"
    }
   ],
   "source": [
    "k[-4:]"
   ]
  },
  {
   "cell_type": "code",
   "execution_count": 81,
   "id": "dc489d07",
   "metadata": {},
   "outputs": [],
   "source": [
    "h=bbb[9]"
   ]
  },
  {
   "cell_type": "code",
   "execution_count": 83,
   "id": "a499f0de",
   "metadata": {},
   "outputs": [],
   "source": [
    "h='011111'"
   ]
  },
  {
   "cell_type": "code",
   "execution_count": 84,
   "id": "c6040e5e",
   "metadata": {},
   "outputs": [
    {
     "data": {
      "text/plain": [
       "'0'"
      ]
     },
     "execution_count": 84,
     "metadata": {},
     "output_type": "execute_result"
    }
   ],
   "source": [
    "h[:-5]"
   ]
  },
  {
   "cell_type": "code",
   "execution_count": 8,
   "id": "ecf2bf1b",
   "metadata": {},
   "outputs": [],
   "source": [
    "def search(nums, target):\n",
    "        l=len(nums)\n",
    "        if l==0:\n",
    "            return -1\n",
    "        low=0\n",
    "        high=len(nums)\n",
    "        mid=(low+high)//2\n",
    "        midval=nums[mid]\n",
    "        if midval==target:\n",
    "            return mid\n",
    "        elif target<midval:\n",
    "            return search(nums[:mid],target)\n",
    "        else:\n",
    "            return mid+search(nums[mid:],target)"
   ]
  },
  {
   "cell_type": "code",
   "execution_count": 10,
   "id": "18d37efd",
   "metadata": {},
   "outputs": [
    {
     "data": {
      "text/plain": [
       "5"
      ]
     },
     "execution_count": 10,
     "metadata": {},
     "output_type": "execute_result"
    }
   ],
   "source": [
    "search([1,2,3,4,5,6,7,8],6)"
   ]
  },
  {
   "cell_type": "code",
   "execution_count": 11,
   "id": "1af64cd7",
   "metadata": {},
   "outputs": [],
   "source": [
    "def search(nums , target):\n",
    "        l=len(nums)\n",
    "        if l==0:\n",
    "            return -1\n",
    "        low=0\n",
    "        high=len(nums)\n",
    "        mid=(low+high)//2\n",
    "        midval=nums[mid]\n",
    "        if midval==target:\n",
    "            return mid\n",
    "        elif target<midval:\n",
    "            return search(nums[:mid],target)\n",
    "        else:\n",
    "            return mid+search(nums[mid:],target)"
   ]
  },
  {
   "cell_type": "code",
   "execution_count": 14,
   "id": "4f64f1e5",
   "metadata": {},
   "outputs": [
    {
     "data": {
      "text/plain": [
       "7"
      ]
     },
     "execution_count": 14,
     "metadata": {},
     "output_type": "execute_result"
    }
   ],
   "source": [
    "search([1,2,3,4,5,6,7,8],8)"
   ]
  },
  {
   "cell_type": "code",
   "execution_count": 7,
   "id": "eed68387",
   "metadata": {},
   "outputs": [],
   "source": [
    "def search(nums,target):\n",
    "    l=len(nums)\n",
    "    if l==0:\n",
    "        return -1\n",
    "    low=0\n",
    "    high=l\n",
    "    while low<high:\n",
    "        print(f\"low,{low},high {high}, target {target}\")\n",
    "        mid=(low+high)//2\n",
    "        midval=nums[mid]\n",
    "        if midval==target:\n",
    "            return mid\n",
    "        elif target<midval:\n",
    "            high=mid\n",
    "        else:\n",
    "            low=mid+1\n",
    "    return -1"
   ]
  },
  {
   "cell_type": "code",
   "execution_count": 12,
   "id": "57e108ae",
   "metadata": {},
   "outputs": [
    {
     "name": "stdout",
     "output_type": "stream",
     "text": [
      "low,0,high 6, target 10\n",
      "low,4,high 6, target 10\n"
     ]
    },
    {
     "data": {
      "text/plain": [
       "5"
      ]
     },
     "execution_count": 12,
     "metadata": {},
     "output_type": "execute_result"
    }
   ],
   "source": [
    "search([1,2,5,8,9,10],10)"
   ]
  },
  {
   "cell_type": "code",
   "execution_count": 31,
   "id": "bf745a24",
   "metadata": {},
   "outputs": [],
   "source": []
  },
  {
   "cell_type": "code",
   "execution_count": 41,
   "id": "9f9d49b5",
   "metadata": {},
   "outputs": [],
   "source": [
    "def isBadVersion(m):\n",
    "    d={1:False,2:True,3:True,4:True,5:False}\n",
    "    return d[m]\n",
    "    "
   ]
  },
  {
   "cell_type": "code",
   "execution_count": 13,
   "id": "6475b724",
   "metadata": {},
   "outputs": [],
   "source": [
    "def firstBadVersion(n):\n",
    "    low=1\n",
    "    high=n\n",
    "    while low<high:\n",
    "        mid=(low+high)//2\n",
    "        if isBadVersion(mid):\n",
    "            firstBadVersion(mid-1)\n",
    "            firstBadVersion(n-)\n",
    "    return 2**32\n",
    "            \n"
   ]
  },
  {
   "cell_type": "code",
   "execution_count": 42,
   "id": "5c519893",
   "metadata": {},
   "outputs": [],
   "source": [
    "def findtrue(low,high):\n",
    "    print(f'low{low},high{high}')\n",
    "    if low>=high:\n",
    "        return 2**32\n",
    "    else:\n",
    "        mid=(low+high)//2\n",
    "        if isBadVersion(mid):\n",
    "            return mid\n",
    "        else:\n",
    "            return min(findtrue(low,mid-1),findtrue(mid+1,high))"
   ]
  },
  {
   "cell_type": "code",
   "execution_count": 43,
   "id": "e33be679",
   "metadata": {},
   "outputs": [
    {
     "name": "stdout",
     "output_type": "stream",
     "text": [
      "low1,high5\n"
     ]
    },
    {
     "data": {
      "text/plain": [
       "3"
      ]
     },
     "execution_count": 43,
     "metadata": {},
     "output_type": "execute_result"
    }
   ],
   "source": [
    "findtrue(1,5)"
   ]
  },
  {
   "cell_type": "code",
   "execution_count": null,
   "id": "3b798d8d",
   "metadata": {},
   "outputs": [],
   "source": [
    "while (left <= right) {\n",
    "            int mid = left + (right - left) /2 ;\n",
    "            if (isBadVersion(mid)) {\n",
    "                right = mid - 1;\n",
    "            } else {\n",
    "                last_good = mid;\n",
    "                left = mid + 1;\n",
    "            }\n",
    "        }"
   ]
  },
  {
   "cell_type": "code",
   "execution_count": null,
   "id": "3ae1a6c5",
   "metadata": {},
   "outputs": [],
   "source": []
  },
  {
   "cell_type": "code",
   "execution_count": 56,
   "id": "292b11bc",
   "metadata": {},
   "outputs": [],
   "source": [
    "def findtrue(low,high):\n",
    "        last_good=0\n",
    "        while low<=high:\n",
    "            print(f\"low{low},high={high}\")\n",
    "            mid = low + (high - low) //2 ;\n",
    "            if isBadVersion(mid):\n",
    "                high=mid-1\n",
    "            else:\n",
    "                last_good=mid\n",
    "                low=mid+1\n",
    "        return last_good+1"
   ]
  },
  {
   "cell_type": "code",
   "execution_count": 57,
   "id": "b1367ae7",
   "metadata": {
    "scrolled": true
   },
   "outputs": [
    {
     "name": "stdout",
     "output_type": "stream",
     "text": [
      "low1,high=5\n",
      "low1,high=2\n",
      "low2,high=2\n"
     ]
    },
    {
     "data": {
      "text/plain": [
       "2"
      ]
     },
     "execution_count": 57,
     "metadata": {},
     "output_type": "execute_result"
    }
   ],
   "source": [
    "findtrue(1,5)"
   ]
  },
  {
   "cell_type": "code",
   "execution_count": 65,
   "id": "37442b9a",
   "metadata": {},
   "outputs": [],
   "source": [
    "def findTarget(nums,target,low,high):\n",
    "        mid=(low+high)//2\n",
    "        if low==len(nums):\n",
    "            return len(nums)\n",
    "        elif high==0:\n",
    "            return 0\n",
    "        if nums[mid]==target:\n",
    "            return mid\n",
    "        elif target<nums[mid]:\n",
    "            if nums[mid-1]<target:\n",
    "                return mid\n",
    "            else:\n",
    "                findTarget(nums,target,low,mid-1)\n",
    "        elif target>nums[mid]:\n",
    "            if mid<len(nums)-1 and nums[mid+1]>target:\n",
    "                return mid+1\n",
    "            else:\n",
    "                return findTarget(nums,target,mid+1,high)"
   ]
  },
  {
   "cell_type": "code",
   "execution_count": 66,
   "id": "2f5bd27f",
   "metadata": {},
   "outputs": [
    {
     "data": {
      "text/plain": [
       "4"
      ]
     },
     "execution_count": 66,
     "metadata": {},
     "output_type": "execute_result"
    }
   ],
   "source": [
    "findTarget([1,2,3,5],6,0,4)"
   ]
  },
  {
   "cell_type": "code",
   "execution_count": 82,
   "id": "f74c26ec",
   "metadata": {},
   "outputs": [],
   "source": [
    "def findTarget(nums,target,low,high):\n",
    "        print(\"kkkkkk\")\n",
    "        mid=(low+high)//2\n",
    "        while low<high:\n",
    "            print(f\"low{low},high{high}\")\n",
    "            if nums[mid]==target:\n",
    "                return mid\n",
    "            elif target<nums[mid]:\n",
    "                if nums[mid-1]<target:\n",
    "                    return mid\n",
    "                else:\n",
    "                    high=mid\n",
    "            elif target>nums[mid]:\n",
    "                if mid<len(nums)-1 and nums[mid+1]>target:\n",
    "                    return mid+1\n",
    "                else:\n",
    "                    print(f\"im here,low{low},mid{mid}\")\n",
    "                    low=mid+1\n",
    "            mid=(low+high)//2\n",
    "        if low==len(nums):\n",
    "            return len(nums)\n",
    "        elif high==0:\n",
    "            return 0"
   ]
  },
  {
   "cell_type": "code",
   "execution_count": 83,
   "id": "8f1ebb7e",
   "metadata": {},
   "outputs": [
    {
     "name": "stdout",
     "output_type": "stream",
     "text": [
      "kkkkkk\n",
      "low0,high4\n",
      "im here,low0,mid2\n",
      "low3,high4\n",
      "im here,low3,mid3\n"
     ]
    },
    {
     "data": {
      "text/plain": [
       "4"
      ]
     },
     "execution_count": 83,
     "metadata": {},
     "output_type": "execute_result"
    }
   ],
   "source": [
    "findTarget([1,2,3,5],6,0,4)"
   ]
  },
  {
   "cell_type": "code",
   "execution_count": null,
   "id": "b4ff2893",
   "metadata": {},
   "outputs": [],
   "source": []
  }
 ],
 "metadata": {
  "kernelspec": {
   "display_name": "Python 3 (ipykernel)",
   "language": "python",
   "name": "python3"
  },
  "language_info": {
   "codemirror_mode": {
    "name": "ipython",
    "version": 3
   },
   "file_extension": ".py",
   "mimetype": "text/x-python",
   "name": "python",
   "nbconvert_exporter": "python",
   "pygments_lexer": "ipython3",
   "version": "3.10.6"
  }
 },
 "nbformat": 4,
 "nbformat_minor": 5
}
