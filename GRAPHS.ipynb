{
 "cells": [
  {
   "cell_type": "markdown",
   "id": "c30da329",
   "metadata": {},
   "source": [
    "# DEPTH FIRST SEARCH    \n",
    "## 1. Start with a vertex (node) in the graph and mark it as visited.\n",
    "## 2. Check if there are any adjacent vertices to the current vertex that have not been visited yet.\n",
    "## 3. If there is an unvisited adjacent vertex, recursively apply the DFS algorithm to that vertex.\n",
    "## 4. If there are no unvisited adjacent vertices, backtrack to the previous vertex and repeat step 2.\n",
    "## 5. Repeat steps 2 to 4 until all vertices in the graph have been visited."
   ]
  },
  {
   "cell_type": "code",
   "execution_count": 18,
   "id": "06437cce",
   "metadata": {},
   "outputs": [],
   "source": [
    "\n",
    "class DFS:\n",
    "    def __init__(self,graph_dict):\n",
    "        self.graph_dict=graph_dict\n",
    "        self.stack=[]\n",
    "    def traverse(self,sourceNode):\n",
    "        print(\"this......=>\",self.graph_dict)\n",
    "        self.stack.append(sourceNode)\n",
    "        while len(self.stack)>0:\n",
    "            currentNode=self.stack.pop()\n",
    "            print(f\"->{currentNode}\",end=\"\")\n",
    "            currentNeighbours=self.graph_dict[currentNode]\n",
    "            self.stack.extend(currentNeighbours)\n",
    "    def traverseRecurrsive(self,sourceNode):\n",
    "        print(f\"->{sourceNode}\",end=\"\")\n",
    "        for node in self.graph_dict[sourceNode]:\n",
    "            self.traverseRecurrsive(node)\n"
   ]
  },
  {
   "cell_type": "code",
   "execution_count": 19,
   "id": "c3dcd0fe",
   "metadata": {},
   "outputs": [],
   "source": [
    "graph={\n",
    "    'a':['b','c'],\n",
    "    'b':['d'],\n",
    "    'c':['e'],\n",
    "    'd':['f'],\n",
    "    'e':[],\n",
    "    'f':[],\n",
    "}"
   ]
  },
  {
   "cell_type": "code",
   "execution_count": 20,
   "id": "300c13ea",
   "metadata": {},
   "outputs": [],
   "source": [
    "graphdfs=DFS(graph)"
   ]
  },
  {
   "cell_type": "code",
   "execution_count": 21,
   "id": "64c4552d",
   "metadata": {
    "scrolled": true
   },
   "outputs": [
    {
     "name": "stdout",
     "output_type": "stream",
     "text": [
      "this......=> {'a': ['b', 'c'], 'b': ['d'], 'c': ['e'], 'd': ['f'], 'e': [], 'f': []}\n",
      "->a->c->e->b->d->f"
     ]
    }
   ],
   "source": [
    "graphdfs.traverse('a')"
   ]
  },
  {
   "cell_type": "code",
   "execution_count": 22,
   "id": "884414fc",
   "metadata": {},
   "outputs": [
    {
     "name": "stdout",
     "output_type": "stream",
     "text": [
      "->a->b->d->f->c->e"
     ]
    }
   ],
   "source": [
    "graphdfs.traverseRecurrsive('a')"
   ]
  },
  {
   "cell_type": "markdown",
   "id": "bfe091cf",
   "metadata": {},
   "source": [
    "## BREADTH FIRST SEARCH\n",
    "### 1. Start with a vertex (node) in the graph and mark it as visited.\n",
    "### 2. Enqueue the starting vertex.\n",
    "### 3. Dequeue the first vertex in the queue and process it.\n",
    "### 4. Check if there are any adjacent vertices to the current vertex that have not been visited yet.\n",
    "### 5. If there is an unvisited adjacent vertex, mark it as visited and enqueue it.\n",
    "### 6. If there are no unvisited adjacent vertices, repeat step 3.\n",
    "### 7. Repeat steps 3 to 6 until the queue is empty.\n",
    "### 8. All the visited vertices are the nodes reachable from the starting vertex.\n"
   ]
  },
  {
   "cell_type": "code",
   "execution_count": 43,
   "id": "b1ee6567",
   "metadata": {},
   "outputs": [],
   "source": [
    "\n",
    "class BFS:\n",
    "    def __init__(self,graph_dict):\n",
    "        self.graph_dict=graph_dict\n",
    "        self.queue=[]\n",
    "    def traverse(self,sourceNode):\n",
    "        self.queue.insert(0,sourceNode)\n",
    "        while len(self.queue)>0:\n",
    "            currentNode=self.queue.pop()\n",
    "            print('->'+currentNode,end=\"\")\n",
    "            self.queue=self.graph_dict[currentNode]+self.queue       \n",
    "        "
   ]
  },
  {
   "cell_type": "code",
   "execution_count": 44,
   "id": "20773250",
   "metadata": {},
   "outputs": [
    {
     "name": "stdout",
     "output_type": "stream",
     "text": [
      "->a->c->b->e->d->f"
     ]
    }
   ],
   "source": [
    "graphBfs=BFS(graph)\n",
    "graphBfs.traverse('a')\n"
   ]
  },
  {
   "cell_type": "markdown",
   "id": "2151716d",
   "metadata": {},
   "source": [
    "## check path exist in a graph given source nad destination nodes"
   ]
  },
  {
   "cell_type": "code",
   "execution_count": 46,
   "id": "4c7110a3",
   "metadata": {},
   "outputs": [],
   "source": [
    "def hasPathdfs(graph,src,dst):\n",
    "    if src==dst:\n",
    "        return True\n",
    "    else:\n",
    "        for neighbour in graph[src]:\n",
    "            if hasPath(graph,neighbour,dst):\n",
    "                return True\n",
    "    return False"
   ]
  },
  {
   "cell_type": "code",
   "execution_count": 47,
   "id": "31f2f623",
   "metadata": {},
   "outputs": [
    {
     "data": {
      "text/plain": [
       "{'a': ['b', 'c'], 'b': ['d'], 'c': ['e'], 'd': ['f'], 'e': [], 'f': []}"
      ]
     },
     "execution_count": 47,
     "metadata": {},
     "output_type": "execute_result"
    }
   ],
   "source": [
    "graph"
   ]
  },
  {
   "cell_type": "code",
   "execution_count": 48,
   "id": "4580fac9",
   "metadata": {},
   "outputs": [
    {
     "data": {
      "text/plain": [
       "False"
      ]
     },
     "execution_count": 48,
     "metadata": {},
     "output_type": "execute_result"
    }
   ],
   "source": [
    "hasPathdfs(graph,'d','e')"
   ]
  },
  {
   "cell_type": "code",
   "execution_count": 51,
   "id": "f9807a73",
   "metadata": {},
   "outputs": [],
   "source": [
    "def hasPathBfs(graph,src,dst):\n",
    "    queue=[src]\n",
    "    while len(queue)>0:\n",
    "        currentNode=queue.pop(0)\n",
    "        queue=queue+graph[currentNode]\n",
    "        if currentNode==dst:\n",
    "            return True\n",
    "    return False\n",
    "        \n",
    "            "
   ]
  },
  {
   "cell_type": "code",
   "execution_count": 54,
   "id": "77b17e22",
   "metadata": {},
   "outputs": [
    {
     "data": {
      "text/plain": [
       "False"
      ]
     },
     "execution_count": 54,
     "metadata": {},
     "output_type": "execute_result"
    }
   ],
   "source": [
    "hasPathBfs(graph,'b','e')"
   ]
  },
  {
   "cell_type": "markdown",
   "id": "1fdbb2ae",
   "metadata": {},
   "source": [
    "## undirected graphs and check path problem"
   ]
  },
  {
   "cell_type": "code",
   "execution_count": 19,
   "id": "f26f32fb",
   "metadata": {},
   "outputs": [],
   "source": [
    "edges=[\n",
    "    ['a','c'],\n",
    "    ['a','b'],\n",
    "    ['c','d'],\n",
    "    ['b','e'],\n",
    "    ['e','f'],\n",
    "    ['g','i'],\n",
    "    ['i','g']\n",
    "]\n",
    "def convEdgesToAdjList(edges):\n",
    "    adjmap=dict()\n",
    "    for edge in edges:\n",
    "        a,b=edge\n",
    "        if a not in adjmap: adjmap[a]=[]\n",
    "        if b not in adjmap: adjmap[b]=[]\n",
    "        adjmap[a].append(b)\n",
    "        adjmap[b].append(a)\n",
    "    return adjmap\n",
    "graph=convEdgesToAdjList(edges)"
   ]
  },
  {
   "cell_type": "code",
   "execution_count": 22,
   "id": "ec4a1b8c",
   "metadata": {},
   "outputs": [],
   "source": [
    "def dfshaspathundirected(graph,src,dist,visited):\n",
    "    if src==dist:\n",
    "        return True\n",
    "    if src in visited:\n",
    "        return False\n",
    "    visited.add(src)\n",
    "    for node in graph[src]:\n",
    "        if dfshaspathundirected(graph,node,dist,visited):\n",
    "            return True\n",
    "    return False"
   ]
  },
  {
   "cell_type": "code",
   "execution_count": 25,
   "id": "6234a611",
   "metadata": {},
   "outputs": [
    {
     "data": {
      "text/plain": [
       "True"
      ]
     },
     "execution_count": 25,
     "metadata": {},
     "output_type": "execute_result"
    }
   ],
   "source": [
    "dfshaspathundirected(graph,'i','g',set())"
   ]
  },
  {
   "cell_type": "markdown",
   "id": "5163da15",
   "metadata": {},
   "source": [
    "## no of disjoint graphs"
   ]
  },
  {
   "cell_type": "code",
   "execution_count": 42,
   "id": "d5b36a41",
   "metadata": {},
   "outputs": [],
   "source": [
    "graph={\n",
    "    'a':['b','c','d','e'],\n",
    "    'b':['a'],\n",
    "    'c':['a'],\n",
    "    'e':['e'],\n",
    "    'd':['a'],\n",
    "    'f':['g'],\n",
    "    'g':['f'],\n",
    "    'h':[],\n",
    "}"
   ]
  },
  {
   "cell_type": "code",
   "execution_count": 38,
   "id": "16a23e90",
   "metadata": {},
   "outputs": [],
   "source": [
    "def findNoOfDisjGraph(graph):\n",
    "    visited=set()\n",
    "    counter=0\n",
    "    for node in graph:\n",
    "        if explore(graph,node,visited):\n",
    "            counter+=1\n",
    "    return counter\n",
    "def explore(graph,node,visited):\n",
    "    if node in visited:\n",
    "        return False\n",
    "    visited.add(node)\n",
    "    for current in graph[node]:\n",
    "        explore(graph,current,visited)\n",
    "    return True\n",
    "    "
   ]
  },
  {
   "cell_type": "code",
   "execution_count": 39,
   "id": "844b362a",
   "metadata": {},
   "outputs": [
    {
     "data": {
      "text/plain": [
       "4"
      ]
     },
     "execution_count": 39,
     "metadata": {},
     "output_type": "execute_result"
    }
   ],
   "source": [
    "findNoOfDisjGraph(graph)"
   ]
  },
  {
   "cell_type": "code",
   "execution_count": 43,
   "id": "d79a5488",
   "metadata": {},
   "outputs": [],
   "source": [
    "def findNoOfBfsjGraph(graph):\n",
    "    visited=set()\n",
    "    counter=0\n",
    "    for node in graph:\n",
    "        if explore(graph,node,visited):\n",
    "            counter+=1\n",
    "    return counter\n",
    "def exploreBfs(graph,node,visited):\n",
    "    queue=[node]\n",
    "    while len(queue):\n",
    "        queue=queue.pop(0)\n",
    "        if node in visited:\n",
    "            continue\n",
    "        visited.add(node)\n",
    "        quque=queue+graph[queue]\n",
    "    return True\n",
    "    "
   ]
  },
  {
   "cell_type": "code",
   "execution_count": 44,
   "id": "d8ff901a",
   "metadata": {},
   "outputs": [
    {
     "data": {
      "text/plain": [
       "3"
      ]
     },
     "execution_count": 44,
     "metadata": {},
     "output_type": "execute_result"
    }
   ],
   "source": [
    "findNoOfBfsjGraph(graph)"
   ]
  },
  {
   "cell_type": "code",
   "execution_count": null,
   "id": "53543b71",
   "metadata": {},
   "outputs": [],
   "source": []
  },
  {
   "cell_type": "code",
   "execution_count": null,
   "id": "0c5478c8",
   "metadata": {},
   "outputs": [],
   "source": []
  },
  {
   "cell_type": "code",
   "execution_count": null,
   "id": "da95c4e5",
   "metadata": {},
   "outputs": [],
   "source": []
  }
 ],
 "metadata": {
  "kernelspec": {
   "display_name": "Python 3 (ipykernel)",
   "language": "python",
   "name": "python3"
  },
  "language_info": {
   "codemirror_mode": {
    "name": "ipython",
    "version": 3
   },
   "file_extension": ".py",
   "mimetype": "text/x-python",
   "name": "python",
   "nbconvert_exporter": "python",
   "pygments_lexer": "ipython3",
   "version": "3.10.6"
  }
 },
 "nbformat": 4,
 "nbformat_minor": 5
}
