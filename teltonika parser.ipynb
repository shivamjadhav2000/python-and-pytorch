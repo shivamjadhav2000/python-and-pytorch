{
 "cells": [
  {
   "cell_type": "code",
   "execution_count": 1,
   "id": "fd67503c",
   "metadata": {},
   "outputs": [],
   "source": [
    "import datetime as dt\n",
    "\n",
    "def hextoDecimal(data):\n",
    "    return int.from_bytes(data,'big')\n",
    "def parseavldata(data):\n",
    "    Data={}\n",
    "    timestamp=int.from_bytes(data[0:8],'big')\n",
    "    print(timestamp)\n",
    "    Data['timestamp']=dt.datetime.fromtimestamp(timestamp/1000)\n",
    "    gps=data[9:10+15]\n",
    "    lat,lng=hextoDecimal(gps[4:8]),hextoDecimal(gps[0:4])\n",
    "    Data['lat']=lat/10**7\n",
    "    Data['lng']=lng/10**7\n",
    "    Data['altitude']=hextoDecimal(gps[8:10])\n",
    "    Data['angle']=hextoDecimal(gps[10:12])\n",
    "    Data['satelites']=hextoDecimal(gps[12:13])\n",
    "    Data['speed']=hextoDecimal(gps[13:14])\n",
    "    return Data\n",
    "    \n",
    "def mainparser(datapacket):\n",
    "    packet_length=hextoDecimal(datapacket[4:8])\n",
    "    crc16=datapacket[-4:]\n",
    "    datapacket=datapacket[8:-4]\n",
    "    if packet_length==len(datapacket):\n",
    "        print(f'data packet size is {packet_length}')\n",
    "    else:\n",
    "        print(f'datapacket size is invalid!.')\n",
    "    numberofdata=datapacket[1]\n",
    "    avldata=datapacket[2:-5]\n",
    "    Data=parseavldata(avldata)\n",
    "    Data['numberofdata']=numberofdata\n",
    "    if Data:\n",
    "        return Data"
   ]
  },
  {
   "cell_type": "code",
   "execution_count": 17,
   "id": "741f52dd",
   "metadata": {},
   "outputs": [
    {
     "ename": "SyntaxError",
     "evalue": "unexpected character after line continuation character (3160144474.py, line 1)",
     "output_type": "error",
     "traceback": [
      "\u001b[0;36m  Cell \u001b[0;32mIn [17], line 1\u001b[0;36m\u001b[0m\n\u001b[0;31m    message=b'\\x00\\x00\\x00\\x00\\x00\\x00\\x02K\\x8E\\x04\\x00\\x00\\x01\\x85\\x85\\xAE\\xF1\\xA8\\x00.\\xDE\\xE2\\x84\\n\\x92t&\\x02M\\x00\\xEB\\x08\\x00\\x00\\x00\\x00\\x00\\x11\\x00\\x06\\x00\\xEF\\x00\\x00\\xF0\\x00\\x00P\\x00\\x00\\x15\\x05\\x00E\\x01\\x00\\x1D\\x00\\x00\\x08\\x00B-K\\x00\\x18\\x00\\x00\\x00\\xCEP\\x17\\x00C\\x0F\\xE4\\x00D\\x00\\x00\\x00\\x11\\x00'\\x00\\x12\\xFF\\xE1\\x00\\x13\\xFC(\\x00\\x00\\x00\\x02\\x00\\x0B\\x00\\x00\\x00\\x005\\x97-\\xBA\\x00\\x0E\\x00\\x00\\x00\\x00\\xC4\\xEE\\x1F_\\x00\\x01\\x01\\x83\\x00\"+177370.1500+0786358.9167+000.589/\\x00\\x00\\x01\\x85\\x85\\xAE\\xDE \\x00.\\xDE\\xE2\\x84\\n\\x92t&\\x02M\\x00\\xEB\\t\\x00\\x00\\x00\\x00\\x00\\x11\\x00\\x06\\x00\\xEF\\x00\\x00\\xF0\\x00\\x00P\\x00\\x00\\x15\\x05\\x00E\\x01\\x00\\x1D\\x00\\x00\\x08\\x00B-b\\x00\\x18\\x00\\x00\\x00\\xCEP\\x17\\x00C\\x0F\\xE5\\x00D\\x00\\x00\\x00\\x11\\x002\\x00\\x12\\xFF\\xE5\\x00\\x13\\xFC(\\x00\\x00\\x00\\x02\\x00\\x0B\\x00\\x00\\x00\\x005\\x97-\\xBA\\x00\\x0E\\x00\\x00\\x00\\x00\\xC4\\xEE\\x1F_\\x00\\x01\\x01\\x83\\x00\"+177370.1500+0786358.9167+000.589/\\x00\\x00\\x01\\x85\\x85\\xAE\\xCA\\x98\\x00.\\xDE\\xE2\\x84\\n\\x92t&\\x02M\\x00\\xEB\\x08\\x00\\x00\\x00\\x00\\x00\\x11\\x00\\x06\\x00\\xEF\\x00\\x00\\xF0\\x00\\x00P\\x00\\x00\\x15\\x05\\x00E\\x01\\x00\\x1D\\x00\\x00\\x08\\x00B-b\\x00\\x18\\x00\\x00\\x00\\xCEP\\x17\\x00C\\x0F\\xE5\\x00D\\x00\\x00\\x00\\x11\\x002\\x00\\x12\\xFF\\xE5\\x00\\x13\\xFC(\\x00\\x00\\x00\\x02\\x00\\x0B\\x00\\x00\\x00\\x005\\x97-\\xBA\\x00\\x0E\\x00\\x00\\x00\\x00\\xC4\\xEE\\x1F_\\x00\\x01\\x01\\x83\\x00\"+177370.1500+0786358.9167+000.589/\\x00\\x00\\x01\\x85\\x85\\xAE\\xB7\\x10\\x00.\\xDE\\xE2\\x84\\n\\x92t&\\x02M\\x00\\xEB\\x08\\x00\\x00\\x00\\x00\\x00\\x11\\x00\\x06\\x00\\xEF\\x00\\x00\\xF0\\x00\\x00P\\x00\\x00\\x15\\x05\\x00E\\x01\\x00\\x1D\\x00\\x00\\x08\\x00B-\\\\x00\\x18\\x00\\x00\\x00\\xCEP\\x17\\x00C\\x0F\\xE5\\x00D\\x00\\x00\\x00\\x11\\x00.\\x00\\x12\\xFF\\xE5\\x00\\x13\\xFC0\\x00\\x00\\x00\\x02\\x00\\x0B\\x00\\x00\\x00\\x005\\x97-\\xBA\\x00\\x0E\\x00\\x00\\x00\\x00\\xC4\\xEE\\x1F_\\x00\\x01\\x01\\x83\\x00\"+177370.1500+0786358.9167+000.589/\\x04\\x00\\x00x!'\u001b[0m\n\u001b[0m                                                                                                                                                                                                                                                                                                                   ^\u001b[0m\n\u001b[0;31mSyntaxError\u001b[0m\u001b[0;31m:\u001b[0m unexpected character after line continuation character\n"
     ]
    }
   ],
   "source": [
    "message=b'\\x00\\x00\\x00\\x00\\x00\\x00\\x02K\\x8E\\x04\\x00\\x00\\x01\\x85\\x85\\xAE\\xF1\\xA8\\x00.\\xDE\\xE2\\x84\\n\\x92t&\\x02M\\x00\\xEB\\x08\\x00\\x00\\x00\\x00\\x00\\x11\\x00\\x06\\x00\\xEF\\x00\\x00\\xF0\\x00\\x00P\\x00\\x00\\x15\\x05\\x00E\\x01\\x00\\x1D\\x00\\x00\\x08\\x00B-K\\x00\\x18\\x00\\x00\\x00\\xCEP\\x17\\x00C\\x0F\\xE4\\x00D\\x00\\x00\\x00\\x11\\x00'\\x00\\x12\\xFF\\xE1\\x00\\x13\\xFC(\\x00\\x00\\x00\\x02\\x00\\x0B\\x00\\x00\\x00\\x005\\x97-\\xBA\\x00\\x0E\\x00\\x00\\x00\\x00\\xC4\\xEE\\x1F_\\x00\\x01\\x01\\x83\\x00\"+177370.1500+0786358.9167+000.589/\\x00\\x00\\x01\\x85\\x85\\xAE\\xDE \\x00.\\xDE\\xE2\\x84\\n\\x92t&\\x02M\\x00\\xEB\\t\\x00\\x00\\x00\\x00\\x00\\x11\\x00\\x06\\x00\\xEF\\x00\\x00\\xF0\\x00\\x00P\\x00\\x00\\x15\\x05\\x00E\\x01\\x00\\x1D\\x00\\x00\\x08\\x00B-b\\x00\\x18\\x00\\x00\\x00\\xCEP\\x17\\x00C\\x0F\\xE5\\x00D\\x00\\x00\\x00\\x11\\x002\\x00\\x12\\xFF\\xE5\\x00\\x13\\xFC(\\x00\\x00\\x00\\x02\\x00\\x0B\\x00\\x00\\x00\\x005\\x97-\\xBA\\x00\\x0E\\x00\\x00\\x00\\x00\\xC4\\xEE\\x1F_\\x00\\x01\\x01\\x83\\x00\"+177370.1500+0786358.9167+000.589/\\x00\\x00\\x01\\x85\\x85\\xAE\\xCA\\x98\\x00.\\xDE\\xE2\\x84\\n\\x92t&\\x02M\\x00\\xEB\\x08\\x00\\x00\\x00\\x00\\x00\\x11\\x00\\x06\\x00\\xEF\\x00\\x00\\xF0\\x00\\x00P\\x00\\x00\\x15\\x05\\x00E\\x01\\x00\\x1D\\x00\\x00\\x08\\x00B-b\\x00\\x18\\x00\\x00\\x00\\xCEP\\x17\\x00C\\x0F\\xE5\\x00D\\x00\\x00\\x00\\x11\\x002\\x00\\x12\\xFF\\xE5\\x00\\x13\\xFC(\\x00\\x00\\x00\\x02\\x00\\x0B\\x00\\x00\\x00\\x005\\x97-\\xBA\\x00\\x0E\\x00\\x00\\x00\\x00\\xC4\\xEE\\x1F_\\x00\\x01\\x01\\x83\\x00\"+177370.1500+0786358.9167+000.589/\\x00\\x00\\x01\\x85\\x85\\xAE\\xB7\\x10\\x00.\\xDE\\xE2\\x84\\n\\x92t&\\x02M\\x00\\xEB\\x08\\x00\\x00\\x00\\x00\\x00\\x11\\x00\\x06\\x00\\xEF\\x00\\x00\\xF0\\x00\\x00P\\x00\\x00\\x15\\x05\\x00E\\x01\\x00\\x1D\\x00\\x00\\x08\\x00B-\\\\x00\\x18\\x00\\x00\\x00\\xCEP\\x17\\x00C\\x0F\\xE5\\x00D\\x00\\x00\\x00\\x11\\x00.\\x00\\x12\\xFF\\xE5\\x00\\x13\\xFC0\\x00\\x00\\x00\\x02\\x00\\x0B\\x00\\x00\\x00\\x005\\x97-\\xBA\\x00\\x0E\\x00\\x00\\x00\\x00\\xC4\\xEE\\x1F_\\x00\\x01\\x01\\x83\\x00\"+177370.1500+0786358.9167+000.589/\\x04\\x00\\x00x!'"
   ]
  },
  {
   "cell_type": "code",
   "execution_count": 14,
   "id": "9a4091b6",
   "metadata": {},
   "outputs": [
    {
     "data": {
      "text/plain": [
       "13"
      ]
     },
     "execution_count": 14,
     "metadata": {},
     "output_type": "execute_result"
    }
   ],
   "source": [
    "len('0000000000000')"
   ]
  },
  {
   "cell_type": "code",
   "execution_count": 12,
   "id": "c4d891ce",
   "metadata": {
    "scrolled": true
   },
   "outputs": [
    {
     "data": {
      "text/plain": [
       "b'000000000000024B8E040000018585AEA388002EDEE2840A927426024D00EB08000000000011000600EF0000F000005000001505004501001D00000800422D630018000000CE501700430FE600440000001100320012FFE50013FC3000000002000B0000000035972DBA000E00000000C4EE1F5F0001018300222B3137373337302E313530302B303738363335382E393136372B3030302E3538392F0000018585AE9000002EDEE2840A927426024D00EB08000000000011000600EF0000F000005000001505004501001D00000800422D5F0018000000CE501700430FE600440000001100320012FFE50013FC3400000002000B0000000035972DBA000E00000000C4EE1F5F0001018300222B3137373337302E313530302B303738363335382E393136372B3030302E3538392F0000018585AE7C78002EDEE2840A927426024D00EB09000000000011000600EF0000F000005000001505004501001D00000800422D5F0018000000CE501700430FE600440000001100320012FFE50013FC3400000002000B0000000035972DBA000E00000000C4EE1F5F0001018300222B3137373337302E313530302B303738363335382E393136372B3030302E3538392F0000018585AE68F0002EDEE2840A927426024D00EB09000000000011000600EF0000F000005000001505004501001D00000800422D5E0018000000CE501700430FE600440000001100360012FFE50013FC3000000002000B0000000035972DBA000E00000000C4EE1F5F0001018300222B3137373337302E313530302B303738363335382E393136372B3030302E3538392F040000CAD7'"
      ]
     },
     "execution_count": 12,
     "metadata": {},
     "output_type": "execute_result"
    }
   ],
   "source": [
    "message"
   ]
  },
  {
   "cell_type": "code",
   "execution_count": 13,
   "id": "1623be63",
   "metadata": {},
   "outputs": [
    {
     "name": "stdout",
     "output_type": "stream",
     "text": [
      "datapacket size is invalid!.\n",
      "3472328304885905477\n"
     ]
    },
    {
     "ename": "ValueError",
     "evalue": "year 110035673 is out of range",
     "output_type": "error",
     "traceback": [
      "\u001b[0;31m---------------------------------------------------------------------------\u001b[0m",
      "\u001b[0;31mValueError\u001b[0m                                Traceback (most recent call last)",
      "Cell \u001b[0;32mIn [13], line 1\u001b[0m\n\u001b[0;32m----> 1\u001b[0m mainparser(message)\n",
      "Cell \u001b[0;32mIn [1], line 30\u001b[0m, in \u001b[0;36mmainparser\u001b[0;34m(datapacket)\u001b[0m\n\u001b[1;32m     28\u001b[0m numberofdata\u001b[38;5;241m=\u001b[39mdatapacket[\u001b[38;5;241m1\u001b[39m]\n\u001b[1;32m     29\u001b[0m avldata\u001b[38;5;241m=\u001b[39mdatapacket[\u001b[38;5;241m2\u001b[39m:\u001b[38;5;241m-\u001b[39m\u001b[38;5;241m5\u001b[39m]\n\u001b[0;32m---> 30\u001b[0m Data\u001b[38;5;241m=\u001b[39m\u001b[43mparseavldata\u001b[49m\u001b[43m(\u001b[49m\u001b[43mavldata\u001b[49m\u001b[43m)\u001b[49m\n\u001b[1;32m     31\u001b[0m Data[\u001b[38;5;124m'\u001b[39m\u001b[38;5;124mnumberofdata\u001b[39m\u001b[38;5;124m'\u001b[39m]\u001b[38;5;241m=\u001b[39mnumberofdata\n\u001b[1;32m     32\u001b[0m \u001b[38;5;28;01mif\u001b[39;00m Data:\n",
      "Cell \u001b[0;32mIn [1], line 9\u001b[0m, in \u001b[0;36mparseavldata\u001b[0;34m(data)\u001b[0m\n\u001b[1;32m      7\u001b[0m timestamp\u001b[38;5;241m=\u001b[39m\u001b[38;5;28mint\u001b[39m\u001b[38;5;241m.\u001b[39mfrom_bytes(data[\u001b[38;5;241m0\u001b[39m:\u001b[38;5;241m8\u001b[39m],\u001b[38;5;124m'\u001b[39m\u001b[38;5;124mbig\u001b[39m\u001b[38;5;124m'\u001b[39m)\n\u001b[1;32m      8\u001b[0m \u001b[38;5;28mprint\u001b[39m(timestamp)\n\u001b[0;32m----> 9\u001b[0m Data[\u001b[38;5;124m'\u001b[39m\u001b[38;5;124mtimestamp\u001b[39m\u001b[38;5;124m'\u001b[39m]\u001b[38;5;241m=\u001b[39m\u001b[43mdt\u001b[49m\u001b[38;5;241;43m.\u001b[39;49m\u001b[43mdatetime\u001b[49m\u001b[38;5;241;43m.\u001b[39;49m\u001b[43mfromtimestamp\u001b[49m\u001b[43m(\u001b[49m\u001b[43mtimestamp\u001b[49m\u001b[38;5;241;43m/\u001b[39;49m\u001b[38;5;241;43m1000\u001b[39;49m\u001b[43m)\u001b[49m\n\u001b[1;32m     10\u001b[0m gps\u001b[38;5;241m=\u001b[39mdata[\u001b[38;5;241m9\u001b[39m:\u001b[38;5;241m10\u001b[39m\u001b[38;5;241m+\u001b[39m\u001b[38;5;241m15\u001b[39m]\n\u001b[1;32m     11\u001b[0m lat,lng\u001b[38;5;241m=\u001b[39mhextoDecimal(gps[\u001b[38;5;241m4\u001b[39m:\u001b[38;5;241m8\u001b[39m]),hextoDecimal(gps[\u001b[38;5;241m0\u001b[39m:\u001b[38;5;241m4\u001b[39m])\n",
      "\u001b[0;31mValueError\u001b[0m: year 110035673 is out of range"
     ]
    }
   ],
   "source": [
    "mainparser(message)"
   ]
  },
  {
   "cell_type": "code",
   "execution_count": null,
   "id": "273378ba",
   "metadata": {},
   "outputs": [],
   "source": []
  }
 ],
 "metadata": {
  "kernelspec": {
   "display_name": "Python 3 (ipykernel)",
   "language": "python",
   "name": "python3"
  },
  "language_info": {
   "codemirror_mode": {
    "name": "ipython",
    "version": 3
   },
   "file_extension": ".py",
   "mimetype": "text/x-python",
   "name": "python",
   "nbconvert_exporter": "python",
   "pygments_lexer": "ipython3",
   "version": "3.10.6"
  }
 },
 "nbformat": 4,
 "nbformat_minor": 5
}
