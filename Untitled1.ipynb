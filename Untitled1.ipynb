{
 "cells": [
  {
   "cell_type": "code",
   "execution_count": 22,
   "id": "4f4b8c62",
   "metadata": {},
   "outputs": [],
   "source": [
    "def SentenceValue(s):   \n",
    "    t=0\n",
    "    for i in s:\n",
    "        c=sum([ord(j)-96 for j in i.lower()  if j.isalpha() ])\n",
    "        t+=c*2 if i.isupper() else c\n",
    "    return t"
   ]
  },
  {
   "cell_type": "code",
   "execution_count": 23,
   "id": "ed8958f4",
   "metadata": {},
   "outputs": [
    {
     "data": {
      "text/plain": [
       "24"
      ]
     },
     "execution_count": 23,
     "metadata": {},
     "output_type": "execute_result"
    }
   ],
   "source": [
    "SentenceValue([\"abc\",\"ABC\",\"Abc\"])"
   ]
  },
  {
   "cell_type": "code",
   "execution_count": 1,
   "id": "73eca08a",
   "metadata": {},
   "outputs": [
    {
     "data": {
      "text/plain": [
       "2"
      ]
     },
     "execution_count": 1,
     "metadata": {},
     "output_type": "execute_result"
    }
   ],
   "source": [
    "b='111011101'\n",
    "l=[]\n",
    "i=0\n",
    "t=0\n"
   ]
  },
  {
   "cell_type": "code",
   "execution_count": 2,
   "id": "795cdb2d",
   "metadata": {},
   "outputs": [],
   "source": [
    "import re"
   ]
  },
  {
   "cell_type": "code",
   "execution_count": 4,
   "id": "92ef55e7",
   "metadata": {},
   "outputs": [
    {
     "data": {
      "text/plain": [
       "'1111111'"
      ]
     },
     "execution_count": 4,
     "metadata": {},
     "output_type": "execute_result"
    }
   ],
   "source": [
    "re.sub('101','11',b)"
   ]
  },
  {
   "cell_type": "code",
   "execution_count": 45,
   "id": "f92657a0",
   "metadata": {},
   "outputs": [],
   "source": [
    "b='10101011'"
   ]
  },
  {
   "cell_type": "code",
   "execution_count": 46,
   "id": "c7176678",
   "metadata": {},
   "outputs": [
    {
     "data": {
      "text/plain": [
       "'110111'"
      ]
     },
     "execution_count": 46,
     "metadata": {},
     "output_type": "execute_result"
    }
   ],
   "source": [
    "b=re.sub('101','11',b)\n",
    "b"
   ]
  },
  {
   "cell_type": "code",
   "execution_count": 49,
   "id": "b9d5c937",
   "metadata": {},
   "outputs": [
    {
     "data": {
      "text/plain": [
       "['11', '111']"
      ]
     },
     "execution_count": 49,
     "metadata": {},
     "output_type": "execute_result"
    }
   ],
   "source": [
    "re.findall('1+',b)"
   ]
  },
  {
   "cell_type": "code",
   "execution_count": 50,
   "id": "78be226a",
   "metadata": {},
   "outputs": [
    {
     "data": {
      "text/plain": [
       "'111'"
      ]
     },
     "execution_count": 50,
     "metadata": {},
     "output_type": "execute_result"
    }
   ],
   "source": [
    "max(['11', '111'])"
   ]
  },
  {
   "cell_type": "code",
   "execution_count": 54,
   "id": "0eb21576",
   "metadata": {},
   "outputs": [],
   "source": [
    "import re\n",
    "def whiteShirt(b):\n",
    "    swap=re.sub('101','11',b)\n",
    "    print(swap)\n",
    "    return len(max(re.findall('1+',swap)))"
   ]
  },
  {
   "cell_type": "code",
   "execution_count": 59,
   "id": "cdb512ae",
   "metadata": {},
   "outputs": [
    {
     "name": "stdout",
     "output_type": "stream",
     "text": [
      "111111\n"
     ]
    },
    {
     "data": {
      "text/plain": [
       "6"
      ]
     },
     "execution_count": 59,
     "metadata": {},
     "output_type": "execute_result"
    }
   ],
   "source": [
    "whiteShirt('11101101')"
   ]
  },
  {
   "cell_type": "code",
   "execution_count": 3,
   "id": "3be9d839",
   "metadata": {},
   "outputs": [
    {
     "data": {
      "text/plain": [
       "0.28346456692913385"
      ]
     },
     "execution_count": 3,
     "metadata": {},
     "output_type": "execute_result"
    }
   ],
   "source": [
    "import statistics\n",
    "l=[]\n",
    "statistics.harmonic_mean(l)"
   ]
  },
  {
   "cell_type": "code",
   "execution_count": 4,
   "id": "09119123",
   "metadata": {},
   "outputs": [
    {
     "name": "stdout",
     "output_type": "stream",
     "text": [
      "dataparser.ipynb    \u001b[0m\u001b[01;34m__pycache__\u001b[0m/            sever.py         video.py\r\n",
      "fueltheft.py        redishelper.py          testimg.py\r\n",
      "init.py             redisstreampush.py      Untitled1.ipynb\r\n",
      "kkkkkkkkkkkkkkkkkk  RedisVidoeProcessor.py  Untitled.ipynb\r\n"
     ]
    }
   ],
   "source": [
    "ls"
   ]
  },
  {
   "cell_type": "code",
   "execution_count": null,
   "id": "6d321d8f",
   "metadata": {},
   "outputs": [],
   "source": []
  }
 ],
 "metadata": {
  "kernelspec": {
   "display_name": "Python 3 (ipykernel)",
   "language": "python",
   "name": "python3"
  },
  "language_info": {
   "codemirror_mode": {
    "name": "ipython",
    "version": 3
   },
   "file_extension": ".py",
   "mimetype": "text/x-python",
   "name": "python",
   "nbconvert_exporter": "python",
   "pygments_lexer": "ipython3",
   "version": "3.8.10"
  }
 },
 "nbformat": 4,
 "nbformat_minor": 5
}
