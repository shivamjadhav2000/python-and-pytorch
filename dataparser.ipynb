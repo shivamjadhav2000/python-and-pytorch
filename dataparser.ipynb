{
 "cells": [
  {
   "cell_type": "code",
   "execution_count": null,
   "id": "ff51f392",
   "metadata": {},
   "outputs": [],
   "source": [
    "c=0\n",
    "import math\n",
    "from functools import reduce\n",
    "for i in range(2,2+1):\n",
    "    if i<=6:\n",
    "        if i<=2:\n",
    "            l=[1]*(6-i)+[2]\n",
    "            c+=factorial(len(l))//reduce(lambda x,y:factorial(l.count(x))*factorial(l.count(y)),set(l))\n",
    "            t=2\n",
    "            while i*t<=6:\n",
    "                l=[i]*t+[1]*(6-i*t)\n",
    "                nr=factorial(len(l))\n",
    "                if len(set(l))==1:\n",
    "                    dr=factorial(len(l))\n",
    "                else:\n",
    "                    dr=reduce(lambda x,y:factorial(l.count(x))*factorial(l.count(y)),set(l))\n",
    "                k=nr//dr\n",
    "                t+=1"
   ]
  },
  {
   "cell_type": "code",
   "execution_count": 29,
   "id": "87da2f1d",
   "metadata": {},
   "outputs": [],
   "source": [
    "from math import factorial\n",
    "from functools import reduce\n",
    "class kk():\n",
    "    def bk(cls,input1,input2):\n",
    "        p=1\n",
    "        for i in range(2,input2+1):\n",
    "            if i<input1:\n",
    "                if i<=input2:\n",
    "                    l=[1]*(input1-i)+[i]\n",
    "                    p+=factorial(len(l))//reduce(lambda x,y:factorial(l.count(x))*factorial(l.count(y)),set(l))\n",
    "                    t=2\n",
    "                    while i*t<=input1:\n",
    "                        l=[i]*t+[1]*(input1-i*t)\n",
    "                        nr=factorial(len(l))\n",
    "                        if len(set(l))==1:\n",
    "                            dr=factorial(len(l))\n",
    "                        else:\n",
    "                            dr=reduce(lambda x,y:factorial(l.count(x))*factorial(l.count(y)),set(l))\n",
    "                        k=nr//dr\n",
    "                        p+=k\n",
    "                        t+=1\n",
    "        return p\n",
    "\n",
    "                "
   ]
  },
  {
   "cell_type": "code",
   "execution_count": 30,
   "id": "7a28f10a",
   "metadata": {},
   "outputs": [
    {
     "data": {
      "text/plain": [
       "13"
      ]
     },
     "execution_count": 30,
     "metadata": {},
     "output_type": "execute_result"
    }
   ],
   "source": [
    "ob=kk()\n",
    "ob.bk(6,2)"
   ]
  },
  {
   "cell_type": "code",
   "execution_count": 19,
   "id": "650a2e1f",
   "metadata": {},
   "outputs": [
    {
     "name": "stdout",
     "output_type": "stream",
     "text": [
      "5\n",
      "[2, 1, 1, 1, 1] 120 24\n",
      "5\n",
      "[2, 2, 1, 1] 24 4\n",
      "6\n",
      "[2, 2, 2] 6 6\n",
      "1\n"
     ]
    }
   ],
   "source": [
    "l=[1,1,1,1,2]\n",
    "from functools import reduce\n",
    "from math import factorial\n",
    "k=factorial(len(l))//reduce(lambda x,y:factorial(l.count(x))*factorial(l.count(y)),set(l))\n",
    "print(k)\n",
    "i=2\n",
    "t=1\n",
    "while i*t<=6:\n",
    "    l=[i]*t+[1]*(6-i*t)\n",
    "    \n",
    "    nr=factorial(len(l))\n",
    "    if len(set(l))==1:\n",
    "        dr=factorial(len(l))\n",
    "    else:\n",
    "        dr=reduce(lambda x,y:factorial(l.count(x))*factorial(l.count(y)),set(l))\n",
    "    print(l,nr,dr)\n",
    "    k=nr//dr\n",
    "    print(k)\n",
    "    t+=1\n"
   ]
  },
  {
   "cell_type": "code",
   "execution_count": 1,
   "id": "efbf38da",
   "metadata": {},
   "outputs": [],
   "source": [
    "import redis"
   ]
  },
  {
   "cell_type": "code",
   "execution_count": 2,
   "id": "a17fa2ac",
   "metadata": {},
   "outputs": [
    {
     "data": {
      "text/plain": [
       "'4.3.3'"
      ]
     },
     "execution_count": 2,
     "metadata": {},
     "output_type": "execute_result"
    }
   ],
   "source": [
    "redis.__version__"
   ]
  },
  {
   "cell_type": "code",
   "execution_count": 1,
   "id": "0e6ee2b4",
   "metadata": {},
   "outputs": [],
   "source": []
  },
  {
   "cell_type": "code",
   "execution_count": 4,
   "id": "85207d8e",
   "metadata": {},
   "outputs": [],
   "source": [
    "import struct \n",
    "\n",
    "def byteToInt(data):\n",
    "    if data is not None:\n",
    "        data = int.from_bytes(data, \"big\")\n",
    "    return data\n",
    "def getBinaryVal(data, position):\n",
    "    binaryString = bin(data).replace(\"0b\", \"\")\n",
    "    # Adjsuting the length of BinaryString to 8 bits\n",
    "    binaryString = \"0\" * (8 - len(binaryString)) + binaryString\n",
    "    return int(binaryString[position])\n",
    "\n",
    "\n",
    "def hex2float(data):\n",
    "    return struct.unpack('f', data)[0]"
   ]
  },
  {
   "cell_type": "code",
   "execution_count": 97,
   "id": "65ec1e94",
   "metadata": {},
   "outputs": [
    {
     "data": {
      "text/plain": [
       "399.7120056152344"
      ]
     },
     "execution_count": 97,
     "metadata": {},
     "output_type": "execute_result"
    }
   ],
   "source": [
    " struct.unpack('f', bytearray(b'#\\xdb\\xc7C'))[0]"
   ]
  },
  {
   "cell_type": "code",
   "execution_count": 2,
   "id": "2044d6a9",
   "metadata": {},
   "outputs": [],
   "source": [
    "from datetime import datetime\n",
    "\n",
    "def parseme(data):\n",
    "    parsedObject = {\n",
    "        u'imei': data[17:32].decode(),\n",
    "        u'counter': byteToInt(data[3:4]),\n",
    "        u'protocolVersion': data[13:17].decode(),\n",
    "    }\n",
    "    parsedObject[u'dieselVol'] = byteToInt(data[52:56])\n",
    "    parsedObject[u'DTE'] = byteToInt(data[64:66])\n",
    "\n",
    "    DD = str(byteToInt(data[47:48]))\n",
    "    MM = str(byteToInt(data[46:47]))\n",
    "    YYYY = str(byteToInt(\n",
    "        data[44:45]) * 100 + byteToInt(data[45:46]))\n",
    "    hh = str(byteToInt(data[40:42]))\n",
    "    mm = str(byteToInt(data[42:43]))\n",
    "    ss = str(byteToInt(data[43:44]))\n",
    "    dateString = DD + \" \" + MM + \" \" + YYYY + \" \" + hh + \" \" + mm + \" \" + ss\n",
    "    date = datetime.strptime(dateString, \"%d %m %Y %H %M %S\")\n",
    "    # --------------------NOTE For statusBitmap2--------------------------\n",
    "\n",
    "    statusBitmap2 = byteToInt(data[69:70])\n",
    "    parsedObject[u'isGpsValid'] = getBinaryVal(statusBitmap2, 0)\n",
    "    # parsedObject[u'isNetwork'] = getBinaryVal(statusBitmap2, 1)\n",
    "    # parsedObject[u'isPacketLive'] = getBinaryVal(statusBitmap2, 2)\n",
    "    parsedObject[u'isIgnitionOn'] = getBinaryVal(statusBitmap2, 3)\n",
    "    parsedObject[u'isRelayCommExec'] = getBinaryVal(statusBitmap2, 6)\n",
    "\n",
    "    # --------------------NOTE For statusBitmap3--------------------------\n",
    "\n",
    "    isInlet = getBinaryVal(byteToInt(data[70:71]), 6)\n",
    "    print(\"Inlet = \",isInlet)\n",
    "    isTheft = getBinaryVal(byteToInt(data[70:71]), 7)\n",
    "    print(\"Theft = \",isTheft)\n",
    "    if isTheft == 1 and isInlet == 0:\n",
    "        parsedObject[u'fuelProfile'] = {\n",
    "            u'category': \"Theft\",\n",
    "            u'quantity': byteToInt(data[56:60]),\n",
    "            u'time': datetime.timestamp(date),\n",
    "        }\n",
    "    elif isTheft == 0 and isInlet == 1:\n",
    "        parsedObject[u'fuelProfile'] = {\n",
    "            u'category': \"Inlet\",\n",
    "            u'quantity': byteToInt(data[56:60]),\n",
    "            u'time': datetime.timestamp(date),\n",
    "        }\n",
    "    else:\n",
    "        parsedObject[u'fuelProfile'] = None\n",
    "    statusBitmap4 = byteToInt(data[71:72])\n",
    "    parsedObject[u'FromDashmaster'] = {\n",
    "        u'isAccGyroValid': getBinaryVal(statusBitmap4, 0),\n",
    "        u'isMEMSPresent': getBinaryVal(statusBitmap4, 1)\n",
    "    }\n",
    "    statusBitmap5 = byteToInt(data[72:73])\n",
    "    parsedObject[u'FromDEUnit'] = {\n",
    "        u'isAccGyroValid': getBinaryVal(statusBitmap5, 0),\n",
    "        u'isMEMSPresent': getBinaryVal(statusBitmap5, 1)\n",
    "    }\n",
    "    # -------------------NOTE statusBitmap6-----------------------------------\n",
    "    # NOTE For Cement Mixer Status\n",
    "    statusBitmap6 = byteToInt(data[73:74])\n",
    "    if getBinaryVal(statusBitmap5, 0) == '1':\n",
    "        parsedObject[u'rotateDirection'] = \"Clkwise\"\n",
    "    else:\n",
    "        parsedObject[u'rotateDirection'] = \"Anticlkw\"\n",
    "    parsedObject[u'TimeStampPair'] = getBinaryVal(\n",
    "        byteToInt(data[73:74]), 1)\n",
    "\n",
    "    if parsedObject[u'isGpsValid'] == 1:\n",
    "        rawLat = data[75:87].decode()\n",
    "        rawLng = data[87:99].decode()\n",
    "        speed = data[99:103]\n",
    "        parsedObject[u'speed'] = hex2float(speed)\n",
    "        parsedObject[u'rawLat'] = rawLat\n",
    "        parsedObject[u'rawLng'] = rawLng\n",
    "\n",
    "    parsedObject[u'timestamp'] = date\n",
    "    parsedObject[u'temperature'] = byteToInt(data[66:68])\n",
    "\n",
    "    parsedObject[u'acc_x1'] = byteToInt(data[103:105])\n",
    "    parsedObject[u'acc_y1'] = byteToInt(data[105:107])\n",
    "    parsedObject[u'acc_z1'] = byteToInt(data[107:109])\n",
    "    parsedObject[u'gyro_x1'] = byteToInt(data[109:111])\n",
    "    parsedObject[u'gyro_y1'] = byteToInt(data[111:113])\n",
    "    parsedObject[u'gyro_z1'] = byteToInt(data[113:115])\n",
    "    parsedObject[u'acc_x2'] = byteToInt(data[115:117])\n",
    "    parsedObject[u'acc_y2'] = byteToInt(data[117:119])\n",
    "    parsedObject[u'acc_z2'] = byteToInt(data[119:121])\n",
    "    parsedObject[u'gyro_x2'] = byteToInt(data[121:123])\n",
    "    parsedObject[u'gyro_y2'] = byteToInt(data[123:125])\n",
    "    parsedObject[u'gyro_z2'] = byteToInt(data[125:127])\n",
    "    parsedObject[u'acc_x3'] = byteToInt(data[127:129])\n",
    "    parsedObject[u'acc_y3'] = byteToInt(data[129:131])\n",
    "    parsedObject[u'acc_z3'] = byteToInt(data[131:133])\n",
    "    parsedObject[u'gyro_x3'] = byteToInt(data[133:135])\n",
    "    parsedObject[u'gyro_y3'] = byteToInt(data[135:137])\n",
    "    parsedObject[u'gyro_z3'] = byteToInt(data[137:139])\n",
    "\n",
    "    parsedObject[u'cementMixture'] = {\n",
    "        u'clkw': byteToInt(data[139:141]),\n",
    "        u'anticlkw': byteToInt(data[141:143]),\n",
    "        u'startrotate': byteToInt(data[143:147]),\n",
    "        u'endrotate': byteToInt(data[147:151]),\n",
    "        u'timetorotate': byteToInt(data[151:155])\n",
    "    }\n",
    "\n",
    "    parsedObject[u'batteryVolt'] = byteToInt(data[155:156])\n",
    "    parsedObject[u'internalVolt'] = byteToInt(data[156:157])\n",
    "    parsedObject[u'lastSongId'] = byteToInt(data[157:158])\n",
    "\n",
    "    # if vehicleId != None:\n",
    "    #     parsedObject[u'vehicleId'] = vehicleId\n",
    "    # if driverId != None:\n",
    "    #     parsedObject[u'driverId'] = driverId\n",
    "    for key,value in parsedObject.items():\n",
    "        print(f\"{key}={value}\")\n",
    "    print(parsedObject)"
   ]
  },
  {
   "cell_type": "code",
   "execution_count": 3,
   "id": "1f0acc77",
   "metadata": {},
   "outputs": [],
   "source": [
    "data=bytearray(b'!\\x00\\xa0\\x00\\x01\\x00\\x0c:*\\x14\\x16\\x07\\x1eGP10888888888888881\\x17\\x07A\\x00\\x00\\x00|\\x01\\x00\\x0c:*\\x14\\x16\\x07\\x1e\\x00\\x00\\x01\\xf4?\\xe5\\xc7C\\x00\\x00\\x00\\x00\\x00\\x00\\x00\\x06\\x01^\\x00\\x17|\\xf6\\x00\\x86\\n\\x86\\x0117.36854000078.429010000)\\\\?@\\x00\\x02\\x00\\x05\\x00\\x01\\x00\\x03\\x00\\n\\x00\\x07\\x00\\x04\\x00\\x00\\x00\\x01\\x00\\x03\\x00\\x00\\x00\\x08\\x00\\x02\\x00\\x01\\x00\\t\\x00\\x03\\x00\\x04\\x00\\n\\x00 \\x00 \\x00\\x00\\x00\\x00\\x00\\x00\\x00\\x00\\x00\\x00\\x00\\x00\\x0c\\x04\\xde\\xff\\xff')"
   ]
  },
  {
   "cell_type": "code",
   "execution_count": 7,
   "id": "8f39b76e",
   "metadata": {},
   "outputs": [
    {
     "data": {
      "text/plain": [
       "(2.990000009536743, 3.2699999809265137)"
      ]
     },
     "execution_count": 7,
     "metadata": {},
     "output_type": "execute_result"
    }
   ],
   "source": [
    "speed = data[99:103]\n",
    "hex2float(speed),hex2float(b'\\xaeGQ@')"
   ]
  },
  {
   "cell_type": "code",
   "execution_count": 94,
   "id": "54cb7381",
   "metadata": {},
   "outputs": [],
   "source": [
    "data=bytearray(b'!\\x00\\xa0\\x00\\x01\\x00\\x12\\x191\\x14\\x16\\x07\\x1aGP10888888888888881\\xcd.A\\x00\\x00\\x00|\\x01\\x00\\x12\\x191\\x14\\x16\\x07\\x1a\\x00\\x00\\x01\\xf4\\x00\\x00\\x01\\xa4\\x00\\x00\\x00\\x00\\x00\\x00\\x00\\x06\\x01^\\x00\\x17|\\xf6\\x80\\x86\\n\\x86\\x0117.36854000078.429010000\\x1f\\x85;@\\x00\\x06\\x00\\x03\\x00\\x08\\x00\\x08\\x00\\x04\\x00\\x05\\x00\\x0c\\x00\\x06\\x00\\x0b\\x00\\x07\\x00\\x01\\x00\\x08\\x00\\x03\\x00\\x05\\x00\\x02\\x00\\t\\x00\\x08\\x00\\x07\\x00 \\x00 \\x00\\x00\\x00\\x00\\x00\\x00\\x00\\x00\\x00\\x00\\x00\\x00\\x0c\\x04\\xde\\xff\\xff')\n",
    "subframe=data[34:len(data)-2]\n"
   ]
  },
  {
   "cell_type": "code",
   "execution_count": 95,
   "id": "4481912c",
   "metadata": {
    "scrolled": true
   },
   "outputs": [
    {
     "data": {
      "text/plain": [
       "bytearray(b'888888888888881')"
      ]
     },
     "execution_count": 95,
     "metadata": {},
     "output_type": "execute_result"
    }
   ],
   "source": [
    "# oo=str(byteToInt(data[4:5]))\n",
    "# hh = str(byteToInt(data[5:6]))\n",
    "# mm = str(byteToInt(data[6:7]))\n",
    "# ss = str(byteToInt(data[7:8]))\n",
    "# DD = str(byteToInt(data[12:13]))\n",
    "# MM = str(byteToInt(data[11:12]))\n",
    "# YYYY=str(byteToInt(data[9:10]))+str(byteToInt(data[10:11]))\n",
    "\n",
    "# hh+mm+ss,YYYY+MM+DD\n",
    "# int.from_bytes(Data, \"big\")\n",
    "data[17:32]"
   ]
  },
  {
   "cell_type": "code",
   "execution_count": 96,
   "id": "3d9d5a26",
   "metadata": {},
   "outputs": [
    {
     "data": {
      "text/plain": [
       "160"
      ]
     },
     "execution_count": 96,
     "metadata": {},
     "output_type": "execute_result"
    }
   ],
   "source": [
    "len(bytearray(b'!\\x00\\xa0\\x00\\x01\\x00\\x12\\x191\\x14\\x16\\x07\\x1aGP10888888888888881\\xcd.A\\x00\\x00\\x00|\\x01\\x00\\x12\\x191\\x14\\x16\\x07\\x1a\\x00\\x00\\x01\\xf4\\x00\\x00\\x01\\xa4\\x00\\x00\\x00\\x00\\x00\\x00\\x00\\x06\\x01^\\x00\\x17|\\xf6\\x80\\x86\\n\\x86\\x0117.36854000078.429010000\\x1f\\x85;@\\x00\\x06\\x00\\x03\\x00\\x08\\x00\\x08\\x00\\x04\\x00\\x05\\x00\\x0c\\x00\\x06\\x00\\x0b\\x00\\x07\\x00\\x01\\x00\\x08\\x00\\x03\\x00\\x05\\x00\\x02\\x00\\t\\x00\\x08\\x00\\x07\\x00 \\x00 \\x00\\x00\\x00\\x00\\x00\\x00\\x00\\x00\\x00\\x00\\x00\\x00\\x0c\\x04\\xde\\xff\\xff'))"
   ]
  },
  {
   "cell_type": "code",
   "execution_count": 62,
   "id": "e4630734",
   "metadata": {
    "scrolled": true
   },
   "outputs": [
    {
     "data": {
      "text/plain": [
       "bytearray(b'\\x00')"
      ]
     },
     "execution_count": 62,
     "metadata": {},
     "output_type": "execute_result"
    }
   ],
   "source": [
    "data[5:6]"
   ]
  },
  {
   "cell_type": "code",
   "execution_count": 51,
   "id": "8e5b58ad",
   "metadata": {
    "scrolled": true
   },
   "outputs": [
    {
     "data": {
      "text/plain": [
       "159"
      ]
     },
     "execution_count": 51,
     "metadata": {},
     "output_type": "execute_result"
    }
   ],
   "source": [
    "len(bytearray(b'!\\x00\\xa0\\x00\\x01\\x00\\x12\\n\\t\\x14\\x16\\x07\\x1aGP1088888888888881\\x1c\\x18A\\x00\\x00\\x00|\\x01\\x00\\x12\\n\\t\\x14\\x16\\x07\\x1a\\x00\\x00\\x01\\xf4\\x00\\x00\\x01\\xa4\\x00\\x00\\x00\\x00\\x00\\x00\\x00\\x06\\x01^\\x00\\x17|\\xf6\\x80\\x86\\n\\x86\\x0117.36854000078.429010000\\x9a\\x99)@\\x00\\n\\x00\\t\\x00\\x07\\x00\\n\\x00\\x05\\x00\\x07\\x00\\x01\\x00\\x05\\x00\\x0c\\x00\\x07\\x00\\x00\\x00\\x02\\x00\\x0c\\x00\\x03\\x00\\x0b\\x00\\x01\\x00\\x01\\x00\\t\\x00 \\x00 \\x00\\x00\\x00\\x00\\x00\\x00\\x00\\x00\\x00\\x00\\x00\\x00\\x0c\\x04\\xde\\xff\\xff'))"
   ]
  },
  {
   "cell_type": "code",
   "execution_count": 29,
   "id": "4c3b984e",
   "metadata": {},
   "outputs": [],
   "source": [
    "DD = str(byteToInt(data[47:48]))\n",
    "MM = str(byteToInt(data[46:47]))\n",
    "YYYY = str(byteToInt(\n",
    "data[44:45]) * 100 + byteToInt(data[45:46]))\n",
    "hh = str(byteToInt(data[40:42]))\n",
    "mm = str(byteToInt(data[42:43]))\n",
    "ss = str(byteToInt(data[43:44]))"
   ]
  },
  {
   "cell_type": "code",
   "execution_count": 30,
   "id": "d994f360",
   "metadata": {},
   "outputs": [
    {
     "data": {
      "text/plain": [
       "'26'"
      ]
     },
     "execution_count": 30,
     "metadata": {},
     "output_type": "execute_result"
    }
   ],
   "source": [
    "MM"
   ]
  },
  {
   "cell_type": "code",
   "execution_count": 5,
   "id": "cdd336d6",
   "metadata": {
    "scrolled": true
   },
   "outputs": [
    {
     "ename": "ValueError",
     "evalue": "time data '0 26 2207 4107 57 20' does not match format '%d %m %Y %H %M %S'",
     "output_type": "error",
     "traceback": [
      "\u001b[0;31m---------------------------------------------------------------------------\u001b[0m",
      "\u001b[0;31mValueError\u001b[0m                                Traceback (most recent call last)",
      "Input \u001b[0;32mIn [5]\u001b[0m, in \u001b[0;36m<cell line: 1>\u001b[0;34m()\u001b[0m\n\u001b[0;32m----> 1\u001b[0m \u001b[43mparseme\u001b[49m\u001b[43m(\u001b[49m\u001b[43mdata\u001b[49m\u001b[43m)\u001b[49m\n",
      "Input \u001b[0;32mIn [2]\u001b[0m, in \u001b[0;36mparseme\u001b[0;34m(data)\u001b[0m\n\u001b[1;32m     18\u001b[0m ss \u001b[38;5;241m=\u001b[39m \u001b[38;5;28mstr\u001b[39m(byteToInt(data[\u001b[38;5;241m43\u001b[39m:\u001b[38;5;241m44\u001b[39m]))\n\u001b[1;32m     19\u001b[0m dateString \u001b[38;5;241m=\u001b[39m DD \u001b[38;5;241m+\u001b[39m \u001b[38;5;124m\"\u001b[39m\u001b[38;5;124m \u001b[39m\u001b[38;5;124m\"\u001b[39m \u001b[38;5;241m+\u001b[39m MM \u001b[38;5;241m+\u001b[39m \u001b[38;5;124m\"\u001b[39m\u001b[38;5;124m \u001b[39m\u001b[38;5;124m\"\u001b[39m \u001b[38;5;241m+\u001b[39m YYYY \u001b[38;5;241m+\u001b[39m \u001b[38;5;124m\"\u001b[39m\u001b[38;5;124m \u001b[39m\u001b[38;5;124m\"\u001b[39m \u001b[38;5;241m+\u001b[39m hh \u001b[38;5;241m+\u001b[39m \u001b[38;5;124m\"\u001b[39m\u001b[38;5;124m \u001b[39m\u001b[38;5;124m\"\u001b[39m \u001b[38;5;241m+\u001b[39m mm \u001b[38;5;241m+\u001b[39m \u001b[38;5;124m\"\u001b[39m\u001b[38;5;124m \u001b[39m\u001b[38;5;124m\"\u001b[39m \u001b[38;5;241m+\u001b[39m ss\n\u001b[0;32m---> 20\u001b[0m date \u001b[38;5;241m=\u001b[39m \u001b[43mdatetime\u001b[49m\u001b[38;5;241;43m.\u001b[39;49m\u001b[43mstrptime\u001b[49m\u001b[43m(\u001b[49m\u001b[43mdateString\u001b[49m\u001b[43m,\u001b[49m\u001b[43m \u001b[49m\u001b[38;5;124;43m\"\u001b[39;49m\u001b[38;5;132;43;01m%d\u001b[39;49;00m\u001b[38;5;124;43m \u001b[39;49m\u001b[38;5;124;43m%\u001b[39;49m\u001b[38;5;124;43mm \u001b[39;49m\u001b[38;5;124;43m%\u001b[39;49m\u001b[38;5;124;43mY \u001b[39;49m\u001b[38;5;124;43m%\u001b[39;49m\u001b[38;5;124;43mH \u001b[39;49m\u001b[38;5;124;43m%\u001b[39;49m\u001b[38;5;124;43mM \u001b[39;49m\u001b[38;5;124;43m%\u001b[39;49m\u001b[38;5;124;43mS\u001b[39;49m\u001b[38;5;124;43m\"\u001b[39;49m\u001b[43m)\u001b[49m\n\u001b[1;32m     21\u001b[0m \u001b[38;5;66;03m# --------------------NOTE For statusBitmap2--------------------------\u001b[39;00m\n\u001b[1;32m     23\u001b[0m statusBitmap2 \u001b[38;5;241m=\u001b[39m byteToInt(data[\u001b[38;5;241m69\u001b[39m:\u001b[38;5;241m70\u001b[39m])\n",
      "File \u001b[0;32m/usr/lib/python3.8/_strptime.py:568\u001b[0m, in \u001b[0;36m_strptime_datetime\u001b[0;34m(cls, data_string, format)\u001b[0m\n\u001b[1;32m    565\u001b[0m \u001b[38;5;28;01mdef\u001b[39;00m \u001b[38;5;21m_strptime_datetime\u001b[39m(\u001b[38;5;28mcls\u001b[39m, data_string, \u001b[38;5;28mformat\u001b[39m\u001b[38;5;241m=\u001b[39m\u001b[38;5;124m\"\u001b[39m\u001b[38;5;132;01m%a\u001b[39;00m\u001b[38;5;124m \u001b[39m\u001b[38;5;124m%\u001b[39m\u001b[38;5;124mb \u001b[39m\u001b[38;5;132;01m%d\u001b[39;00m\u001b[38;5;124m \u001b[39m\u001b[38;5;124m%\u001b[39m\u001b[38;5;124mH:\u001b[39m\u001b[38;5;124m%\u001b[39m\u001b[38;5;124mM:\u001b[39m\u001b[38;5;124m%\u001b[39m\u001b[38;5;124mS \u001b[39m\u001b[38;5;124m%\u001b[39m\u001b[38;5;124mY\u001b[39m\u001b[38;5;124m\"\u001b[39m):\n\u001b[1;32m    566\u001b[0m     \u001b[38;5;124;03m\"\"\"Return a class cls instance based on the input string and the\u001b[39;00m\n\u001b[1;32m    567\u001b[0m \u001b[38;5;124;03m    format string.\"\"\"\u001b[39;00m\n\u001b[0;32m--> 568\u001b[0m     tt, fraction, gmtoff_fraction \u001b[38;5;241m=\u001b[39m \u001b[43m_strptime\u001b[49m\u001b[43m(\u001b[49m\u001b[43mdata_string\u001b[49m\u001b[43m,\u001b[49m\u001b[43m \u001b[49m\u001b[38;5;28;43mformat\u001b[39;49m\u001b[43m)\u001b[49m\n\u001b[1;32m    569\u001b[0m     tzname, gmtoff \u001b[38;5;241m=\u001b[39m tt[\u001b[38;5;241m-\u001b[39m\u001b[38;5;241m2\u001b[39m:]\n\u001b[1;32m    570\u001b[0m     args \u001b[38;5;241m=\u001b[39m tt[:\u001b[38;5;241m6\u001b[39m] \u001b[38;5;241m+\u001b[39m (fraction,)\n",
      "File \u001b[0;32m/usr/lib/python3.8/_strptime.py:349\u001b[0m, in \u001b[0;36m_strptime\u001b[0;34m(data_string, format)\u001b[0m\n\u001b[1;32m    347\u001b[0m found \u001b[38;5;241m=\u001b[39m format_regex\u001b[38;5;241m.\u001b[39mmatch(data_string)\n\u001b[1;32m    348\u001b[0m \u001b[38;5;28;01mif\u001b[39;00m \u001b[38;5;129;01mnot\u001b[39;00m found:\n\u001b[0;32m--> 349\u001b[0m     \u001b[38;5;28;01mraise\u001b[39;00m \u001b[38;5;167;01mValueError\u001b[39;00m(\u001b[38;5;124m\"\u001b[39m\u001b[38;5;124mtime data \u001b[39m\u001b[38;5;132;01m%r\u001b[39;00m\u001b[38;5;124m does not match format \u001b[39m\u001b[38;5;132;01m%r\u001b[39;00m\u001b[38;5;124m\"\u001b[39m \u001b[38;5;241m%\u001b[39m\n\u001b[1;32m    350\u001b[0m                      (data_string, \u001b[38;5;28mformat\u001b[39m))\n\u001b[1;32m    351\u001b[0m \u001b[38;5;28;01mif\u001b[39;00m \u001b[38;5;28mlen\u001b[39m(data_string) \u001b[38;5;241m!=\u001b[39m found\u001b[38;5;241m.\u001b[39mend():\n\u001b[1;32m    352\u001b[0m     \u001b[38;5;28;01mraise\u001b[39;00m \u001b[38;5;167;01mValueError\u001b[39;00m(\u001b[38;5;124m\"\u001b[39m\u001b[38;5;124munconverted data remains: \u001b[39m\u001b[38;5;132;01m%s\u001b[39;00m\u001b[38;5;124m\"\u001b[39m \u001b[38;5;241m%\u001b[39m\n\u001b[1;32m    353\u001b[0m                       data_string[found\u001b[38;5;241m.\u001b[39mend():])\n",
      "\u001b[0;31mValueError\u001b[0m: time data '0 26 2207 4107 57 20' does not match format '%d %m %Y %H %M %S'"
     ]
    }
   ],
   "source": [
    "parseme(data)"
   ]
  },
  {
   "cell_type": "code",
   "execution_count": 6,
   "id": "b799ea8e",
   "metadata": {},
   "outputs": [
    {
     "data": {
      "text/plain": [
       "'88888888888881\\x02'"
      ]
     },
     "execution_count": 6,
     "metadata": {},
     "output_type": "execute_result"
    }
   ],
   "source": [
    " data[17:32].decode()"
   ]
  },
  {
   "cell_type": "code",
   "execution_count": null,
   "id": "4c9fa3e4",
   "metadata": {},
   "outputs": [],
   "source": []
  },
  {
   "cell_type": "code",
   "execution_count": null,
   "id": "2a69fea5",
   "metadata": {},
   "outputs": [],
   "source": []
  },
  {
   "cell_type": "code",
   "execution_count": null,
   "id": "5fd77f5a",
   "metadata": {},
   "outputs": [],
   "source": []
  },
  {
   "cell_type": "code",
   "execution_count": 69,
   "id": "ce070c26",
   "metadata": {},
   "outputs": [
    {
     "data": {
      "text/plain": [
       "0.4000000059604645"
      ]
     },
     "execution_count": 69,
     "metadata": {},
     "output_type": "execute_result"
    }
   ],
   "source": [
    "data[99:103]\n",
    "hex2float(data[99:103])"
   ]
  },
  {
   "cell_type": "code",
   "execution_count": 75,
   "id": "215019a1",
   "metadata": {},
   "outputs": [
    {
     "data": {
      "text/plain": [
       "(12.864749908447266,)"
      ]
     },
     "execution_count": 75,
     "metadata": {},
     "output_type": "execute_result"
    }
   ],
   "source": [
    "k=12.86475\n",
    "a = bytearray(struct.pack(\">f\", k))  \n",
    "struct.unpack('>f', a)"
   ]
  },
  {
   "cell_type": "code",
   "execution_count": 6,
   "id": "563ea7ef",
   "metadata": {
    "scrolled": true
   },
   "outputs": [
    {
     "ename": "ValueError",
     "evalue": "time data '0 0 0 0 0 0' does not match format '%d %m %Y %H %M %S'",
     "output_type": "error",
     "traceback": [
      "\u001b[0;31m---------------------------------------------------------------------------\u001b[0m",
      "\u001b[0;31mValueError\u001b[0m                                Traceback (most recent call last)",
      "Input \u001b[0;32mIn [6]\u001b[0m, in \u001b[0;36m<cell line: 2>\u001b[0;34m()\u001b[0m\n\u001b[1;32m      1\u001b[0m \u001b[38;5;66;03m# data[15:30]\u001b[39;00m\n\u001b[0;32m----> 2\u001b[0m \u001b[43mparseme\u001b[49m\u001b[43m(\u001b[49m\u001b[43mdata\u001b[49m\u001b[43m)\u001b[49m\n",
      "Input \u001b[0;32mIn [3]\u001b[0m, in \u001b[0;36mparseme\u001b[0;34m(data)\u001b[0m\n\u001b[1;32m     18\u001b[0m ss \u001b[38;5;241m=\u001b[39m \u001b[38;5;28mstr\u001b[39m(byteToInt(data[\u001b[38;5;241m43\u001b[39m:\u001b[38;5;241m44\u001b[39m]))\n\u001b[1;32m     19\u001b[0m dateString \u001b[38;5;241m=\u001b[39m DD \u001b[38;5;241m+\u001b[39m \u001b[38;5;124m\"\u001b[39m\u001b[38;5;124m \u001b[39m\u001b[38;5;124m\"\u001b[39m \u001b[38;5;241m+\u001b[39m MM \u001b[38;5;241m+\u001b[39m \u001b[38;5;124m\"\u001b[39m\u001b[38;5;124m \u001b[39m\u001b[38;5;124m\"\u001b[39m \u001b[38;5;241m+\u001b[39m YYYY \u001b[38;5;241m+\u001b[39m \u001b[38;5;124m\"\u001b[39m\u001b[38;5;124m \u001b[39m\u001b[38;5;124m\"\u001b[39m \u001b[38;5;241m+\u001b[39m hh \u001b[38;5;241m+\u001b[39m \u001b[38;5;124m\"\u001b[39m\u001b[38;5;124m \u001b[39m\u001b[38;5;124m\"\u001b[39m \u001b[38;5;241m+\u001b[39m mm \u001b[38;5;241m+\u001b[39m \u001b[38;5;124m\"\u001b[39m\u001b[38;5;124m \u001b[39m\u001b[38;5;124m\"\u001b[39m \u001b[38;5;241m+\u001b[39m ss\n\u001b[0;32m---> 20\u001b[0m date \u001b[38;5;241m=\u001b[39m \u001b[43mdatetime\u001b[49m\u001b[38;5;241;43m.\u001b[39;49m\u001b[43mstrptime\u001b[49m\u001b[43m(\u001b[49m\u001b[43mdateString\u001b[49m\u001b[43m,\u001b[49m\u001b[43m \u001b[49m\u001b[38;5;124;43m\"\u001b[39;49m\u001b[38;5;132;43;01m%d\u001b[39;49;00m\u001b[38;5;124;43m \u001b[39;49m\u001b[38;5;124;43m%\u001b[39;49m\u001b[38;5;124;43mm \u001b[39;49m\u001b[38;5;124;43m%\u001b[39;49m\u001b[38;5;124;43mY \u001b[39;49m\u001b[38;5;124;43m%\u001b[39;49m\u001b[38;5;124;43mH \u001b[39;49m\u001b[38;5;124;43m%\u001b[39;49m\u001b[38;5;124;43mM \u001b[39;49m\u001b[38;5;124;43m%\u001b[39;49m\u001b[38;5;124;43mS\u001b[39;49m\u001b[38;5;124;43m\"\u001b[39;49m\u001b[43m)\u001b[49m\n\u001b[1;32m     21\u001b[0m \u001b[38;5;66;03m# --------------------NOTE For statusBitmap2--------------------------\u001b[39;00m\n\u001b[1;32m     23\u001b[0m statusBitmap2 \u001b[38;5;241m=\u001b[39m byteToInt(data[\u001b[38;5;241m69\u001b[39m:\u001b[38;5;241m70\u001b[39m])\n",
      "File \u001b[0;32m/usr/lib/python3.8/_strptime.py:568\u001b[0m, in \u001b[0;36m_strptime_datetime\u001b[0;34m(cls, data_string, format)\u001b[0m\n\u001b[1;32m    565\u001b[0m \u001b[38;5;28;01mdef\u001b[39;00m \u001b[38;5;21m_strptime_datetime\u001b[39m(\u001b[38;5;28mcls\u001b[39m, data_string, \u001b[38;5;28mformat\u001b[39m\u001b[38;5;241m=\u001b[39m\u001b[38;5;124m\"\u001b[39m\u001b[38;5;132;01m%a\u001b[39;00m\u001b[38;5;124m \u001b[39m\u001b[38;5;124m%\u001b[39m\u001b[38;5;124mb \u001b[39m\u001b[38;5;132;01m%d\u001b[39;00m\u001b[38;5;124m \u001b[39m\u001b[38;5;124m%\u001b[39m\u001b[38;5;124mH:\u001b[39m\u001b[38;5;124m%\u001b[39m\u001b[38;5;124mM:\u001b[39m\u001b[38;5;124m%\u001b[39m\u001b[38;5;124mS \u001b[39m\u001b[38;5;124m%\u001b[39m\u001b[38;5;124mY\u001b[39m\u001b[38;5;124m\"\u001b[39m):\n\u001b[1;32m    566\u001b[0m     \u001b[38;5;124;03m\"\"\"Return a class cls instance based on the input string and the\u001b[39;00m\n\u001b[1;32m    567\u001b[0m \u001b[38;5;124;03m    format string.\"\"\"\u001b[39;00m\n\u001b[0;32m--> 568\u001b[0m     tt, fraction, gmtoff_fraction \u001b[38;5;241m=\u001b[39m \u001b[43m_strptime\u001b[49m\u001b[43m(\u001b[49m\u001b[43mdata_string\u001b[49m\u001b[43m,\u001b[49m\u001b[43m \u001b[49m\u001b[38;5;28;43mformat\u001b[39;49m\u001b[43m)\u001b[49m\n\u001b[1;32m    569\u001b[0m     tzname, gmtoff \u001b[38;5;241m=\u001b[39m tt[\u001b[38;5;241m-\u001b[39m\u001b[38;5;241m2\u001b[39m:]\n\u001b[1;32m    570\u001b[0m     args \u001b[38;5;241m=\u001b[39m tt[:\u001b[38;5;241m6\u001b[39m] \u001b[38;5;241m+\u001b[39m (fraction,)\n",
      "File \u001b[0;32m/usr/lib/python3.8/_strptime.py:349\u001b[0m, in \u001b[0;36m_strptime\u001b[0;34m(data_string, format)\u001b[0m\n\u001b[1;32m    347\u001b[0m found \u001b[38;5;241m=\u001b[39m format_regex\u001b[38;5;241m.\u001b[39mmatch(data_string)\n\u001b[1;32m    348\u001b[0m \u001b[38;5;28;01mif\u001b[39;00m \u001b[38;5;129;01mnot\u001b[39;00m found:\n\u001b[0;32m--> 349\u001b[0m     \u001b[38;5;28;01mraise\u001b[39;00m \u001b[38;5;167;01mValueError\u001b[39;00m(\u001b[38;5;124m\"\u001b[39m\u001b[38;5;124mtime data \u001b[39m\u001b[38;5;132;01m%r\u001b[39;00m\u001b[38;5;124m does not match format \u001b[39m\u001b[38;5;132;01m%r\u001b[39;00m\u001b[38;5;124m\"\u001b[39m \u001b[38;5;241m%\u001b[39m\n\u001b[1;32m    350\u001b[0m                      (data_string, \u001b[38;5;28mformat\u001b[39m))\n\u001b[1;32m    351\u001b[0m \u001b[38;5;28;01mif\u001b[39;00m \u001b[38;5;28mlen\u001b[39m(data_string) \u001b[38;5;241m!=\u001b[39m found\u001b[38;5;241m.\u001b[39mend():\n\u001b[1;32m    352\u001b[0m     \u001b[38;5;28;01mraise\u001b[39;00m \u001b[38;5;167;01mValueError\u001b[39;00m(\u001b[38;5;124m\"\u001b[39m\u001b[38;5;124munconverted data remains: \u001b[39m\u001b[38;5;132;01m%s\u001b[39;00m\u001b[38;5;124m\"\u001b[39m \u001b[38;5;241m%\u001b[39m\n\u001b[1;32m    353\u001b[0m                       data_string[found\u001b[38;5;241m.\u001b[39mend():])\n",
      "\u001b[0;31mValueError\u001b[0m: time data '0 0 0 0 0 0' does not match format '%d %m %Y %H %M %S'"
     ]
    }
   ],
   "source": [
    "# data[15:30]\n",
    "parseme(data)"
   ]
  },
  {
   "cell_type": "code",
   "execution_count": null,
   "id": "8091398d",
   "metadata": {},
   "outputs": [],
   "source": []
  },
  {
   "cell_type": "code",
   "execution_count": 45,
   "id": "483207d9",
   "metadata": {},
   "outputs": [
    {
     "data": {
      "text/plain": [
       "bytearray(b'\\xab\\xbe\\x1fE')"
      ]
     },
     "execution_count": 45,
     "metadata": {},
     "output_type": "execute_result"
    }
   ],
   "source": [
    "import struct\n",
    "\n",
    "value = 2555.91664673\n",
    "\n",
    "ba = bytearray(struct.pack(\"f\", value))  \n",
    "ba"
   ]
  },
  {
   "cell_type": "code",
   "execution_count": 46,
   "id": "3f0581ee",
   "metadata": {},
   "outputs": [
    {
     "data": {
      "text/plain": [
       "(2555.916748046875,)"
      ]
     },
     "execution_count": 46,
     "metadata": {},
     "output_type": "execute_result"
    }
   ],
   "source": [
    "struct.unpack('f', ba)"
   ]
  },
  {
   "cell_type": "code",
   "execution_count": 33,
   "id": "c30c4aca",
   "metadata": {
    "scrolled": true
   },
   "outputs": [
    {
     "data": {
      "text/plain": [
       "'0x1.7666666666666p+4'"
      ]
     },
     "execution_count": 33,
     "metadata": {},
     "output_type": "execute_result"
    }
   ],
   "source": [
    "float.hex(23.4)"
   ]
  },
  {
   "cell_type": "code",
   "execution_count": 1,
   "id": "52cc622d",
   "metadata": {},
   "outputs": [],
   "source": [
    "deviceStream:888888888888804"
   ]
  },
  {
   "cell_type": "code",
   "execution_count": 5,
   "id": "8349fd66",
   "metadata": {},
   "outputs": [],
   "source": [
    "data={\n",
    "  \"data\": \"%,337,GP12,888888888888804,130403,20230123,03192,03192,*XD,0000,00,00000,0000,0000,00000,0000,0000,80#,1,1744.2214,N,07838.1710,E,004.35,130403,20230123,0000,0000,0000,020,020,020,030,24,1,$ 02353,*XD,0000,00,00000,0000,0000,00000,0000,0000,80#,1,1744.2212,N,07838.1640,E,001.08,185012,20230122,0000,0000,0000,020,020,020,030,24,1,$29093\"\n",
    "}"
   ]
  },
  {
   "cell_type": "code",
   "execution_count": 6,
   "id": "4dfea9ee",
   "metadata": {},
   "outputs": [],
   "source": [
    "packetList=[]\n",
    "for packet in data['data'].split('$')[:-1]:\n",
    "        if len(packet) and packet[6] == '*':\n",
    "            packetList.append(header+packet+'$')"
   ]
  },
  {
   "cell_type": "code",
   "execution_count": 7,
   "id": "cebeaa55",
   "metadata": {},
   "outputs": [
    {
     "data": {
      "text/plain": [
       "[]"
      ]
     },
     "execution_count": 7,
     "metadata": {},
     "output_type": "execute_result"
    }
   ],
   "source": [
    "packetList"
   ]
  },
  {
   "cell_type": "code",
   "execution_count": 9,
   "id": "aa86e8a2",
   "metadata": {},
   "outputs": [],
   "source": [
    "data2=b\"%,337,GP12,888888888888804,130909,20230123,03277,03277,*XD,0000,00,00000,0000,0000,00000,0000,0000,80#,1,1744.2203,N,07838.1633,E,001.19,130909,20230123,0000,0000,0000,020,020,020,030,24,1,$\""
   ]
  },
  {
   "cell_type": "code",
   "execution_count": 11,
   "id": "bde0632e",
   "metadata": {},
   "outputs": [
    {
     "data": {
      "text/plain": [
       "b'%,337,GP12,888888888888804,130909,20230123,03277,03277,*XD,0000,00,00000,0000,0000,00000,0000,0000,80#,1,1744.2203,N,07838.1633,E,001.19,130909,20230123,0000,0000,0000,020,020,020,030,24,1,$'"
      ]
     },
     "execution_count": 11,
     "metadata": {},
     "output_type": "execute_result"
    }
   ],
   "source": [
    "data2"
   ]
  },
  {
   "cell_type": "code",
   "execution_count": 12,
   "id": "56b9fe32",
   "metadata": {},
   "outputs": [],
   "source": [
    "data1=\"%,334,GP12,869867033162936,120432,20221227,21595,21595,*XD,0000,00,00000,0000,0000,00000,0000,0000,00#,0,1719.4003,N,8207.2537,E,001.81,120432,20221227,0000,0000,0000,020,020,020,030,24,1,$\""
   ]
  },
  {
   "cell_type": "code",
   "execution_count": 15,
   "id": "8fcae928",
   "metadata": {},
   "outputs": [],
   "source": [
    "data18804=b'%,337,GP12,888888888888804,131946,20230123,03461,03461,*XD,0000,00,00000,0000,0000,00000,0000,0000,80#,1,1744.2201,N,07838.1593,E,001.82,131946,20230123,0000,0000,0000,020,020,020,030,24,1,$ 06367,*XD,0000,00,00000,0000,0000,00000,0000,0000,80#,1,0000.0000,0,00000.0000,0,000.00,000080,20000101,0000,0000,0000,020,020,020,030,24,1,$52139'"
   ]
  },
  {
   "cell_type": "code",
   "execution_count": 16,
   "id": "9bfb32bb",
   "metadata": {},
   "outputs": [
    {
     "data": {
      "text/plain": [
       "b'%,337,GP12,888888888888804,131946,20230123,03461,03461,*XD,0000,00,00000,0000,0000,00000,0000,0000,80#,1,1744.2201,N,07838.1593,E,001.82,131946,20230123,0000,0000,0000,020,020,020,030,24,1,$ 06367,*XD,0000,00,00000,0000,0000,00000,0000,0000,80#,1,0000.0000,0,00000.0000,0,000.00,000080,20000101,0000,0000,0000,020,020,020,030,24,1,$52139'"
      ]
     },
     "execution_count": 16,
     "metadata": {},
     "output_type": "execute_result"
    }
   ],
   "source": [
    "data18804"
   ]
  },
  {
   "cell_type": "code",
   "execution_count": 5,
   "id": "48140773",
   "metadata": {},
   "outputs": [],
   "source": [
    "def parseme(data):\n",
    "    header=data[0:49].decode()\n",
    "    Data = data[49:].decode()\n",
    "    print(f\"header=={header},Data=={Data}\")\n",
    "    print(\"data========\",data)\n",
    "    packetList=[]\n",
    "    for packet in Data.split('$')[:-1]:\n",
    "        print(\"packte===\",packet)\n",
    "        if len(packet) and packet[6] == '*':\n",
    "            packetList.append(header+packet+'$')\n",
    "    return packetList"
   ]
  },
  {
   "cell_type": "code",
   "execution_count": 8,
   "id": "4e6b3bcc",
   "metadata": {},
   "outputs": [
    {
     "name": "stdout",
     "output_type": "stream",
     "text": [
      "header==%,336,GP12,888888888888804,133112,20230127,00197,,Data==00197,*XD,0000,00,00000,0000,0000,00000,0000,0000,80#,1,1744.2114,N,07838.1575,E,000.58,133112,20230127,0000,0000,0000,020,020,020,030,24,1,$00000,*XD,0000,00,00000,0000,0000,00000,0000,0000,80#,1,0000.0000,0,00000.0000,0,000.00,132033,20230127,0000,0000,0000,020,020,020,030,24,1,$56813\n",
      "data======== b'%,336,GP12,888888888888804,133112,20230127,00197,00197,*XD,0000,00,00000,0000,0000,00000,0000,0000,80#,1,1744.2114,N,07838.1575,E,000.58,133112,20230127,0000,0000,0000,020,020,020,030,24,1,$00000,*XD,0000,00,00000,0000,0000,00000,0000,0000,80#,1,0000.0000,0,00000.0000,0,000.00,132033,20230127,0000,0000,0000,020,020,020,030,24,1,$56813'\n",
      "packte=== 00197,*XD,0000,00,00000,0000,0000,00000,0000,0000,80#,1,1744.2114,N,07838.1575,E,000.58,133112,20230127,0000,0000,0000,020,020,020,030,24,1,\n",
      "packte=== 00000,*XD,0000,00,00000,0000,0000,00000,0000,0000,80#,1,0000.0000,0,00000.0000,0,000.00,132033,20230127,0000,0000,0000,020,020,020,030,24,1,\n"
     ]
    }
   ],
   "source": [
    "data=b'%,336,GP12,888888888888804,133112,20230127,00197,00197,*XD,0000,00,00000,0000,0000,00000,0000,0000,80#,1,1744.2114,N,07838.1575,E,000.58,133112,20230127,0000,0000,0000,020,020,020,030,24,1,$00000,*XD,0000,00,00000,0000,0000,00000,0000,0000,80#,1,0000.0000,0,00000.0000,0,000.00,132033,20230127,0000,0000,0000,020,020,020,030,24,1,$56813'\n",
    "pkts=parseme(data)\n"
   ]
  },
  {
   "cell_type": "code",
   "execution_count": 25,
   "id": "86ae70d0",
   "metadata": {},
   "outputs": [],
   "source": [
    "import datetime as dt \n",
    "def parseMessage(data):\n",
    "    data=data.split(',')\n",
    "    date = None        \n",
    "    parsedObject = {\n",
    "        u'imei': data[3],\n",
    "        u'counter': data[7],\n",
    "        u'protocolVersion': data[2],\n",
    "    }\n",
    "    fuelHeight=int(data[14])*(0.1)\n",
    "    parsedObject[u'fuelHeight']=fuelHeight\n",
    "    invalidFuelRead=\"*XD,0000,00,00000,0000,0000,00000,0000,0000\"\n",
    "    fuelSensorRead=\",\".join(data[8:17])\n",
    "    if invalidFuelRead==fuelSensorRead:\n",
    "        parsedObject[u'dieselVol']=-1\n",
    "        parsedObject[u'fuelHeight']=-1\n",
    "\n",
    "    date_t=data[25]\n",
    "    YYYY =date_t[0:4]\n",
    "    MM =  date_t[4:6]\n",
    "    DD = date_t[6:8]\n",
    "    time_t=data[24]\n",
    "    hh = time_t[0:2]\n",
    "    mm = time_t[2:4]\n",
    "    ss = time_t[4:6]\n",
    "    date=dt.datetime(int(YYYY),int(MM),int(DD),int(hh),int(mm),int(ss))\n",
    "    parsedObject[u'timestamp'] = date\n",
    "\n",
    "    parsedObject[u'isGpsValid'] = int(data[34])\n",
    "    parsedObject[u'isIgnitionOn'] = int(data[18])\n",
    "    if parsedObject[u'isGpsValid'] == 1 :\n",
    "        lat,lng=data[19],data[21]\n",
    "        rawLat = (lat[0:2]+\".\"+str(float(lat[2:])/60).split('.')[1])[0:12]\n",
    "        rawLng = (lng[0:2]+\".\"+str(float(lng[2:])/60).split('.')[1])[0:12]\n",
    "        rawLat=rawLat if (data[20]==\"N\" or \"E\") else -rawLat\n",
    "        rawLng=rawLng if (data[22]==\"N\" or \"E\") else -rawLng\n",
    "        speed = float(data[23])\n",
    "        parsedObject[u'speed'] = speed\n",
    "        parsedObject[u'rawLat'] = rawLat\n",
    "        parsedObject[u'rawLng'] = rawLng\n",
    "    parsedObject[u'temperature'] = float(data[32])\n",
    "    parsedObject[u'acc_x1'] = float(data[29])\n",
    "    parsedObject[u'acc_y1'] = float(data[30])\n",
    "    parsedObject[u'acc_z1'] = float(data[31])\n",
    "    parsedObject[u'gyro_x1'] = float(data[26])\n",
    "    parsedObject[u'gyro_y1'] = float(data[27])\n",
    "    parsedObject[u'gyro_z1'] = float(data[28])\n",
    "    parsedObject[u'acc_x2'] = float(data[29])\n",
    "    parsedObject[u'acc_y2'] = float(data[30])\n",
    "    parsedObject[u'acc_z2'] = float(data[31])\n",
    "    parsedObject[u'gyro_x2'] = float(data[26])\n",
    "    parsedObject[u'gyro_y2'] = float(data[27])\n",
    "    parsedObject[u'gyro_z2'] = float(data[28])\n",
    "    parsedObject[u'acc_x3'] = float(data[29])\n",
    "    parsedObject[u'acc_y3'] = float(data[30])\n",
    "    parsedObject[u'acc_z3'] = float(data[31])\n",
    "    parsedObject[u'gyro_x3'] = float(data[26])\n",
    "    parsedObject[u'gyro_y3'] = float(data[27])\n",
    "    parsedObject[u'gyro_z3'] = float(data[28])\n",
    "    parsedObject[u'batteryVolt'] = float(data[33])\n",
    "    return parsedObject"
   ]
  },
  {
   "cell_type": "code",
   "execution_count": 26,
   "id": "4abbc285",
   "metadata": {},
   "outputs": [
    {
     "data": {
      "text/plain": [
       "'%,336,GP12,888888888888804,133112,20230127,00197,00197,*XD,0000,00,00000,0000,0000,00000,0000,0000,80#,1,1744.2114,N,07838.1575,E,000.58,133112,20230127,0000,0000,0000,020,020,020,030,24,1,$'"
      ]
     },
     "execution_count": 26,
     "metadata": {},
     "output_type": "execute_result"
    }
   ],
   "source": [
    "pkts[0]"
   ]
  },
  {
   "cell_type": "code",
   "execution_count": 27,
   "id": "b422d961",
   "metadata": {},
   "outputs": [
    {
     "data": {
      "text/plain": [
       "{'imei': '888888888888804',\n",
       " 'counter': '00197',\n",
       " 'protocolVersion': 'GP12',\n",
       " 'fuelHeight': -1,\n",
       " 'dieselVol': -1,\n",
       " 'timestamp': datetime.datetime(2023, 1, 27, 13, 31, 12),\n",
       " 'isGpsValid': 1,\n",
       " 'isIgnitionOn': 1,\n",
       " 'speed': 0.58,\n",
       " 'rawLat': '17.736856666',\n",
       " 'rawLng': '07.969291666',\n",
       " 'temperature': 30.0,\n",
       " 'acc_x1': 20.0,\n",
       " 'acc_y1': 20.0,\n",
       " 'acc_z1': 20.0,\n",
       " 'gyro_x1': 0.0,\n",
       " 'gyro_y1': 0.0,\n",
       " 'gyro_z1': 0.0,\n",
       " 'acc_x2': 20.0,\n",
       " 'acc_y2': 20.0,\n",
       " 'acc_z2': 20.0,\n",
       " 'gyro_x2': 0.0,\n",
       " 'gyro_y2': 0.0,\n",
       " 'gyro_z2': 0.0,\n",
       " 'acc_x3': 20.0,\n",
       " 'acc_y3': 20.0,\n",
       " 'acc_z3': 20.0,\n",
       " 'gyro_x3': 0.0,\n",
       " 'gyro_y3': 0.0,\n",
       " 'gyro_z3': 0.0,\n",
       " 'batteryVolt': 24.0}"
      ]
     },
     "execution_count": 27,
     "metadata": {},
     "output_type": "execute_result"
    }
   ],
   "source": [
    "parseMessage(pkts[0])"
   ]
  },
  {
   "cell_type": "code",
   "execution_count": null,
   "id": "2ef25c7d",
   "metadata": {},
   "outputs": [],
   "source": []
  }
 ],
 "metadata": {
  "kernelspec": {
   "display_name": "Python 3 (ipykernel)",
   "language": "python",
   "name": "python3"
  },
  "language_info": {
   "codemirror_mode": {
    "name": "ipython",
    "version": 3
   },
   "file_extension": ".py",
   "mimetype": "text/x-python",
   "name": "python",
   "nbconvert_exporter": "python",
   "pygments_lexer": "ipython3",
   "version": "3.10.6"
  }
 },
 "nbformat": 4,
 "nbformat_minor": 5
}
